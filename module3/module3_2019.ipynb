{
 "cells": [
  {
   "cell_type": "markdown",
   "metadata": {},
   "source": [
    "# Module 3: Generalized Least Squares (GLS), Instrumental Variables (IV), Vector Autoregressions (VARs), and Maximum Likelihood Estimation (MLE)"
   ]
  },
  {
   "cell_type": "markdown",
   "metadata": {},
   "source": [
    "In this module, we will look at examples that implement Generalized Least Squares (OLS), Instrumental Variables (IV), Vector autoregressions (VARs), as well as Maximum Likelihood Estimation (MLE).\n",
    "\n",
    "**Note:** If running the cell block right below gives the following warning: ``FutureWarning: Using a non-tuple sequence for multidimensional indexing is deprecated...``, then this is an issue with the ``scipy`` library. Please update this library by running the following code in your Jupyter notebook:\n",
    "``!pip install --upgrade scipy``"
   ]
  },
  {
   "cell_type": "code",
   "execution_count": 1,
   "metadata": {
    "collapsed": true
   },
   "outputs": [],
   "source": [
    "### Imports\n",
    "from __future__ import print_function, division\n",
    "\n",
    "import pandas as pd\n",
    "import numpy as np\n",
    "import scipy\n",
    "import scipy.stats\n",
    "import math\n",
    "\n",
    "import statsmodels.api as sm\n",
    "from statsmodels.sandbox.regression import gmm\n",
    "from statsmodels import tsa\n",
    "from statsmodels.tsa.vector_ar.hypothesis_test_results import CausalityTestResults\n",
    "from datetime import date, datetime, timedelta\n",
    "import copy\n",
    "\n",
    "from cycler import cycler\n",
    "from matplotlib import rc\n",
    "import matplotlib.pyplot as plt\n",
    "import matplotlib.patches as patches\n",
    "import matplotlib as mpl\n",
    "import matplotlib.dates\n",
    "\n",
    "### Plotting and display options\n",
    "np.set_printoptions(precision=3)\n",
    "pd.set_option('precision', 3)\n",
    "pd.set_option('display.float_format', lambda x: '%.3f' % x)\n",
    "pd.options.display.float_format = '{:,.3f}'.format\n",
    "\n",
    "plt.style.use('ggplot')\n",
    "rc('text', usetex=False)\n",
    "mpl.rcParams['lines.linewidth'] = 1.5\n",
    "mpl.rcParams['lines.color'] = 'blue'\n",
    "mpl.rcParams['axes.prop_cycle'] = cycler('color', ['#30a2da', '#e5ae38', '#fc4f30', '#6d904f', '#8b8b8b'])\n",
    "mpl.rcParams['legend.fancybox'] = True\n",
    "mpl.rcParams['legend.fontsize'] = 14\n",
    "mpl.rcParams['axes.facecolor'] = '#f0f0f0'\n",
    "mpl.rcParams['axes.labelsize'] = 15\n",
    "mpl.rcParams['axes.axisbelow'] = True\n",
    "mpl.rcParams['axes.linewidth'] = 1.2\n",
    "mpl.rcParams['axes.labelpad'] = 0.0\n",
    "mpl.rcParams['axes.xmargin'] = 0.05  # x margin.  See `axes.Axes.margins`\n",
    "mpl.rcParams['axes.ymargin'] = 0.05  # y margin See `axes.Axes.margins`\n",
    "mpl.rcParams['xtick.labelsize'] = 22\n",
    "mpl.rcParams['ytick.labelsize'] = 22\n",
    "mpl.rcParams['figure.subplot.left'] = 0.08\n",
    "mpl.rcParams['figure.subplot.right'] = 0.95\n",
    "mpl.rcParams['figure.subplot.bottom'] = 0.07\n",
    "\n",
    "### Figure configuration\n",
    "fsize = (10,7.5) # figure size\n",
    "tsize = 18 # title font size\n",
    "lsize = 16 # legend font size\n",
    "csize = 14 # comment font size\n",
    "grid = True # grid\n",
    "\n",
    "### This allows plots to appear directly in the notebook\n",
    "%matplotlib inline"
   ]
  },
  {
   "cell_type": "markdown",
   "metadata": {},
   "source": [
    "## Example 1: GLS and Heteroskedasticty-Robust Standard Errors (SEs)\n",
    "\n",
    "Recall that for the **classical OLS model** we assume\n",
    "\n",
    "$$\n",
    "E\\left[ \\epsilon \\epsilon' | \\mathbf{X} \\right] = \\sigma^2 \\mathbf{I}\n",
    "$$\n",
    "in which case we estimate the variance of $\\hat{\\beta}_{OLS}$ as \n",
    "\n",
    "$$ \n",
    "\\hat{\\sigma}^2 \\left(  \\mathbf{X}'  \\mathbf{X}  \\right)^{-1} \n",
    "$$ \n",
    "\n",
    "where $\\hat{\\sigma}^2$ is the sample variance of the OLS residuals $\\hat{\\epsilon}$.\n",
    "\n",
    "If we're concerned that the errors are <u>not homoskedastic</u>, we estimate the variance-covariance matrix using the **White (robust) formula**:\n",
    "$$\n",
    "\\left(  \\mathbf{X}'  \\mathbf{X}  \\right)^{-1}\n",
    "\\left(  \\mathbf{X}' \\hat{\\Sigma}  \\mathbf{X}  \\right)\n",
    "\\left(  \\mathbf{X}'  \\mathbf{X}  \\right)^{-1}\n",
    "$$\n",
    "where $\\hat{\\Sigma}$ is a diagonal matrix with elements $\\hat{\\epsilon}_i^2$\n",
    "\n",
    "* In `statsmodels`, this amounts to using the chained method with `cov_type='HC0'`**:**\n",
    "`sm.OLS(y,X).fit(cov_type='HC0')`\n",
    "\n",
    "\n",
    "\n",
    "Another approach is via **Generalized Least Squares (GLS):**\n",
    "$$\n",
    "E\\left[ \\epsilon \\epsilon' | \\mathbf{X} \\right] = \\sigma^2 \\mathbf{D}\n",
    "$$\n",
    "\n",
    "where $\\mathbf{D}$ is assumed to be known. We transform the problem as:\n",
    "\n",
    "$$\n",
    "\\mathbf{D}^{-1} = \\mathbf{C}'\\mathbf{C} \\\\\n",
    "\\tilde{ \\mathbf{Y} } = \\mathbf{C} \\mathbf{Y} \\\\\n",
    "\\tilde{ \\mathbf{X} } = \\mathbf{C} \\mathbf{X} \\\\\n",
    "\\tilde{ \\mathbf{\\epsilon} } = \\mathbf{C} \\mathbf{\\epsilon} \\\\\n",
    "$$\n",
    "\n",
    "\n",
    "where the matrix $\\mathbf{D}$ is clearly symmetric and non-singular and matrix $\\mathbf{C}$ is non necessarily unique. We could use the [Cholesky decomposition](https://en.wikipedia.org/wiki/Cholesky_decomposition) to construct $\\mathbf{C}$ since $\\mathbf{D}$ will be positive-definite. \n",
    "\n",
    "Let's play around with an example:\n",
    "\n",
    "The function `sim_ar1_linear_trend_het_shocks` (shown below) simulates an AR($1$) model with a **linear time trend** and **heteroskedastic errors**:\n",
    "\n",
    "$$\n",
    "y_t = \\mu + \\alpha t + \\phi y_{t-1} + u_t \\\\\n",
    "u_t = \\sigma  \\epsilon_t t^b \\\\\n",
    "\\epsilon_t \\sim i.i.d. N(0, 1)\n",
    "$$\n",
    "\n",
    "where the parameter $b\\geq0$ represents the order in which $t$ enters the variance-covariance structure of the errors $u_t$. When $b=0$, we get the homoskedastic case, but when $b>0$ we will get heteroskedastic errors.\n",
    "\n",
    "Here, the time trend manifests itself in both the deterministic drift term $\\alpha t$ and the errors. The errors $u_t$ are independent Gaussian with zero mean, but the variance of $u_t$ is given by \n",
    "\n",
    "$$\n",
    "Var_t\\left[u_t\\right] = E_t\\left[u_t^2\\right] = (\\sigma t^b)^2\n",
    "$$\n",
    "\n",
    "i.e. $u_t \\sim N(0, \\sigma^2 t^{2b})$. Thus, we also have \n",
    "\n",
    "$$\n",
    "y_t \\sim N(\\phi y_{t-1}, \\sigma^2 t^{2b})\n",
    "$$\n",
    "\n",
    "Assuming we start at $t=1$ and have $T$ sample periods, the variance-covariance matrix $E\\left[ u u' | \\mathbf{X} \\right]$ will have form $\\sigma^2 \\mathbf{D}(\\mathbf{X})$:\n",
    "\n",
    "$$\n",
    "\\sigma^2\\left[\n",
    "  \\begin{array}{cccc}\n",
    "  1 & 0   & 0   &... & 0 \\\\\n",
    "  0 & 2^{2b} & 0   &... & 0 \\\\\n",
    "  0 & 0   & 3^{2b} &... & 0 \\\\ \n",
    "  . & .   & .   &... & . \\\\\n",
    "  . & .   & .   &... & . \\\\\n",
    "  0 & 0   & .   &... & T^{2b} \\\\\n",
    "  \\end{array}\n",
    "\\right]\n",
    "$$\n",
    "\n",
    "Let's define $\\widetilde{\\mathbf{D}}(\\mathbf{X})=\\sigma^2 \\mathbf{D(\\mathbf{X})}$. Let's assume the **true model** is given by a value of $b=0.5$ i.e. the variance is <u>linear</u> in time $t$. Let's also assume $\\alpha=0$. \n",
    "\n",
    "Given the Gaussian distribution of $\\epsilon_t$, we know that the estimate of $\\phi$ will also be Gaussian.\n",
    "\n",
    "**Exercise**:\n",
    "* First, plot some draws of the data. Experiment with different values of $\\phi$ (`ar1_coef`), $\\alpha$ (`trend_coef`), and $\\sigma$ (`sigma`). Then, set $\\alpha=0$. \n",
    "* Compare the distribution of estimates of $\\hat{\\phi}$ using **OLS**, **GLS**, and a least squares estimator with a general weighting matrix $W$ like the one used in **WLS**.\n",
    "* Compare the rejection probabilities for the **OLS**, **GLS**, and the general least squares estimator using *both* non-robust and White (heteroskedasticity-robust) standard errors.\n",
    "* Lastly, consider a misspecified model with $b=1$ i.e. standard deviation is <u>linear</u> in time $t$. Compare **OLS** and **GLS** estimates for this model using *both* non-robust and White (heteroskedasticity-robust) standard errors.\n",
    "\n",
    "**Hints**:\n",
    "* Fit the models using either `sm.OLS().fit()` or `sm.regression.linear_model.GLS().fit()` \n",
    "* Take a look at the `fit()` argument `cov_type`: this let's you specify the method for computing SEs\n",
    "* After the models are fit, the method `conf_int` will compute confidence intervals\n"
   ]
  },
  {
   "cell_type": "code",
   "execution_count": 2,
   "metadata": {
    "collapsed": true
   },
   "outputs": [],
   "source": [
    "### Simulation of an AR(1) with linear time trend and heteroskedastic shocks\n",
    "def sim_ar1_linear_trend_het_shocks(ar1_coef, nsample=100, burnin=0, \n",
    "                                    trend_coef=0, sigma=1, t_b=0.5, paths=1):  \n",
    "    Nsim = nsample + burnin\n",
    "    \n",
    "    ### eps ~ N(0, sigma)\n",
    "    eps = sigma * np.random.randn(paths, Nsim)\n",
    "    eps = np.concatenate((np.zeros((paths,1)), eps), axis=1)\n",
    "    \n",
    "    ### Linear time trend\n",
    "    TT = np.array(range(Nsim + 1))\n",
    "    y  = np.zeros((paths, Nsim + 1))\n",
    "    u  = np.zeros((paths, Nsim + 1))\n",
    "    \n",
    "    ### Recursively construct the simulated path for the process \n",
    "    ### with time trend in both mean and variance:\n",
    "    for tt in range(1, Nsim + 1):\n",
    "        u[:,tt] = eps[:,tt]*(TT[tt]**t_b)    \n",
    "        y[:,tt] = trend_coef*TT[tt] + np.sum(ar1_coef*y[:,tt-1:tt], axis=1) + u[:,tt]\n",
    "    \n",
    "    ### Drop t=0 + burnin\n",
    "    Y = y[:, burnin + 1:].T\n",
    "    Ylag = Y[1:, :]            # lagged simulations\n",
    "    TT = TT[burnin + 1:, None] # add singleton dimension to \"TT\" numpy array\n",
    "\n",
    "    return Y, Ylag, TT"
   ]
  },
  {
   "cell_type": "markdown",
   "metadata": {},
   "source": [
    "I set $\\alpha=0$, $b=0.5$. I will also set $\\phi = 0.75$, $\\sigma = 5$, and the burn-in period to 0. Now, I will simulate one path of length $T=500$."
   ]
  },
  {
   "cell_type": "code",
   "execution_count": 3,
   "metadata": {},
   "outputs": [
    {
     "name": "stdout",
     "output_type": "stream",
     "text": [
      "Y dimensions:  (500, 1)\n",
      "Ylag dimensions:  (499, 1)\n",
      "TT dimensions:  (500, 1)\n"
     ]
    }
   ],
   "source": [
    "alpha = 0\n",
    "phi = 0.75\n",
    "sigma_eps = 5\n",
    "trend_b = 0.5\n",
    "\n",
    "### Generate a sample path with:\n",
    "#   alpha = 0\n",
    "#   phi = 0.75\n",
    "#   sigma = 5\n",
    "np.random.seed(123)\n",
    "Y, Ylag, TT = sim_ar1_linear_trend_het_shocks(ar1_coef=phi, nsample=500, burnin=0, \n",
    "                                              trend_coef=alpha, sigma=sigma_eps, t_b=trend_b, paths=1)\n",
    "\n",
    "### Verify shape of \"Y\", \"Ylag\" and \"TT\"\n",
    "print(\"Y dimensions: \", Y.shape) \n",
    "print(\"Ylag dimensions: \", Ylag.shape) \n",
    "print(\"TT dimensions: \", TT.shape)"
   ]
  },
  {
   "cell_type": "code",
   "execution_count": 4,
   "metadata": {},
   "outputs": [
    {
     "data": {
      "image/png": "[encoded data removed]",
      "text/plain": [
       "<Figure size 864x576 with 1 Axes>"
      ]
     },
     "metadata": {
      "needs_background": "light"
     },
     "output_type": "display_data"
    }
   ],
   "source": [
    "### Plot one simulated sample paths\n",
    "fig, axes = plt.subplots(figsize=(12,8))\n",
    "axes.plot(TT, Y)\n",
    "axes.plot(TT, alpha*TT)\n",
    "axes.set_xlabel('Time', fontsize=18)\n",
    "axes.set_title('Sample path for process: $y_t$ = $\\\\alpha t$  + $\\\\phi y_{t-1} $ + $u_t$ \\n' +\n",
    "               'w/ $\\\\alpha={:.0f}, \\\\phi={:.2f}, b={:.2f}, \\\\sigma={:.2f}$'\\\n",
    "                          .format(alpha, phi, trend_b, sigma_eps), fontsize=20)\n",
    "fig.tight_layout()"
   ]
  },
  {
   "cell_type": "markdown",
   "metadata": {},
   "source": [
    "In the figure above, we display *both* a simulated path for the $y$ process with heteroskedastic disturbances, as well as the actual linear time trend, $\\alpha t$ (here set to zero since $\\alpha=0$). \n",
    "\n",
    "We can see that as time $t$ <u>increases</u>, the volatility of the process also <u>increases</u>. "
   ]
  },
  {
   "cell_type": "markdown",
   "metadata": {},
   "source": [
    "Let's re-introduce the \"wrapper\" for the `statsmodels` OLS regression estimation routine from **Lab 2**. The add-on is that now we will also return a confidence interval for each of our parameter estimates (from each of our simulations). \n",
    "\n",
    "Recalling from Introductory Statistics, the asymptotic **size** of a test of the null hypothesis that a parameter coefficient is equal to zero can be written down as follows:\n",
    "\n",
    "For the null hypothesis $\\mathbf{H}_0: \\beta = \\beta_0 = 0$, where $\\beta$ is a parameter of interest,  then the test-statistic $T(\\beta_0)=T(0)$ converges in distribution to $Z\\sim N(0, 1)$.\n",
    "For critical value $c$ satisfying $\\gamma = 2(1 - \\Phi(c))$, where  $\\Phi(c)$ is the standard Gaussian CDF evaluated at $c$, then \n",
    "\n",
    "$$\n",
    "\\mathbf{P}(\\mid T(0) \\mid > c \\mid \\mathbf{H}_0) \\rightarrow \\gamma\n",
    "$$\n",
    "\n",
    "and the test \"Reject $\\mathbf{H}_0$ if $\\mid T(0) \\mid > c$\" has asymptotic size $\\gamma$.\n",
    "\n",
    "In other words, the **size of a test** is the probability of falsely rejecting the null hypothesis. That is, it is the probability of making a **Type I error**. \n",
    "\n",
    "For each of our simulations, we will obtain (1 - $\\gamma$)% asymptotic confidence intervals i.e. at significance level $\\gamma$ (with $\\gamma=0.05$), which give us the set of parameter values not rejected by the test that $\\phi=0$. This in turn gives us the value of a random variable equal to 1 if we fail to reject the null, 0 otherwise. \n",
    "\n",
    "By averaging these values, we can then get the probability of accepting (i.e failing to reject) the null under the assumption of a true null. 1 minus this probability is equal to the probability of rejecting the null under the assumption of a true null i.e. the **size** of our test or **Type I** error probability. This probability should be close to 5%."
   ]
  },
  {
   "cell_type": "code",
   "execution_count": 5,
   "metadata": {
    "collapsed": true
   },
   "outputs": [],
   "source": [
    "### \"wrapped\" OLS statsmodel routine\n",
    "def _sm_calc_ols(y, x, addcon=True, cov_type=None, sig_level=.05, summary=0):\n",
    "    \"\"\"Wrapper for statsmodels OLS regression\n",
    "    \"\"\"\n",
    "    if addcon:\n",
    "        X = sm.add_constant(x)\n",
    "    else:\n",
    "        X = x \n",
    "    if cov_type==None:\n",
    "        ols_results = sm.OLS(y,X).fit(cov_type='nonrobust')\n",
    "    else:\n",
    "        ols_results = sm.OLS(y,X).fit(cov_type=cov_type)\n",
    "     \n",
    "    ### print out the OLS estimation results\n",
    "    if summary==1:\n",
    "        print(ols_results.summary())  \n",
    "    \n",
    "    ols_beta_hat = ols_results.params # beta_hat\n",
    "    ols_resids   = ols_results.resid  # resids\n",
    "    ols_ci       = ols_results.conf_int(alpha=sig_level)[-2:] # 95% confidence intervals\n",
    "    \n",
    "    return ols_beta_hat, ols_resids, ols_ci"
   ]
  },
  {
   "cell_type": "markdown",
   "metadata": {},
   "source": [
    "Also, let's define a similar \"wrapper\" for the `statsmodels` GLS regression routine. This routine requires that we provide `statsmodels` with the variance-covariance matrix of the errors $u_t$, here being $\\widetilde{\\mathbf{D}}$, not just $\\mathbf{D}$. Of course if we set $\\sigma=1$, then $\\widetilde{\\mathbf{D}}=\\mathbf{D}$.\n",
    "\n",
    "We will also report the (1 - $\\gamma$)% asymptotic confidence intervals for $\\phi$, which will help us get the **size** of our statistical significant tests."
   ]
  },
  {
   "cell_type": "code",
   "execution_count": 6,
   "metadata": {
    "collapsed": true
   },
   "outputs": [],
   "source": [
    "### \"wrapped\" GLS statsmodel routine\n",
    "def _sm_calc_gls(y, x, Dtilde, addcon=True, cov_type=None, sig_level=.05, summary=0):\n",
    "    \"\"\"Wrapper for statsmodels GLS regression\n",
    "       Note: we need to specify the \"D\" matrix in GLS.\n",
    "    \"\"\"  \n",
    "    if addcon:\n",
    "        X = sm.add_constant(x)\n",
    "    else:\n",
    "        X = x\n",
    "    \n",
    "    ### SEs...    \n",
    "    if cov_type==None:\n",
    "        gls_results = sm.regression.linear_model.GLS(y,X, sigma=Dtilde).fit(cov_type='nonrobust')\n",
    "    else:\n",
    "        gls_results = sm.regression.linear_model.GLS(y,X, sigma=Dtilde).fit(cov_type=cov_type)\n",
    "      \n",
    "    ### print out the OLS estimation results\n",
    "    if summary==1:\n",
    "        print(gls_results.summary())  \n",
    "    \n",
    "    gls_beta_hat = gls_results.params # beta_hat\n",
    "    gls_resids   = gls_results.resid  # resids\n",
    "    gls_ci       = gls_results.conf_int(alpha=sig_level)[-2:] # 95% confidence intervals\n",
    "    \n",
    "    return gls_beta_hat, gls_resids, gls_ci"
   ]
  },
  {
   "cell_type": "markdown",
   "metadata": {},
   "source": [
    "In addition, I will consider a general linear model with weighting matrix $W$ (see **Lecture Notes 3, slide 7**). In other words, $W$ will have form:\n",
    "\n",
    "$$\n",
    "\\frac{1}{\\sigma}\\left[\n",
    "  \\begin{array}{cccc}\n",
    "  1 & 0   & 0   &... & 0 \\\\\n",
    "  0 & \\frac{1}{2^{b}} & 0   &... & 0 \\\\\n",
    "  0 & 0   & \\frac{1}{3^{b}} &... & 0 \\\\ \n",
    "  . & .   & .   &... & . \\\\\n",
    "  . & .   & .   &... & . \\\\\n",
    "  0 & 0   & .   &... & \\frac{1}{T^{b}} \\\\\n",
    "  \\end{array}\n",
    "\\right]\n",
    "$$\n",
    "\n",
    "\n",
    "I will recycle the function `calc_ols` from **Lab 3**, as well as the function `nth_moment`. As in the \"wrapper\" functions for OLS and GLS `statsmodels`, we also report (1 - $\\gamma$)% asymptotic confidence intervals for $\\phi$."
   ]
  },
  {
   "cell_type": "code",
   "execution_count": 7,
   "metadata": {
    "collapsed": true
   },
   "outputs": [],
   "source": [
    "def nth_moment(y, counts, center, n):\n",
    "    \"\"\" Calculates nth moment around 'center\"\"\"\n",
    "    return np.sum((y - center)**n) / np.sum(counts)"
   ]
  },
  {
   "cell_type": "code",
   "execution_count": 8,
   "metadata": {
    "collapsed": true
   },
   "outputs": [],
   "source": [
    "def calc_general_ls(y, x, W, addcon=True, cov_type=None, sig_level=.05):\n",
    "        \n",
    "    Nobs = y.shape[0]\n",
    "    if addcon:\n",
    "        X = np.c_[np.ones((Nobs, 1)), x] # append the [Nobs x 1] columns of ones.\n",
    "    else:\n",
    "        X = x   \n",
    "    k = X.shape[1]   \n",
    "    \n",
    "    XtWtWX = np.dot(np.dot(X.T, W.T), np.dot(W, X))  # Construct sample average of E[X'W'WX]\n",
    "    XtWtWy = np.dot(np.dot(X.T, W.T), np.dot(W, y))  # Construct sample average of E[X'W'Wy]\n",
    "    XtWtWX_inv = np.linalg.inv(XtWtWX)\n",
    "    WX = np.dot(W, X)        \n",
    "              \n",
    "    ### General weighted estimator: algebraic solution for \"beta_hat\" = (E[X'W'WX]^-1)*(E[X'W'Wy])\n",
    "    beta_hat =  np.linalg.solve(XtWtWX, XtWtWy) \n",
    "    \n",
    "    ### R-squared (can use np.dot or @ for \"dot product\")\n",
    "    y_hat  = np.dot(X, beta_hat)   \n",
    "    res = y - y_hat\n",
    "    \n",
    "    ytilde = np.dot(W, y)\n",
    "    ymean  = (1/Nobs)*np.dot(np.dot(np.dot(np.dot(y.T, W.T), np.ones((Nobs,Nobs))), W), y).squeeze()\n",
    "    restilde = np.dot(W, res)\n",
    "    sse = np.dot(restilde.T, restilde).squeeze()\n",
    "    sst = np.dot(ytilde.T, ytilde).squeeze() -  ymean \n",
    "    r_squared = 1 - sse/sst \n",
    "     \n",
    "    ### Adjusted R-squared\n",
    "    r_squared_adj = r_squared - (1 - r_squared)*((k - 1)/(Nobs - k))\n",
    "  \n",
    "    ### Variance-Covariance matrix: non-robust homoskedastic SEs\n",
    "    sigma2_hat = sse / (Nobs - k)\n",
    "    sigma2_mle = np.dot(res.T, res).squeeze() / (Nobs - 1)\n",
    "    cov_matrix = np.dot(XtWtWX_inv, sigma2_hat)\n",
    "    se = cov_matrix.diagonal()**0.5\n",
    "    tstat = beta_hat.T / se\n",
    "    ci_95 = np.vstack((beta_hat.T - 1.96*se, beta_hat.T + 1.96*se)) #--> 95% non-robust CI\n",
    "\n",
    "    ### Variance-Covariance matrix: White (robust) heteroskedastic SEs:    \n",
    "    Sigma2_hat = np.diag((restilde**2).T[0])\n",
    "    cov_matrix_r = np.dot(np.dot(np.dot(np.dot(XtWtWX_inv, WX.T), Sigma2_hat), WX), XtWtWX_inv)\n",
    "    cov_matrix_r_unbiased = cov_matrix_r\n",
    "    se_r = cov_matrix_r_unbiased.diagonal()**0.5\n",
    "    tstat_r = beta_hat.T / se_r\n",
    "    ci_95_r = np.vstack((beta_hat.T - 1.96*se_r, beta_hat.T + 1.96*se_r)) #--> 95% robust CI\n",
    "   \n",
    "    \n",
    "    ### log-likelihood (assumption of normality) [a little off -- please fix]:\n",
    "    loglikelihood = - (Nobs/2)*np.log(2*np.math.pi) - \\\n",
    "                      (Nobs/2)*np.log(sigma2_mle) - \\\n",
    "                      (1/(2*sigma2_mle))*sum(res**2)\n",
    "   \n",
    "    ### Information criteria [a little off -- please fix]:\n",
    "    hannan_quinn = ((-2*loglikelihood)/Nobs) + ((2*(k - 1)*math.log(math.log(Nobs)))/Nobs)\n",
    "    aic = -2*loglikelihood + 2*k\n",
    "    bic = -2*loglikelihood + (math.log(Nobs))*k\n",
    "    \n",
    "    ### Higher-order moments of the residuals:\n",
    "    m1 = nth_moment(restilde, restilde.shape[0], center=0,  n=1)\n",
    "    m2 = nth_moment(restilde, restilde.shape[0], center=m1, n=2)\n",
    "    m3 = nth_moment(restilde, restilde.shape[0], center=m1, n=3)\n",
    "    m4 = nth_moment(restilde, restilde.shape[0], center=m1, n=4)   \n",
    "    skew = m3 / (m2**(3/2))\n",
    "    kurtosis = m4 / (m2**2)\n",
    "    \n",
    "        \n",
    "    ls_results = {'beta_hat': beta_hat.squeeze(),\n",
    "                  'standard-errors': se.squeeze(), \n",
    "                  't-stat': tstat.squeeze(),\n",
    "                  'ci_95': ci_95,\n",
    "                  'standard-errors (robust)': se_r.squeeze(), \n",
    "                  't-stat (robust)': tstat_r.squeeze(),\n",
    "                  'ci_95_r': ci_95_r}   \n",
    "    \n",
    "    ls_stats = {\"No. Observations\": Nobs,\n",
    "             \"Df Residuals\": Nobs - k,\n",
    "             \"Skewness of residuals:\": skew,\n",
    "             \"Kurtosis of residuals:\": kurtosis,\n",
    "             \"$R^2$\":  r_squared,\n",
    "             \"adjusted-$R^2$\": r_squared_adj,\n",
    "             \"Log-likelihood\": loglikelihood.squeeze(),\n",
    "             \"Hannan-Quinn\": hannan_quinn.squeeze(),\n",
    "             \"AIC\": aic.squeeze(), \n",
    "             \"BIC\": bic.squeeze()}\n",
    "    \n",
    "    return ls_results, ls_stats"
   ]
  },
  {
   "cell_type": "markdown",
   "metadata": {},
   "source": [
    "To verify our function `calc_general_ls` works properly, let's consider the special case with the weighting matrix $W$ from **GLS**. Let's apply our function on a simulated path:\n",
    "\n",
    "Even though we set $\\alpha=0$, we will still include the time trend in our matrix of right hand side variables (as well as constant). We should see that the estimated coefficient $\\widehat\\alpha$ is not statistically difference from zero (i.e. we FAIL TO REJECT the null hypothesis that $\\alpha=0$ at a significance level $\\gamma$ of 5% or lower). "
   ]
  },
  {
   "cell_type": "code",
   "execution_count": 9,
   "metadata": {
    "collapsed": true
   },
   "outputs": [],
   "source": [
    "### Test out our least squares estimator w/ W = 1/std(u_t)\n",
    "nsample_T = 500\n",
    "phi = .75\n",
    "alpha = 0\n",
    "sigma = 5\n",
    "trend_b = 0.5\n",
    "\n",
    "### Re-simulate a path...\n",
    "np.random.seed(123)\n",
    "Y, Ylag, TT = sim_ar1_linear_trend_het_shocks(ar1_coef=phi, nsample=nsample_T, burnin=0, \n",
    "                                              trend_coef=alpha, sigma=sigma_eps, t_b=trend_b, paths=1)\n",
    "\n",
    "### Prepare data...\n",
    "y = Y[:-1,:]\n",
    "tt = TT[:-1]\n",
    "x = np.c_[tt, Ylag]\n",
    "\n",
    "### Weighting matrix is 1/std(u_t)\n",
    "diag_sigma = sigma*(tt**trend_b)\n",
    "W = np.linalg.inv(np.diag(diag_sigma.T[0]))\n",
    "\n",
    "ar1_ls_results, ar1_ls_stats = calc_general_ls(y, x, W, addcon=True, cov_type=None, sig_level=.05)\n"
   ]
  },
  {
   "cell_type": "code",
   "execution_count": 10,
   "metadata": {},
   "outputs": [
    {
     "data": {
      "text/html": [
       "<div>\n",
       "<style scoped>\n",
       "    .dataframe tbody tr th:only-of-type {\n",
       "        vertical-align: middle;\n",
       "    }\n",
       "\n",
       "    .dataframe tbody tr th {\n",
       "        vertical-align: top;\n",
       "    }\n",
       "\n",
       "    .dataframe thead th {\n",
       "        text-align: right;\n",
       "    }\n",
       "</style>\n",
       "<table border=\"1\" class=\"dataframe\">\n",
       "  <thead>\n",
       "    <tr style=\"text-align: right;\">\n",
       "      <th></th>\n",
       "      <th>Estimates</th>\n",
       "      <th>(non-robust) SEs</th>\n",
       "      <th>(non-robust) $t$-stat</th>\n",
       "      <th>(robust) SEs</th>\n",
       "      <th>(robust) $t$-stat</th>\n",
       "    </tr>\n",
       "  </thead>\n",
       "  <tbody>\n",
       "    <tr>\n",
       "      <th>$\\mu$</th>\n",
       "      <td>-0.594</td>\n",
       "      <td>2.303</td>\n",
       "      <td>-0.258</td>\n",
       "      <td>2.799</td>\n",
       "      <td>-0.212</td>\n",
       "    </tr>\n",
       "    <tr>\n",
       "      <th>$\\alpha$</th>\n",
       "      <td>-0.012</td>\n",
       "      <td>0.017</td>\n",
       "      <td>-0.723</td>\n",
       "      <td>0.018</td>\n",
       "      <td>-0.697</td>\n",
       "    </tr>\n",
       "    <tr>\n",
       "      <th>$\\phi$</th>\n",
       "      <td>0.747</td>\n",
       "      <td>0.029</td>\n",
       "      <td>25.341</td>\n",
       "      <td>0.029</td>\n",
       "      <td>25.890</td>\n",
       "    </tr>\n",
       "  </tbody>\n",
       "</table>\n",
       "</div>"
      ],
      "text/plain": [
       "          Estimates  (non-robust) SEs  (non-robust) $t$-stat  (robust) SEs  \\\n",
       "$\\mu$        -0.594             2.303                 -0.258         2.799   \n",
       "$\\alpha$     -0.012             0.017                 -0.723         0.018   \n",
       "$\\phi$        0.747             0.029                 25.341         0.029   \n",
       "\n",
       "          (robust) $t$-stat  \n",
       "$\\mu$                -0.212  \n",
       "$\\alpha$             -0.697  \n",
       "$\\phi$               25.890  "
      ]
     },
     "execution_count": 10,
     "metadata": {},
     "output_type": "execute_result"
    }
   ],
   "source": [
    "### Compute AR(1) with time trend via OLS: parameter estimates\n",
    "ar1_est_df = pd.DataFrame(index=['$\\mu$', '$\\\\alpha$', '$\\phi$'])\n",
    "ar1_est_df[\"Estimates\"] = ar1_ls_results['beta_hat']\n",
    "ar1_est_df[\"(non-robust) SEs\"] = ar1_ls_results['standard-errors']\n",
    "ar1_est_df[\"(non-robust) $t$-stat\"] = ar1_ls_results['t-stat']\n",
    "ar1_est_df[\"(robust) SEs\"] = ar1_ls_results['standard-errors (robust)']\n",
    "ar1_est_df[\"(robust) $t$-stat\"] = ar1_ls_results['t-stat (robust)']\n",
    "ar1_est_df"
   ]
  },
  {
   "cell_type": "code",
   "execution_count": 11,
   "metadata": {},
   "outputs": [
    {
     "data": {
      "text/html": [
       "<div>\n",
       "<style scoped>\n",
       "    .dataframe tbody tr th:only-of-type {\n",
       "        vertical-align: middle;\n",
       "    }\n",
       "\n",
       "    .dataframe tbody tr th {\n",
       "        vertical-align: top;\n",
       "    }\n",
       "\n",
       "    .dataframe thead th {\n",
       "        text-align: right;\n",
       "    }\n",
       "</style>\n",
       "<table border=\"1\" class=\"dataframe\">\n",
       "  <thead>\n",
       "    <tr style=\"text-align: right;\">\n",
       "      <th></th>\n",
       "      <th>OLS statistics/diag</th>\n",
       "    </tr>\n",
       "  </thead>\n",
       "  <tbody>\n",
       "    <tr>\n",
       "      <th>No. Observations</th>\n",
       "      <td>499</td>\n",
       "    </tr>\n",
       "    <tr>\n",
       "      <th>Df Residuals</th>\n",
       "      <td>496</td>\n",
       "    </tr>\n",
       "    <tr>\n",
       "      <th>Skewness of residuals:</th>\n",
       "      <td>-0.028</td>\n",
       "    </tr>\n",
       "    <tr>\n",
       "      <th>Kurtosis of residuals:</th>\n",
       "      <td>2.907</td>\n",
       "    </tr>\n",
       "    <tr>\n",
       "      <th>$R^2$</th>\n",
       "      <td>0.566</td>\n",
       "    </tr>\n",
       "    <tr>\n",
       "      <th>adjusted-$R^2$</th>\n",
       "      <td>0.564</td>\n",
       "    </tr>\n",
       "    <tr>\n",
       "      <th>Log-likelihood</th>\n",
       "      <td>-2880.273</td>\n",
       "    </tr>\n",
       "    <tr>\n",
       "      <th>Hannan-Quinn</th>\n",
       "      <td>11.559</td>\n",
       "    </tr>\n",
       "    <tr>\n",
       "      <th>AIC</th>\n",
       "      <td>5766.545</td>\n",
       "    </tr>\n",
       "    <tr>\n",
       "      <th>BIC</th>\n",
       "      <td>5779.183</td>\n",
       "    </tr>\n",
       "  </tbody>\n",
       "</table>\n",
       "</div>"
      ],
      "text/plain": [
       "                       OLS statistics/diag\n",
       "No. Observations                       499\n",
       "Df Residuals                           496\n",
       "Skewness of residuals:              -0.028\n",
       "Kurtosis of residuals:               2.907\n",
       "$R^2$                                0.566\n",
       "adjusted-$R^2$                       0.564\n",
       "Log-likelihood                   -2880.273\n",
       "Hannan-Quinn                        11.559\n",
       "AIC                               5766.545\n",
       "BIC                               5779.183"
      ]
     },
     "execution_count": 11,
     "metadata": {},
     "output_type": "execute_result"
    }
   ],
   "source": [
    "### Compute AR(1) with time trend via OLS: stats\n",
    "ar1_stat_df = pd.DataFrame.from_dict(ar1_ls_stats, orient='index', \n",
    "                                     columns=['OLS statistics/diag'])\n",
    "ar1_stat_df.loc['No. Observations'] = ar1_stat_df.loc['No. Observations'].apply('{:.0f}'.format)\n",
    "ar1_stat_df.loc['Df Residuals'] = ar1_stat_df.loc['Df Residuals'].apply('{:.0f}'.format)\n",
    "ar1_stat_df.loc['Log-likelihood'] = ar1_stat_df.loc['Log-likelihood'].apply('{:.3f}'.format)\n",
    "ar1_stat_df.loc['Hannan-Quinn'] = ar1_stat_df.loc['Hannan-Quinn'].apply('{:.3f}'.format)\n",
    "ar1_stat_df.loc['$R^2$'] = ar1_stat_df.loc['$R^2$'].apply('{:.3f}'.format)\n",
    "ar1_stat_df.loc['adjusted-$R^2$'] = ar1_stat_df.loc['adjusted-$R^2$'].apply('{:.3f}'.format)\n",
    "ar1_stat_df.loc['AIC'] = ar1_stat_df.loc['AIC'].apply('{:.3f}'.format)\n",
    "ar1_stat_df.loc['BIC'] = ar1_stat_df.loc['BIC'].apply('{:.3f}'.format)\n",
    "ar1_stat_df"
   ]
  },
  {
   "cell_type": "markdown",
   "metadata": {},
   "source": [
    "#### Comparison to GLS `statsmodels` (non-robust):"
   ]
  },
  {
   "cell_type": "code",
   "execution_count": 12,
   "metadata": {},
   "outputs": [
    {
     "name": "stdout",
     "output_type": "stream",
     "text": [
      "                            GLS Regression Results                            \n",
      "==============================================================================\n",
      "Dep. Variable:                      y   R-squared:                       0.566\n",
      "Model:                            GLS   Adj. R-squared:                  0.564\n",
      "Method:                 Least Squares   F-statistic:                     323.7\n",
      "Date:                Sat, 18 May 2019   Prob (F-statistic):           1.10e-90\n",
      "Time:                        01:30:00   Log-Likelihood:                -2816.2\n",
      "No. Observations:                 499   AIC:                             5638.\n",
      "Df Residuals:                     496   BIC:                             5651.\n",
      "Df Model:                           2                                         \n",
      "Covariance Type:            nonrobust                                         \n",
      "==============================================================================\n",
      "                 coef    std err          t      P>|t|      [0.025      0.975]\n",
      "------------------------------------------------------------------------------\n",
      "const         -0.5936      2.303     -0.258      0.797      -5.118       3.931\n",
      "x1            -0.0124      0.017     -0.723      0.470      -0.046       0.021\n",
      "x2             0.7471      0.029     25.341      0.000       0.689       0.805\n",
      "==============================================================================\n",
      "Omnibus:                        0.154   Durbin-Watson:                   1.944\n",
      "Prob(Omnibus):                  0.926   Jarque-Bera (JB):                0.246\n",
      "Skew:                          -0.028   Prob(JB):                        0.884\n",
      "Kurtosis:                       2.907   Cond. No.                         162.\n",
      "==============================================================================\n",
      "\n",
      "Warnings:\n",
      "[1] Standard Errors assume that the covariance matrix of the errors is correctly specified.\n"
     ]
    }
   ],
   "source": [
    "### Compute AR(1) w/ time trend via 'statsmodels' GLS: non-robust SEs.\n",
    "diag_sigma2 = (sigma**2)*(tt**(2*trend_b))\n",
    "Dtilde = np.diag(diag_sigma2.T[0])\n",
    "\n",
    "ar1_gls_beta,_, ar1_gls_ci = _sm_calc_gls(y, x, Dtilde=Dtilde, addcon=True, \n",
    "                                          cov_type=None, sig_level=.05, summary=1)\n"
   ]
  },
  {
   "cell_type": "markdown",
   "metadata": {},
   "source": [
    "#### Comparison to GLS `statsmodels` (robust):"
   ]
  },
  {
   "cell_type": "code",
   "execution_count": 13,
   "metadata": {},
   "outputs": [
    {
     "name": "stdout",
     "output_type": "stream",
     "text": [
      "                            GLS Regression Results                            \n",
      "==============================================================================\n",
      "Dep. Variable:                      y   R-squared:                       0.566\n",
      "Model:                            GLS   Adj. R-squared:                  0.564\n",
      "Method:                 Least Squares   F-statistic:                     340.6\n",
      "Date:                Sat, 18 May 2019   Prob (F-statistic):           8.23e-94\n",
      "Time:                        01:30:01   Log-Likelihood:                -2816.2\n",
      "No. Observations:                 499   AIC:                             5638.\n",
      "Df Residuals:                     496   BIC:                             5651.\n",
      "Df Model:                           2                                         \n",
      "Covariance Type:                  HC0                                         \n",
      "==============================================================================\n",
      "                 coef    std err          z      P>|z|      [0.025      0.975]\n",
      "------------------------------------------------------------------------------\n",
      "const         -0.5936      2.799     -0.212      0.832      -6.079       4.892\n",
      "x1            -0.0124      0.018     -0.697      0.486      -0.047       0.022\n",
      "x2             0.7471      0.029     25.890      0.000       0.691       0.804\n",
      "==============================================================================\n",
      "Omnibus:                        0.154   Durbin-Watson:                   1.944\n",
      "Prob(Omnibus):                  0.926   Jarque-Bera (JB):                0.246\n",
      "Skew:                          -0.028   Prob(JB):                        0.884\n",
      "Kurtosis:                       2.907   Cond. No.                         162.\n",
      "==============================================================================\n",
      "\n",
      "Warnings:\n",
      "[1] Standard Errors are heteroscedasticity robust (HC0)\n"
     ]
    }
   ],
   "source": [
    "## Compute AR(1) via 'statsmodels' GLS: robust SEs.\n",
    "ar1_gls_beta,_, ar1_gls_ci = _sm_calc_gls(y, x, Dtilde, addcon=True, \n",
    "                                          cov_type='HC0', sig_level=.05, summary=1)\n"
   ]
  },
  {
   "cell_type": "markdown",
   "metadata": {},
   "source": [
    "Our function `calc_general_ls` reproduces the same output as that of `_sm_calc_gls` when we use a weighting matrix $W$ consistent with **GLS** (which in our case will also be **WLS** since we have heteroskedasticity in the errors $u_t$, but no serial correlation)."
   ]
  },
  {
   "cell_type": "markdown",
   "metadata": {},
   "source": [
    "Next, I will define a function that calculates the rejection probabilities for the null hypothesis that our regression parameter estimates are statistically significant from zero at a significance level of $\\gamma$. In other words, we return the **size** of our tests (as discussed earlier).\n",
    "\n",
    "These rejection probabilities will depend on how we treat our standard errors. "
   ]
  },
  {
   "cell_type": "code",
   "execution_count": 14,
   "metadata": {
    "collapsed": true
   },
   "outputs": [],
   "source": [
    "def calc_rej_probs(ci_bounds, true_params):\n",
    "    \"\"\"\n",
    "    PARAM: \"ci_bounds\": 'DataFrame' object with columns indexing the CI for each parameter, \n",
    "                        rows indexing each simulation.\n",
    "                        \n",
    "    PARAM: \"true_params\": list with \"true\" parameter values. \n",
    "    RETURN: \"rej_prob\": 'NumPy' array with rejection probabilities of the null under a true null\n",
    "                        (of the null of zero statistical sigificance) at the 5% significance level \n",
    "                         for each parameter in the model                     \n",
    "    \"\"\"   \n",
    "    ci_bool = np.empty(ci_bounds.shape)\n",
    "\n",
    "    ### Iterate through parameters of interest\n",
    "    for k in range(0, ci_bool.shape[1]):\n",
    "        ci_bounds_k = np.vstack(ci_bounds.iloc[:, k])\n",
    "        ci_bool[:, k] = (ci_bounds_k[:, 0] < true_params[k]) & (true_params[k] < ci_bounds_k[:, 1])\n",
    "\n",
    "    ### Rejection probability = 1 - Acceptance probability    \n",
    "    rej_prob = 1 - ci_bool.mean(axis=0)\n",
    "\n",
    "    return rej_prob"
   ]
  },
  {
   "cell_type": "markdown",
   "metadata": {},
   "source": [
    "We now want to simulate 10,000 paths for the process, each of length $T=500$."
   ]
  },
  {
   "cell_type": "code",
   "execution_count": 15,
   "metadata": {
    "collapsed": true
   },
   "outputs": [],
   "source": [
    "### Repeated simulations: store estimates and accept/reject values\n",
    "Nsims = 10000\n",
    "\n",
    "### 1. OLS\n",
    "ols_coefs       = np.empty((Nsims, 3))\n",
    "ols_ci_bounds   = pd.DataFrame(index = list(range(0,Nsims)), columns=['alpha', 'phi'])\n",
    "ols_ci_bounds_r = pd.DataFrame(index = list(range(0,Nsims)), columns=['alpha', 'phi'])\n",
    "\n",
    "### 2. GLS\n",
    "gls_coefs       = np.empty((Nsims, 3))\n",
    "gls_ci_bounds   = pd.DataFrame(index = list(range(0,Nsims)), columns=['alpha', 'phi'])\n",
    "gls_ci_bounds_r = pd.DataFrame(index = list(range(0,Nsims)), columns=['alpha', 'phi'])\n",
    "\n",
    "### 3. LS with weight matrix W = 1/std(u_t)\n",
    "ls_coefs       = np.empty((Nsims, 3))\n",
    "ls_ci_bounds   = pd.DataFrame(index = list(range(0,Nsims)), columns=['alpha', 'phi'])\n",
    "ls_ci_bounds_r = pd.DataFrame(index = list(range(0,Nsims)), columns=['alpha', 'phi'])\n",
    "\n",
    "nsample_T = 500\n",
    "phi = .75\n",
    "alpha = 0\n",
    "sigma = 5\n",
    "trend_b = 0.5\n",
    "\n",
    "np.random.seed(1)\n",
    "\n",
    "### Simulate \"Nsims\" paths:\n",
    "### Note: each \"column\" in Y is a simulated path of length \"nsample_T = 500\"\n",
    "Y, Ylag, TT = sim_ar1_linear_trend_het_shocks(ar1_coef=phi, nsample=nsample_T, burnin=0, \n",
    "                                              trend_coef=alpha, sigma=sigma, t_b=trend_b, paths=Nsims)\n",
    "### need to make sure \"Y\" and \"TT\" account for the dependent lag\n",
    "y = Y[:-1,:]\n",
    "tt = TT[:-1]\n",
    "\n",
    "### Weighting matrix is 1/std(u_t)\n",
    "diag_sigma = sigma*(tt**trend_b)\n",
    "W = np.linalg.inv(np.diag(diag_sigma.T[0]))\n",
    "\n",
    "diag_sigma2 = (sigma**2)*(tt**(2*trend_b))\n",
    "Dtilde = np.diag(diag_sigma2.T[0])\n",
    "\n",
    "for ss in range(Nsims): \n",
    "    \"\"\"\n",
    "    1. OLS: set up the 'statsmodels' object\n",
    "    \"\"\"\n",
    "    ols_beta_hat  ,_,ols_ci   = _sm_calc_ols(y[:,ss], np.c_[tt, Ylag[:,ss]], addcon=True)    \n",
    "    ols_beta_hat_r,_,ols_ci_r = _sm_calc_ols(y[:,ss], np.c_[tt, Ylag[:,ss]], addcon=True, cov_type='HC0')\n",
    "        \n",
    "    ### Store regression estimates in [Nsims x K] numpy array, \n",
    "    ### with \"K\" = # of parameters excluding constant\n",
    "    ols_coefs[ss, :] = ols_beta_hat\n",
    "      \n",
    "    ### Store confidence intervals for each parameter in 'DataFrame' object\n",
    "    ### Note: \"non-robust\" and White (robust)\n",
    "    ols_ci_bounds.iloc[ss]   = [ols_ci[0],   ols_ci[1]]\n",
    "    ols_ci_bounds_r.iloc[ss] = [ols_ci_r[0], ols_ci_r[1]]\n",
    "    \n",
    "    \n",
    "    \"\"\"\n",
    "    2. GLS: set up the 'statsmodels' object\n",
    "    \"\"\"\n",
    "    gls_beta_hat  ,_,gls_ci   = _sm_calc_gls(y[:,ss], np.c_[tt, Ylag[:,ss]], \n",
    "                                               Dtilde=Dtilde, addcon=True)    \n",
    "    gls_beta_hat_r,_,gls_ci_r = _sm_calc_gls(y[:,ss], np.c_[tt, Ylag[:,ss]], \n",
    "                                               Dtilde=Dtilde, addcon=True, cov_type='HC0')\n",
    "    \n",
    "    ### Store regression estimates in [Nsims x K] numpy array, \n",
    "    ### with \"K\" = # of parameters excluding constant\n",
    "    gls_coefs[ss, :] = gls_beta_hat\n",
    "  \n",
    "    ### Store confidence intervals for each parameter in 'DataFrame' object\n",
    "    gls_ci_bounds.iloc[ss]   = [gls_ci[0],   gls_ci[1]]\n",
    "    gls_ci_bounds_r.iloc[ss] = [gls_ci_r[0], gls_ci_r[1]]\n",
    "\n",
    "    \n",
    "    \"\"\"\n",
    "    3.  Least squares with weight matrix W=1/std(u_t):\n",
    "    \"\"\"\n",
    "    ar1_ls_results,_ = calc_general_ls(np.expand_dims(y[:,ss],axis=1), np.c_[tt, Ylag[:,ss]], \n",
    "                                       W=W, addcon=True, sig_level=.05) \n",
    "\n",
    "    ls_ci   = ar1_ls_results['ci_95'][-2:]\n",
    "    ls_ci_r = ar1_ls_results['ci_95_r'][-2:]\n",
    "    \n",
    "    ### Store regression estimates in [Nsims x K] numpy array, \n",
    "    ### with \"K\" = # of parameters excluding constant\n",
    "    ls_coefs[ss, :] = ar1_ls_results['beta_hat']\n",
    "    \n",
    "    ### Store confidence intervals for each parameter in 'DataFrame' object\n",
    "    ls_ci_bounds.iloc[ss]   = [ls_ci[0],   ls_ci[1]]\n",
    "    ls_ci_bounds_r.iloc[ss] = [ls_ci_r[0], ls_ci_r[1]]    \n",
    "    \n",
    "\n",
    "### 1. OLS: Rejection probabilities\n",
    "ols_reject_prob   = calc_rej_probs(ci_bounds=ols_ci_bounds,   true_params=[alpha, phi])\n",
    "ols_reject_prob_r = calc_rej_probs(ci_bounds=ols_ci_bounds_r, true_params=[alpha, phi])\n",
    "\n",
    "### 2. GLS: Rejection probabilities\n",
    "gls_reject_prob   = calc_rej_probs(ci_bounds=gls_ci_bounds,   true_params=[alpha, phi])\n",
    "gls_reject_prob_r = calc_rej_probs(ci_bounds=gls_ci_bounds_r, true_params=[alpha, phi])\n",
    "\n",
    "### 3. LS w/ weight matrix W: Rejection probabilities\n",
    "ls_reject_prob   = calc_rej_probs(ci_bounds=ls_ci_bounds,   true_params=[alpha, phi])\n",
    "ls_reject_prob_r = calc_rej_probs(ci_bounds=ls_ci_bounds_r, true_params=[alpha, phi])"
   ]
  },
  {
   "cell_type": "markdown",
   "metadata": {},
   "source": [
    "Rejection probabilities of the parameter estimate $\\widehat\\phi$ for the **OLS** model with both **homoskedastic (non-robust) errors** and **heteroskedastic, White (robust) errors**."
   ]
  },
  {
   "cell_type": "code",
   "execution_count": 16,
   "metadata": {},
   "outputs": [
    {
     "name": "stdout",
     "output_type": "stream",
     "text": [
      "OLS rejection probabilities for \"phi\":\n",
      "\tOLS (non-robust SEs):   0.099\n",
      "\tOLS (robust SEs):   0.064\n"
     ]
    }
   ],
   "source": [
    "### Rejection probabilities for the OLS model with both non-robust and robust SEs:\n",
    "print('OLS rejection probabilities for \"phi\":')\n",
    "print('\\tOLS (non-robust SEs):  ', round(ols_reject_prob[-1], 3))\n",
    "print('\\tOLS (robust SEs):  ', round(ols_reject_prob_r[-1], 3))"
   ]
  },
  {
   "cell_type": "markdown",
   "metadata": {},
   "source": [
    "Rejection probabilities of the parameter estimate $\\widehat\\phi$ for the **GLS** model with both **homoskedastic (non-robust) errors** and **heteroskedastic, White (robust) errors**."
   ]
  },
  {
   "cell_type": "code",
   "execution_count": 17,
   "metadata": {},
   "outputs": [
    {
     "name": "stdout",
     "output_type": "stream",
     "text": [
      "GLS rejection probabilities for \"phi\":\n",
      "\tGLS (non-robust SEs):   0.077\n",
      "\tGLS (robust SEs):   0.081\n"
     ]
    }
   ],
   "source": [
    "### Rejection probabilities for the GLS model with both non-robust and robust SEs:\n",
    "print('GLS rejection probabilities for \"phi\":')\n",
    "print('\\tGLS (non-robust SEs):  ', round(gls_reject_prob[-1], 3))\n",
    "print('\\tGLS (robust SEs):  ', round(gls_reject_prob_r[-1], 3))"
   ]
  },
  {
   "cell_type": "markdown",
   "metadata": {},
   "source": [
    "Using our \"brute force\" least squares function which uses a weight matrix $W$ that is consistent with GLS estimation also produces the same rejection probabilities as above."
   ]
  },
  {
   "cell_type": "code",
   "execution_count": 18,
   "metadata": {},
   "outputs": [
    {
     "name": "stdout",
     "output_type": "stream",
     "text": [
      "LS w/ W=1/std(u_t) rejection probabilities for \"phi\":\n",
      "\tLS w/ W=1/std(u_t) (non-robust SEs):   0.077\n",
      "\tLS w/ W=1/std(u_t) (robust SEs):   0.081\n"
     ]
    }
   ],
   "source": [
    "### Rejection probabilities for the OLS model with both non-robust and robust SEs:\n",
    "print('LS w/ W=1/std(u_t) rejection probabilities for \"phi\":')\n",
    "print('\\tLS w/ W=1/std(u_t) (non-robust SEs):  ', round(gls_reject_prob[-1], 3))\n",
    "print('\\tLS w/ W=1/std(u_t) (robust SEs):  ', round(gls_reject_prob_r[-1], 3))"
   ]
  },
  {
   "cell_type": "markdown",
   "metadata": {},
   "source": [
    "Let's analyze the empirical distribution of our set of point estimates for $\\widehat \\phi$.\n",
    "\n",
    "First, I will look at summary statistics for both the **OLS** and **GLS** point estimates using the `monte_carlo_stats` function from **Lab 3**."
   ]
  },
  {
   "cell_type": "code",
   "execution_count": 19,
   "metadata": {
    "collapsed": true
   },
   "outputs": [],
   "source": [
    "def monte_carlo_stats(np_coef, nsample, percentiles):\n",
    "    coef_desc_T = pd.DataFrame(np_coef).describe(percentiles=percentiles)\n",
    "    coef_desc_cols = \"{}\".format('T=' + str(nsample)) \n",
    "    coef_desc_T.rename(columns={0: coef_desc_cols}, inplace=True)\n",
    "    coef_desc_T.loc['count'] = coef_desc_T.loc['count'].apply('{:.0f}'.format)\n",
    "    return coef_desc_T"
   ]
  },
  {
   "cell_type": "code",
   "execution_count": 20,
   "metadata": {},
   "outputs": [
    {
     "data": {
      "text/html": [
       "<div>\n",
       "<style scoped>\n",
       "    .dataframe tbody tr th:only-of-type {\n",
       "        vertical-align: middle;\n",
       "    }\n",
       "\n",
       "    .dataframe tbody tr th {\n",
       "        vertical-align: top;\n",
       "    }\n",
       "\n",
       "    .dataframe thead th {\n",
       "        text-align: right;\n",
       "    }\n",
       "</style>\n",
       "<table border=\"1\" class=\"dataframe\">\n",
       "  <thead>\n",
       "    <tr style=\"text-align: right;\">\n",
       "      <th></th>\n",
       "      <th>count</th>\n",
       "      <th>mean</th>\n",
       "      <th>std</th>\n",
       "      <th>min</th>\n",
       "      <th>1%</th>\n",
       "      <th>5%</th>\n",
       "      <th>10%</th>\n",
       "      <th>25%</th>\n",
       "      <th>50%</th>\n",
       "      <th>75%</th>\n",
       "      <th>90%</th>\n",
       "      <th>95%</th>\n",
       "      <th>99%</th>\n",
       "      <th>max</th>\n",
       "    </tr>\n",
       "  </thead>\n",
       "  <tbody>\n",
       "    <tr>\n",
       "      <th>T=500</th>\n",
       "      <td>10000</td>\n",
       "      <td>0.736</td>\n",
       "      <td>0.035</td>\n",
       "      <td>0.592</td>\n",
       "      <td>0.647</td>\n",
       "      <td>0.676</td>\n",
       "      <td>0.690</td>\n",
       "      <td>0.713</td>\n",
       "      <td>0.737</td>\n",
       "      <td>0.761</td>\n",
       "      <td>0.780</td>\n",
       "      <td>0.791</td>\n",
       "      <td>0.809</td>\n",
       "      <td>0.844</td>\n",
       "    </tr>\n",
       "  </tbody>\n",
       "</table>\n",
       "</div>"
      ],
      "text/plain": [
       "       count  mean   std   min    1%    5%   10%   25%   50%   75%   90%  \\\n",
       "T=500  10000 0.736 0.035 0.592 0.647 0.676 0.690 0.713 0.737 0.761 0.780   \n",
       "\n",
       "        95%   99%   max  \n",
       "T=500 0.791 0.809 0.844  "
      ]
     },
     "execution_count": 20,
     "metadata": {},
     "output_type": "execute_result"
    }
   ],
   "source": [
    "### OLS: Print summary statistics (w/ detailed percentiles)\n",
    "percentiles = [0.01, 0.05, 0.1, 0.25, 0.5, 0.75, 0.9, 0.95, 0.99]\n",
    "mc_stats = monte_carlo_stats(np_coef=ols_coefs[:,-1], nsample=nsample_T, percentiles=percentiles)\n",
    "mc_stats.T"
   ]
  },
  {
   "cell_type": "code",
   "execution_count": 21,
   "metadata": {},
   "outputs": [
    {
     "data": {
      "text/html": [
       "<div>\n",
       "<style scoped>\n",
       "    .dataframe tbody tr th:only-of-type {\n",
       "        vertical-align: middle;\n",
       "    }\n",
       "\n",
       "    .dataframe tbody tr th {\n",
       "        vertical-align: top;\n",
       "    }\n",
       "\n",
       "    .dataframe thead th {\n",
       "        text-align: right;\n",
       "    }\n",
       "</style>\n",
       "<table border=\"1\" class=\"dataframe\">\n",
       "  <thead>\n",
       "    <tr style=\"text-align: right;\">\n",
       "      <th></th>\n",
       "      <th>count</th>\n",
       "      <th>mean</th>\n",
       "      <th>std</th>\n",
       "      <th>min</th>\n",
       "      <th>1%</th>\n",
       "      <th>5%</th>\n",
       "      <th>10%</th>\n",
       "      <th>25%</th>\n",
       "      <th>50%</th>\n",
       "      <th>75%</th>\n",
       "      <th>90%</th>\n",
       "      <th>95%</th>\n",
       "      <th>99%</th>\n",
       "      <th>max</th>\n",
       "    </tr>\n",
       "  </thead>\n",
       "  <tbody>\n",
       "    <tr>\n",
       "      <th>T=500</th>\n",
       "      <td>10000</td>\n",
       "      <td>0.732</td>\n",
       "      <td>0.030</td>\n",
       "      <td>0.598</td>\n",
       "      <td>0.657</td>\n",
       "      <td>0.680</td>\n",
       "      <td>0.693</td>\n",
       "      <td>0.712</td>\n",
       "      <td>0.733</td>\n",
       "      <td>0.754</td>\n",
       "      <td>0.771</td>\n",
       "      <td>0.780</td>\n",
       "      <td>0.798</td>\n",
       "      <td>0.832</td>\n",
       "    </tr>\n",
       "  </tbody>\n",
       "</table>\n",
       "</div>"
      ],
      "text/plain": [
       "       count  mean   std   min    1%    5%   10%   25%   50%   75%   90%  \\\n",
       "T=500  10000 0.732 0.030 0.598 0.657 0.680 0.693 0.712 0.733 0.754 0.771   \n",
       "\n",
       "        95%   99%   max  \n",
       "T=500 0.780 0.798 0.832  "
      ]
     },
     "execution_count": 21,
     "metadata": {},
     "output_type": "execute_result"
    }
   ],
   "source": [
    "### GLS: Print summary statistics (w/ detailed percentiles)\n",
    "percentiles = [0.01, 0.05, 0.1, 0.25, 0.5, 0.75, 0.9, 0.95, 0.99]\n",
    "mc_stats = monte_carlo_stats(np_coef=gls_coefs[:,-1], nsample=nsample_T, percentiles=percentiles)\n",
    "mc_stats.T"
   ]
  },
  {
   "cell_type": "markdown",
   "metadata": {},
   "source": [
    "Once again, our \"brute force\" least squares routine will yield the same summary statistics as above:"
   ]
  },
  {
   "cell_type": "code",
   "execution_count": 22,
   "metadata": {},
   "outputs": [
    {
     "data": {
      "text/html": [
       "<div>\n",
       "<style scoped>\n",
       "    .dataframe tbody tr th:only-of-type {\n",
       "        vertical-align: middle;\n",
       "    }\n",
       "\n",
       "    .dataframe tbody tr th {\n",
       "        vertical-align: top;\n",
       "    }\n",
       "\n",
       "    .dataframe thead th {\n",
       "        text-align: right;\n",
       "    }\n",
       "</style>\n",
       "<table border=\"1\" class=\"dataframe\">\n",
       "  <thead>\n",
       "    <tr style=\"text-align: right;\">\n",
       "      <th></th>\n",
       "      <th>count</th>\n",
       "      <th>mean</th>\n",
       "      <th>std</th>\n",
       "      <th>min</th>\n",
       "      <th>1%</th>\n",
       "      <th>5%</th>\n",
       "      <th>10%</th>\n",
       "      <th>25%</th>\n",
       "      <th>50%</th>\n",
       "      <th>75%</th>\n",
       "      <th>90%</th>\n",
       "      <th>95%</th>\n",
       "      <th>99%</th>\n",
       "      <th>max</th>\n",
       "    </tr>\n",
       "  </thead>\n",
       "  <tbody>\n",
       "    <tr>\n",
       "      <th>T=500</th>\n",
       "      <td>10000</td>\n",
       "      <td>0.732</td>\n",
       "      <td>0.030</td>\n",
       "      <td>0.598</td>\n",
       "      <td>0.657</td>\n",
       "      <td>0.680</td>\n",
       "      <td>0.693</td>\n",
       "      <td>0.712</td>\n",
       "      <td>0.733</td>\n",
       "      <td>0.754</td>\n",
       "      <td>0.771</td>\n",
       "      <td>0.780</td>\n",
       "      <td>0.798</td>\n",
       "      <td>0.832</td>\n",
       "    </tr>\n",
       "  </tbody>\n",
       "</table>\n",
       "</div>"
      ],
      "text/plain": [
       "       count  mean   std   min    1%    5%   10%   25%   50%   75%   90%  \\\n",
       "T=500  10000 0.732 0.030 0.598 0.657 0.680 0.693 0.712 0.733 0.754 0.771   \n",
       "\n",
       "        95%   99%   max  \n",
       "T=500 0.780 0.798 0.832  "
      ]
     },
     "execution_count": 22,
     "metadata": {},
     "output_type": "execute_result"
    }
   ],
   "source": [
    "### LS w/ weight matrix = W/std(u_t): Print summary statistics (w/ detailed percentiles)\n",
    "percentiles = [0.01, 0.05, 0.1, 0.25, 0.5, 0.75, 0.9, 0.95, 0.99]\n",
    "mc_stats = monte_carlo_stats(np_coef=ls_coefs[:,-1], nsample=nsample_T, percentiles=percentiles)\n",
    "mc_stats.T"
   ]
  },
  {
   "cell_type": "markdown",
   "metadata": {},
   "source": [
    "Let's now plot histograms of our **OLS** and **GLS** estimates:"
   ]
  },
  {
   "cell_type": "code",
   "execution_count": 23,
   "metadata": {
    "collapsed": true
   },
   "outputs": [],
   "source": [
    "nsample_T = 500\n",
    "phi = .75\n",
    "alpha = 0.5\n",
    "sigma = 5\n",
    "trend_b = 0.5\n",
    "\n",
    "def plot_estimates(ols_phi_hat, gls_phi_hat, params): \n",
    "    \n",
    "    alpha, phi, trend_b, sigma = params[0], params[1], params[2], params[3]   \n",
    "    fig, axes = plt.subplots(nrows=1, ncols=2, figsize=(16,10))  \n",
    "    \n",
    "    \"\"\"\n",
    "    1. OLS: set up the 'statsmodels' object\n",
    "    \"\"\"\n",
    "    ols_phi_label = 'Mean$(\\widehat\\\\phi)$ = {:.3f}\\nStdDev$(\\widehat\\\\phi)$ = {:.3f}'\\\n",
    "                     .format(np.mean(ols_phi_hat),np.std(ols_phi_hat)) \n",
    "    ols_xlabel = '$\\widehat\\\\phi_{ols}$'\n",
    "    \n",
    "    axes[0].hist(ols_phi_hat, bins=100, density=True, edgecolor = \"black\", label=ols_phi_label) \n",
    "    axes[0].set_xlabel(ols_xlabel, fontsize=24)\n",
    "    axes[0].set_title('OLS : $y_t = \\\\alpha t + \\\\phi y_{t-1} + u_t$ \\n ' +\n",
    "                       'w/ $\\\\alpha={:.0f}, \\\\phi={:.2f}, b={:.2f}, \\\\sigma={:.2f}$'\\\n",
    "                        .format(alpha, phi, trend_b, sigma), fontsize=20) \n",
    "    \n",
    "    ymin, ymax = axes[0].get_ylim()\n",
    "    asy_mean = phi  \n",
    "    axes[0].plot((asy_mean, asy_mean), (ymin, ymax), 'r--')\n",
    "    axes[0].legend(fontsize=20)   \n",
    "      \n",
    "    \"\"\"\n",
    "    2. GLS: set up the 'statsmodels' object\n",
    "    \"\"\"\n",
    "    gls_phi_label = 'Mean$(\\widehat\\\\phi)$ = {:.3f}\\nStdDev$(\\widehat\\\\phi)$ = {:.3f}'\\\n",
    "                     .format(np.mean(gls_phi_hat),np.std(gls_phi_hat)) \n",
    "    gls_xlabel = '$\\widehat\\\\phi_{gls}$'\n",
    "    \n",
    "    axes[1].hist(gls_phi_hat, bins=100, density=True, edgecolor = \"black\", label=gls_phi_label) \n",
    "    axes[1].set_xlabel(gls_xlabel, fontsize=24)\n",
    "    axes[1].set_title('GLS : $y_t = \\\\alpha t + \\\\phi y_{t-1} + u_t$ \\n ' +\n",
    "                       'w/ $\\\\alpha={:.0f}, \\\\phi={:.2f}, b={:.2f}, \\\\sigma={:.2f}$'\\\n",
    "                        .format(alpha, phi, trend_b, sigma), fontsize=20) \n",
    "    \n",
    "    ymin, ymax = axes[1].get_ylim()\n",
    "    asy_mean = phi  \n",
    "    axes[1].plot((asy_mean, asy_mean), (ymin, ymax), 'r--')\n",
    "    axes[1].legend(fontsize=22)        \n",
    "        \n",
    "        \n",
    "    fig.tight_layout()   "
   ]
  },
  {
   "cell_type": "code",
   "execution_count": 24,
   "metadata": {},
   "outputs": [
    {
     "data": {
      "image/png": "[encoded data removed]",
      "text/plain": [
       "<Figure size 1152x720 with 2 Axes>"
      ]
     },
     "metadata": {
      "needs_background": "light"
     },
     "output_type": "display_data"
    }
   ],
   "source": [
    "### Plot the histogram of \"phi\" OLS and GLS estimates\n",
    "ols_phi = ols_coefs[:,-1]\n",
    "gls_phi = gls_coefs[:,-1]\n",
    "\n",
    "plot_estimates(ols_phi_hat=ols_phi, gls_phi_hat=gls_phi, params=[alpha, phi, trend_b, sigma])"
   ]
  },
  {
   "cell_type": "markdown",
   "metadata": {},
   "source": [
    "### Discussion: \n",
    "We can see that given we **KNOW** $\\mathbf{D}$, using **GLS** will provide us with more efficient estimates. This is seen in the histogram above, as well as in the econometric analysis from before. \n",
    "\n",
    "Given the structure of $\\mathbf{D}$, what is the asymptotic distribution of both the **OLS** estimate $\\widehat{\\phi}_{ols}$ and **GLS** estimate  $\\widehat{\\phi}_{gls}$?"
   ]
  },
  {
   "cell_type": "markdown",
   "metadata": {},
   "source": [
    "### Misspecification and GLS:\n",
    "\n",
    "Recall that the **GLS** estimator can be computed easily if we know the structure of the variance-covariance matrix $\\mathbf{D}$ in:\n",
    "\n",
    "$$\n",
    "E\\left[ u u' | \\mathbf{X} \\right] = \\sigma^2 \\mathbf{D}\n",
    "$$\n",
    "\n",
    "If we don't know $\\mathbf{D}$, we have to estimate it. If we have a diffuse prior on what $\\mathbf{D}$ should be, we run the risk of grossly misspecifying $\\mathbf{D}$! \n",
    "\n",
    "With a misspecified $\\mathbf{D}$, an *efficient* **GLS** estimate in comparison to the **OLS** estimate may not be very useful in our work! We can also estimate it (this is **Feasible GLS**).\n",
    "\n",
    "Let's revisit our model from before with $\\alpha=0$, $\\phi=0.75$, $b=0.5$, and $\\sigma=5$. \n",
    "\n",
    "Now, let's forget that we know the \"true\" exponent power $b$, which gives us a <u>linear trend</u> in the variance of the error term: \n",
    "\n",
    "$$\n",
    "Var_t\\left[u_t\\right] = E_t\\left[u_t^2\\right] = (\\sigma t^{0.5})^2 = \\sigma^2 t\n",
    "$$\n",
    "\n",
    "and let's suppose we \"misspecify\" the structure of the errors and estimate via **GLS** a model with $b=1$:\n",
    "\n",
    "$$\n",
    "Var_t\\left[u_t\\right] = E_t\\left[u_t^2\\right] = (\\sigma t)^2 = \\sigma^2 t^2\n",
    "$$\n",
    "\n",
    "This model assumes a <u>linear trend</u> in the *volatility* of the error term: "
   ]
  },
  {
   "cell_type": "code",
   "execution_count": 25,
   "metadata": {
    "collapsed": true
   },
   "outputs": [],
   "source": [
    "### 1. OLS\n",
    "ols_coefs       = np.empty((Nsims, 3))\n",
    "ols_ci_bounds   = pd.DataFrame(index = list(range(0,Nsims)), columns=['alpha', 'phi'])\n",
    "ols_ci_bounds_r = pd.DataFrame(index = list(range(0,Nsims)), columns=['alpha', 'phi'])\n",
    "\n",
    "### 2. misspecified GLS\n",
    "mgls_coefs       = np.empty((Nsims, 3))\n",
    "mgls_ci_bounds   = pd.DataFrame(index = list(range(0,Nsims)), columns=['alpha', 'phi'])\n",
    "mgls_ci_bounds_r = pd.DataFrame(index = list(range(0,Nsims)), columns=['alpha', 'phi'])\n",
    "\n",
    "### Misspecified trend in the errors:\n",
    "miss_trend_b = 1\n",
    "\n",
    "miss_diag_sigma2 = (sigma**2)*(tt**(2*miss_trend_b))\n",
    "miss_Dtilde = np.diag(miss_diag_sigma2.T[0])\n",
    "\n",
    "for ss in range(Nsims): \n",
    "    \"\"\"\n",
    "    1. OLS: set up the 'statsmodels' object\n",
    "    \"\"\"\n",
    "    ols_beta_hat  ,_,ols_ci   = _sm_calc_ols(y[:,ss], np.c_[tt, Ylag[:,ss]], addcon=True)    \n",
    "    ols_beta_hat_r,_,ols_ci_r = _sm_calc_ols(y[:,ss], np.c_[tt, Ylag[:,ss]], addcon=True, cov_type='HC0')\n",
    "        \n",
    "    ### Store regression estimates in [Nsims x K] numpy array, \n",
    "    ### with \"K\" = # of parameters excluding constant\n",
    "    ols_coefs[ss, :] = ols_beta_hat\n",
    "      \n",
    "    ### Store confidence intervals for each parameter in 'DataFrame' object\n",
    "    ### Note: \"non-robust\" and White (robust)\n",
    "    ols_ci_bounds.iloc[ss]   = [ols_ci[0],   ols_ci[1]]\n",
    "    ols_ci_bounds_r.iloc[ss] = [ols_ci_r[0], ols_ci_r[1]]\n",
    "    \n",
    "    \n",
    "    \"\"\"\n",
    "    2. GLS: set up the 'statsmodels' object\n",
    "    \"\"\"\n",
    "    mgls_beta_hat  ,_,mgls_ci   = _sm_calc_gls(y[:,ss], np.c_[tt, Ylag[:,ss]], \n",
    "                                               Dtilde=miss_Dtilde, addcon=True)    \n",
    "    mgls_beta_hat_r,_,mgls_ci_r = _sm_calc_gls(y[:,ss], np.c_[tt, Ylag[:,ss]], \n",
    "                                               Dtilde=miss_Dtilde, addcon=True, cov_type='HC0')\n",
    "    \n",
    "    ### Store regression estimates in [Nsims x K] numpy array, \n",
    "    ### with \"K\" = # of parameters excluding constant\n",
    "    mgls_coefs[ss, :] = mgls_beta_hat\n",
    "  \n",
    "    ### Store confidence intervals for each parameter in 'DataFrame' object\n",
    "    mgls_ci_bounds.iloc[ss]   = [mgls_ci[0],   mgls_ci[1]]\n",
    "    mgls_ci_bounds_r.iloc[ss] = [mgls_ci_r[0], mgls_ci_r[1]]\n",
    "\n",
    "\n",
    "### 1. OLS: Rejection probabilities\n",
    "ols_reject_prob   = calc_rej_probs(ci_bounds=ols_ci_bounds,   true_params=[alpha, phi])\n",
    "ols_reject_prob_r = calc_rej_probs(ci_bounds=ols_ci_bounds_r, true_params=[alpha, phi])\n",
    "\n",
    "### 2. GLS: Rejection probabilities\n",
    "mgls_reject_prob   = calc_rej_probs(ci_bounds=mgls_ci_bounds,   true_params=[alpha, phi])\n",
    "mgls_reject_prob_r = calc_rej_probs(ci_bounds=mgls_ci_bounds_r, true_params=[alpha, phi])"
   ]
  },
  {
   "cell_type": "markdown",
   "metadata": {},
   "source": [
    "Below are the rejection probabilities for our original **OLS** and new **GLS** estimates:"
   ]
  },
  {
   "cell_type": "code",
   "execution_count": 26,
   "metadata": {},
   "outputs": [
    {
     "name": "stdout",
     "output_type": "stream",
     "text": [
      "OLS rejection probabilities for \"phi\":\n",
      "\tOLS (non-robust SEs):   0.099\n",
      "\tOLS (robust SEs):   0.064\n"
     ]
    }
   ],
   "source": [
    "### Rejection probabilities for the OLS model with both non-robust and robust SEs:\n",
    "print('OLS rejection probabilities for \"phi\":')\n",
    "print('\\tOLS (non-robust SEs):  ', round(ols_reject_prob[-1], 3))\n",
    "print('\\tOLS (robust SEs):  ', round(ols_reject_prob_r[-1], 3))"
   ]
  },
  {
   "cell_type": "code",
   "execution_count": 27,
   "metadata": {},
   "outputs": [
    {
     "name": "stdout",
     "output_type": "stream",
     "text": [
      "GLS rejection probabilities for \"phi\":\n",
      "\tGLS (non-robust SEs):   0.779\n",
      "\tGLS (robust SEs):   0.302\n"
     ]
    }
   ],
   "source": [
    "### Rejection probabilities for the misspecified GLS model with both non-robust and robust SEs:\n",
    "print('GLS rejection probabilities for \"phi\":')\n",
    "print('\\tGLS (non-robust SEs):  ', round(mgls_reject_prob[-1], 3))\n",
    "print('\\tGLS (robust SEs):  ', round(mgls_reject_prob_r[-1], 3))"
   ]
  },
  {
   "cell_type": "markdown",
   "metadata": {},
   "source": [
    "The summary statistics from our Monte Carlo estimates are also below:"
   ]
  },
  {
   "cell_type": "code",
   "execution_count": 28,
   "metadata": {},
   "outputs": [
    {
     "data": {
      "text/html": [
       "<div>\n",
       "<style scoped>\n",
       "    .dataframe tbody tr th:only-of-type {\n",
       "        vertical-align: middle;\n",
       "    }\n",
       "\n",
       "    .dataframe tbody tr th {\n",
       "        vertical-align: top;\n",
       "    }\n",
       "\n",
       "    .dataframe thead th {\n",
       "        text-align: right;\n",
       "    }\n",
       "</style>\n",
       "<table border=\"1\" class=\"dataframe\">\n",
       "  <thead>\n",
       "    <tr style=\"text-align: right;\">\n",
       "      <th></th>\n",
       "      <th>count</th>\n",
       "      <th>mean</th>\n",
       "      <th>std</th>\n",
       "      <th>min</th>\n",
       "      <th>1%</th>\n",
       "      <th>5%</th>\n",
       "      <th>10%</th>\n",
       "      <th>25%</th>\n",
       "      <th>50%</th>\n",
       "      <th>75%</th>\n",
       "      <th>90%</th>\n",
       "      <th>95%</th>\n",
       "      <th>99%</th>\n",
       "      <th>max</th>\n",
       "    </tr>\n",
       "  </thead>\n",
       "  <tbody>\n",
       "    <tr>\n",
       "      <th>T=500</th>\n",
       "      <td>10000</td>\n",
       "      <td>0.736</td>\n",
       "      <td>0.035</td>\n",
       "      <td>0.592</td>\n",
       "      <td>0.647</td>\n",
       "      <td>0.676</td>\n",
       "      <td>0.690</td>\n",
       "      <td>0.713</td>\n",
       "      <td>0.737</td>\n",
       "      <td>0.761</td>\n",
       "      <td>0.780</td>\n",
       "      <td>0.791</td>\n",
       "      <td>0.809</td>\n",
       "      <td>0.844</td>\n",
       "    </tr>\n",
       "  </tbody>\n",
       "</table>\n",
       "</div>"
      ],
      "text/plain": [
       "       count  mean   std   min    1%    5%   10%   25%   50%   75%   90%  \\\n",
       "T=500  10000 0.736 0.035 0.592 0.647 0.676 0.690 0.713 0.737 0.761 0.780   \n",
       "\n",
       "        95%   99%   max  \n",
       "T=500 0.791 0.809 0.844  "
      ]
     },
     "execution_count": 28,
     "metadata": {},
     "output_type": "execute_result"
    }
   ],
   "source": [
    "### OLS: Print summary statistics (w/ detailed percentiles)\n",
    "percentiles = [0.01, 0.05, 0.1, 0.25, 0.5, 0.75, 0.9, 0.95, 0.99]\n",
    "mc_stats = monte_carlo_stats(np_coef=ols_coefs[:,-1], nsample=nsample_T, percentiles=percentiles)\n",
    "mc_stats.T"
   ]
  },
  {
   "cell_type": "code",
   "execution_count": 29,
   "metadata": {},
   "outputs": [
    {
     "data": {
      "text/html": [
       "<div>\n",
       "<style scoped>\n",
       "    .dataframe tbody tr th:only-of-type {\n",
       "        vertical-align: middle;\n",
       "    }\n",
       "\n",
       "    .dataframe tbody tr th {\n",
       "        vertical-align: top;\n",
       "    }\n",
       "\n",
       "    .dataframe thead th {\n",
       "        text-align: right;\n",
       "    }\n",
       "</style>\n",
       "<table border=\"1\" class=\"dataframe\">\n",
       "  <thead>\n",
       "    <tr style=\"text-align: right;\">\n",
       "      <th></th>\n",
       "      <th>count</th>\n",
       "      <th>mean</th>\n",
       "      <th>std</th>\n",
       "      <th>min</th>\n",
       "      <th>1%</th>\n",
       "      <th>5%</th>\n",
       "      <th>10%</th>\n",
       "      <th>25%</th>\n",
       "      <th>50%</th>\n",
       "      <th>75%</th>\n",
       "      <th>90%</th>\n",
       "      <th>95%</th>\n",
       "      <th>99%</th>\n",
       "      <th>max</th>\n",
       "    </tr>\n",
       "  </thead>\n",
       "  <tbody>\n",
       "    <tr>\n",
       "      <th>T=500</th>\n",
       "      <td>10000</td>\n",
       "      <td>0.622</td>\n",
       "      <td>0.094</td>\n",
       "      <td>0.123</td>\n",
       "      <td>0.349</td>\n",
       "      <td>0.455</td>\n",
       "      <td>0.501</td>\n",
       "      <td>0.568</td>\n",
       "      <td>0.632</td>\n",
       "      <td>0.686</td>\n",
       "      <td>0.730</td>\n",
       "      <td>0.757</td>\n",
       "      <td>0.815</td>\n",
       "      <td>0.943</td>\n",
       "    </tr>\n",
       "  </tbody>\n",
       "</table>\n",
       "</div>"
      ],
      "text/plain": [
       "       count  mean   std   min    1%    5%   10%   25%   50%   75%   90%  \\\n",
       "T=500  10000 0.622 0.094 0.123 0.349 0.455 0.501 0.568 0.632 0.686 0.730   \n",
       "\n",
       "        95%   99%   max  \n",
       "T=500 0.757 0.815 0.943  "
      ]
     },
     "execution_count": 29,
     "metadata": {},
     "output_type": "execute_result"
    }
   ],
   "source": [
    "### GLS: Print summary statistics (w/ detailed percentiles)\n",
    "percentiles = [0.01, 0.05, 0.1, 0.25, 0.5, 0.75, 0.9, 0.95, 0.99]\n",
    "mc_stats = monte_carlo_stats(np_coef=mgls_coefs[:,-1], nsample=nsample_T, percentiles=percentiles)\n",
    "mc_stats.T"
   ]
  },
  {
   "cell_type": "markdown",
   "metadata": {},
   "source": [
    "Let's now plot the estimates of $\\widehat\\phi$ for OLS and our new GLS procedure:"
   ]
  },
  {
   "cell_type": "code",
   "execution_count": 30,
   "metadata": {
    "collapsed": true
   },
   "outputs": [],
   "source": [
    "nsample_T = 500\n",
    "phi = .75\n",
    "alpha = 0.5\n",
    "sigma = 5\n",
    "\n",
    "def plot_estimates(ols_phi_hat, gls_phi_hat, params): \n",
    "    \n",
    "    alpha, phi, trend_b, sigma = params[0], params[1], params[2], params[3]   \n",
    "    fig, axes = plt.subplots(nrows=1, ncols=2, figsize=(16,10))  \n",
    "    \n",
    "    \"\"\"\n",
    "    1. OLS: set up the 'statsmodels' object\n",
    "    \"\"\"\n",
    "    ols_phi_label = 'Mean$(\\widehat\\\\phi)$ = {:.3f}\\nStdDev$(\\widehat\\\\phi)$ = {:.3f}'\\\n",
    "                     .format(np.mean(ols_phi_hat),np.std(ols_phi_hat)) \n",
    "    ols_xlabel = '$\\widehat\\\\phi_{ols}$'\n",
    "    \n",
    "    axes[0].hist(ols_phi_hat, bins=100, density=True, edgecolor = \"black\", label=ols_phi_label) \n",
    "    axes[0].set_xlabel(ols_xlabel, fontsize=24)\n",
    "    axes[0].set_title('OLS : $y_t = \\\\alpha t + \\\\phi y_{t-1} + u_t$ \\n ' +\n",
    "                       'w/ $\\\\alpha={:.0f}, \\\\phi={:.2f}, b={:.2f}, \\\\sigma={:.2f}$'\\\n",
    "                        .format(alpha, phi, trend_b, sigma), fontsize=20) \n",
    "    \n",
    "    ymin, ymax = axes[0].get_ylim()\n",
    "    asy_mean = phi  \n",
    "    axes[0].plot((asy_mean, asy_mean), (ymin, ymax), 'r--')\n",
    "    axes[0].legend(fontsize=20)   \n",
    "      \n",
    "    \"\"\"\n",
    "    2. GLS: set up the 'statsmodels' object\n",
    "    \"\"\"\n",
    "    gls_phi_label = 'Mean$(\\widehat\\\\phi)$ = {:.3f}\\nStdDev$(\\widehat\\\\phi)$ = {:.3f}'\\\n",
    "                     .format(np.mean(gls_phi_hat),np.std(gls_phi_hat)) \n",
    "    gls_xlabel = '$\\widehat\\\\phi_{gls}$'\n",
    "    \n",
    "    axes[1].hist(gls_phi_hat, bins=100, density=True, edgecolor = \"black\", label=gls_phi_label) \n",
    "    axes[1].set_xlabel(gls_xlabel, fontsize=24)\n",
    "    axes[1].set_title('Misspecified GLS : $y_t = \\\\alpha t + \\\\phi y_{t-1} + u_t$ \\n ' +\n",
    "                       'w/ $\\\\alpha={:.0f}, \\\\phi={:.2f}, b={:.2f}, \\\\sigma={:.2f}$'\\\n",
    "                        .format(alpha, phi, trend_b, sigma), fontsize=20) \n",
    "    \n",
    "    ymin, ymax = axes[1].get_ylim()\n",
    "    asy_mean = phi  \n",
    "    axes[1].plot((asy_mean, asy_mean), (ymin, ymax), 'r--')\n",
    "    axes[1].legend(fontsize=22)        \n",
    "        \n",
    "        \n",
    "    fig.tight_layout()   "
   ]
  },
  {
   "cell_type": "code",
   "execution_count": 31,
   "metadata": {},
   "outputs": [
    {
     "data": {
      "image/png": "[encoded data removed]",
      "text/plain": [
       "<Figure size 1152x720 with 2 Axes>"
      ]
     },
     "metadata": {
      "needs_background": "light"
     },
     "output_type": "display_data"
    }
   ],
   "source": [
    "### Plot the histogram of \"phi\" OLS and misspecified GLS estimates\n",
    "ols_phi  = ols_coefs[:,-1]\n",
    "mgls_phi = mgls_coefs[:,-1]\n",
    "\n",
    "plot_estimates(ols_phi_hat=ols_phi, gls_phi_hat=mgls_phi, params=[alpha, phi, trend_b, sigma])"
   ]
  },
  {
   "cell_type": "markdown",
   "metadata": {},
   "source": [
    "### Discussion:\n",
    "\n",
    "What do we see here? With knowledge of the \"true\" $b$, we saw that **GLS** is more EFFICIENT than **OLS**. However, without knowledge of \"true\" $b$, if we grossly misspecify structure of $\\mathbf{D}$, in this case, grossly misspecify the trend in the second-order properties of the error terms, **GLS** is less EFFICIENT than **OLS**.\n",
    "\n",
    "What else do you see here???"
   ]
  },
  {
   "cell_type": "markdown",
   "metadata": {},
   "source": [
    "### Final Thought:\n",
    "\n",
    "A nice GLS example can be found [here](http://statsmodels.sourceforge.net/devel/examples/notebooks/generated/gls.html)."
   ]
  },
  {
   "cell_type": "markdown",
   "metadata": {},
   "source": [
    "## Example 2: GLS when errors follow an AR(1) process\n",
    "\n",
    "Consider the linear regression model:\n",
    "$$\n",
    "y_t = \\beta x_t + u_t \\\\\n",
    "u_t = \\phi u_{t-1}+\\epsilon_t \n",
    "$$\n",
    "\n",
    "where $x_t$ is exogeneous and $\\epsilon_t \\sim i.i.d. N(0, \\sigma^2_{\\epsilon})$. Let's also assume $x_t \\sim i.i.d. N(0, \\sigma^2_{x})$. Here, the variance of $u$ will be denoted $\\sigma^2_{u}$\n",
    "\n",
    "**Question**: Estimate the model by **GLS**.<br>\n",
    "\n",
    "**Suggested steps:**\n",
    "* Get the **OLS** residuals $\\hat{u}_t$ and estimate $\\hat{\\phi}$.\n",
    "* Construct an estimate of the variance-covariance matrix $\\widetilde{\\mathbf{D}} = \\sigma^2_{u}\\mathbf{D}$ matrix for **GLS** using the following fact: $Cov(u_t, u_{t-j}) = E[u_t u_{t-j}] = \\frac{\\sigma^2_{\\epsilon}\\phi^j}{1 - \\phi^2}$\n",
    "* Use the estimate of $\\widetilde{\\mathbf{D}}$ to then estimate $\\hat{\\beta}_{GLS}$\n",
    "\n",
    "\n",
    "**Hints**:\n",
    "* For constructing $\\widetilde{\\mathbf{D}}$, take a look at `scipy.linalg.toeplitz`"
   ]
  },
  {
   "cell_type": "markdown",
   "metadata": {},
   "source": [
    "Let's assume $\\beta=2$, $\\phi=0.9$, and $T=500$."
   ]
  },
  {
   "cell_type": "code",
   "execution_count": 32,
   "metadata": {},
   "outputs": [
    {
     "name": "stdout",
     "output_type": "stream",
     "text": [
      "Sample: 500\n",
      "                            OLS Regression Results                            \n",
      "==============================================================================\n",
      "Dep. Variable:                      y   R-squared:                       0.446\n",
      "Model:                            OLS   Adj. R-squared:                  0.445\n",
      "Method:                 Least Squares   F-statistic:                     401.0\n",
      "Date:                Sat, 18 May 2019   Prob (F-statistic):           7.06e-66\n",
      "Time:                        01:44:04   Log-Likelihood:                -1072.7\n",
      "No. Observations:                 500   AIC:                             2149.\n",
      "Df Residuals:                     498   BIC:                             2158.\n",
      "Df Model:                           1                                         \n",
      "Covariance Type:            nonrobust                                         \n",
      "==============================================================================\n",
      "                 coef    std err          t      P>|t|      [0.025      0.975]\n",
      "------------------------------------------------------------------------------\n",
      "const          0.1970      0.093      2.126      0.034       0.015       0.379\n",
      "x1             1.8811      0.094     20.026      0.000       1.697       2.066\n",
      "==============================================================================\n",
      "Omnibus:                        0.389   Durbin-Watson:                   0.237\n",
      "Prob(Omnibus):                  0.823   Jarque-Bera (JB):                0.336\n",
      "Skew:                           0.063   Prob(JB):                        0.845\n",
      "Kurtosis:                       3.013   Cond. No.                         1.03\n",
      "==============================================================================\n",
      "\n",
      "Warnings:\n",
      "[1] Standard Errors assume that the covariance matrix of the errors is correctly specified.\n"
     ]
    }
   ],
   "source": [
    "### Simulate the linear model with AR(1) errors and estimate by OLS\n",
    "beta = 2\n",
    "phi = .9\n",
    "\n",
    "### Use `statsmodels` function \"sm.tsa.ArmaProcess\" \n",
    "ar_model = sm.tsa.ArmaProcess(ar=[1, -phi], ma=[1])\n",
    "\n",
    "nsample = 500\n",
    "np.random.seed(1234)\n",
    "print('Sample: %d' % nsample)\n",
    "\n",
    "### Simulate model: draw MA(1) shocks\n",
    "U = ar_model.generate_sample(nsample)\n",
    "\n",
    "### Draw exogeneous \"x\"\n",
    "x = np.random.normal(size=nsample)\n",
    "\n",
    "### Create the process \"y\" \n",
    "Y = beta*x + U\n",
    "\n",
    "### Estimatethe the model via OLS to get residuals\n",
    "X = sm.add_constant(x)\n",
    "ols_model = sm.OLS(Y, X).fit()\n",
    "ols_resid = ols_model.resid # OLS residuals \"u_hat\" used to estimate Dtilde. \n",
    "\n",
    "print(ols_model.summary())"
   ]
  },
  {
   "cell_type": "markdown",
   "metadata": {},
   "source": [
    "Let's look at the *ACF* and *PACF* of the residuals from the above regression:"
   ]
  },
  {
   "cell_type": "code",
   "execution_count": 33,
   "metadata": {},
   "outputs": [
    {
     "data": {
      "image/png": "[encoded data removed]",
      "text/plain": [
       "<Figure size 864x432 with 2 Axes>"
      ]
     },
     "metadata": {
      "needs_background": "light"
     },
     "output_type": "display_data"
    }
   ],
   "source": [
    "### Import 'statsmodels' routines for  ACF/PACF plotting\n",
    "from statsmodels.graphics.tsaplots import plot_acf, plot_pacf\n",
    "\n",
    "nlags = 15\n",
    "fig, axes = plt.subplots(nrows=1, ncols=2, figsize=(12,6))\n",
    "plot_acf(ols_resid, ax=axes[0], lags=nlags)\n",
    "plot_pacf(ols_resid, ax=axes[1], lags=nlags)\n",
    "\n",
    "axes[0].set_xlabel('Time', fontsize=20)\n",
    "axes[0].set_title(\"${\\it ACF}$: $\\widehat{u_t}$\", fontsize=20)\n",
    "\n",
    "axes[1].set_xlabel('Time', fontsize=20)\n",
    "axes[1].set_title(\"${\\it PACF}$: $\\widehat{u_t}$\", fontsize=20)\n",
    "fig.tight_layout()"
   ]
  },
  {
   "cell_type": "markdown",
   "metadata": {},
   "source": [
    "Since the *ACF* of the OLS residuals $\\widehat{u_t}$ decays exponentially to zero as the lag increases and the *PACF* cuts off after one lag, then this confirms that the estimated errors follow an AR($1$) process."
   ]
  },
  {
   "cell_type": "markdown",
   "metadata": {},
   "source": [
    "Of course, the exact $\\phi$  is not known so it it might make more sense to use **Feasible GLS** (see **Lecture slides 3, page 11**).\n",
    "\n",
    "We can now construct the $\\widetilde{\\mathbf{D}} = \\sigma^2_{u}\\mathbf{D}$ matrix for **GLS**, which uses the fact that $Cov(u_t, u_{t-j}) = E[u_t u_{t-j}] = \\frac{\\sigma^2_{\\epsilon}\\phi^j}{1 - \\phi^2}$.\n",
    "\n",
    "Recall that the autocorrelation function, *ACF*, of the AR($1$) error process ${u}$ at some lag $j>0$ is given by:\n",
    "\n",
    "$$\n",
    " Corr(u_t, u_{t-j})=\\frac{Cov(u_t, u_{t-j})}{\\sqrt{(Var(u_t)(Var(u_{t-j})}} \n",
    " = \\frac{Cov(u_t, u_{t-j})}{Var(u_t)} = \\frac{ \\frac{ \\sigma^2_{\\epsilon} \\phi^{j} }{1 - \\phi^2}}{ \\frac{ \\sigma^2_{\\epsilon}}{1 - \\phi^2}} = \\phi^{j}\n",
    "$$\n",
    "\n",
    "\n",
    "Hence, $\\sigma^2_{u}\\mathbf{D(\\mathbf{X})}$  will have the form:\n",
    "\n",
    "$$\n",
    "\\frac{\\sigma^2_{\\epsilon}}{1 - \\phi^2} \n",
    "\\left[\n",
    " \\begin{array}{cccc}\n",
    "  1 & \\phi   & \\phi^2   &... & \\phi^{T-1} \\\\\n",
    "  \\phi & 1 & \\phi  &... &\\phi^{T-2} \\\\\n",
    "  \\phi^2 &  \\phi   & 1 &... & \\phi^{T-3} \\\\ \n",
    "  . & .   & .   &... & . \\\\\n",
    "  . & .   & .   &... & . \\\\\n",
    "  \\phi^{T-1} & \\phi^{T-2}   & .   &... & 1 \\\\\n",
    "  \\end{array}\n",
    "\\right]\n",
    "$$\n",
    "\n",
    "where $\\sigma^2_{u} = \\frac{\\sigma^2_{\\epsilon}}{1 - \\phi^2}$. \n",
    "\n",
    "With **Feasible GLS**, since we don't \"know\" $\\phi$, we need to estimate the matrix $\\mathbf{D}$ as well as $\\sigma^2_{u}=\\frac{\\sigma^2_{\\epsilon}}{1 - \\phi^2} $. \n",
    "\n",
    "Though we would think to use our estimate of $\\phi$ to estimate $\\sigma^2_{u}$ (since the denominator has the term $(1 - \\phi^2))$, we also don't know $\\sigma^2_{\\epsilon}$. Instead, we can use the sample variance of our residuals from the OLS regression of $y_t = \\beta x_t +u_t$ to estimate $\\sigma^2_{u}$."
   ]
  },
  {
   "cell_type": "code",
   "execution_count": 34,
   "metadata": {},
   "outputs": [
    {
     "name": "stdout",
     "output_type": "stream",
     "text": [
      "Residual AR(1) parameter: 0.887\n",
      "t-stat: 41.454\n",
      "4.2753242926541555\n",
      "Sample variance of OLS residuals 'u_hat':  4.275\n",
      "\n",
      "Rows 1-10 of D:\n",
      "[[1.    0.887 0.788 0.699 0.62  0.55  0.489 0.434 0.385 0.341]\n",
      " [0.887 1.    0.887 0.788 0.699 0.62  0.55  0.489 0.434 0.385]\n",
      " [0.788 0.887 1.    0.887 0.788 0.699 0.62  0.55  0.489 0.434]\n",
      " [0.699 0.788 0.887 1.    0.887 0.788 0.699 0.62  0.55  0.489]\n",
      " [0.62  0.699 0.788 0.887 1.    0.887 0.788 0.699 0.62  0.55 ]\n",
      " [0.55  0.62  0.699 0.788 0.887 1.    0.887 0.788 0.699 0.62 ]\n",
      " [0.489 0.55  0.62  0.699 0.788 0.887 1.    0.887 0.788 0.699]\n",
      " [0.434 0.489 0.55  0.62  0.699 0.788 0.887 1.    0.887 0.788]\n",
      " [0.385 0.434 0.489 0.55  0.62  0.699 0.788 0.887 1.    0.887]\n",
      " [0.341 0.385 0.434 0.489 0.55  0.62  0.699 0.788 0.887 1.   ]] \n",
      "\n",
      "\n",
      "Rows 1-10 of Dtilde:\n",
      "[[4.275 3.794 3.367 2.988 2.652 2.353 2.089 1.853 1.645 1.46 ]\n",
      " [3.794 4.275 3.794 3.367 2.988 2.652 2.353 2.089 1.853 1.645]\n",
      " [3.367 3.794 4.275 3.794 3.367 2.988 2.652 2.353 2.089 1.853]\n",
      " [2.988 3.367 3.794 4.275 3.794 3.367 2.988 2.652 2.353 2.089]\n",
      " [2.652 2.988 3.367 3.794 4.275 3.794 3.367 2.988 2.652 2.353]\n",
      " [2.353 2.652 2.988 3.367 3.794 4.275 3.794 3.367 2.988 2.652]\n",
      " [2.089 2.353 2.652 2.988 3.367 3.794 4.275 3.794 3.367 2.988]\n",
      " [1.853 2.089 2.353 2.652 2.988 3.367 3.794 4.275 3.794 3.367]\n",
      " [1.645 1.853 2.089 2.353 2.652 2.988 3.367 3.794 4.275 3.794]\n",
      " [1.46  1.645 1.853 2.089 2.353 2.652 2.988 3.367 3.794 4.275]] \n",
      "\n"
     ]
    }
   ],
   "source": [
    "###\n",
    "### Estimate an AR(1) for the residuals \"u_hat\" and construct the \"Dtilde\" matrix from GLS. \n",
    "###\n",
    "\n",
    "### Estimate \"phi\" using \"ols_resid\" (AR(1) for residuals from \"OLS\" in previous cell)\n",
    "resid_fit = sm.OLS(ols_resid[1:], sm.add_constant(ols_resid[:-1])).fit()\n",
    "phi_hat = resid_fit.params[1]\n",
    "\n",
    "print('Residual AR(1) parameter: %.03f' %  phi_hat)\n",
    "print('t-stat: %.03f' %  resid_fit.tvalues[1])\n",
    "\n",
    "### Create \"Dtilde\"\n",
    "from scipy.linalg import toeplitz\n",
    "order = toeplitz(range(len(ols_resid)))\n",
    "D = phi_hat**order\n",
    "\n",
    "### Sample variance of u_hat:\n",
    "sigma2_u_hat = np.var(ols_resid)\n",
    "print(sigma2_u_hat)\n",
    "\n",
    "print(\"Sample variance of OLS residuals 'u_hat': \", round(sigma2_u_hat, 3))\n",
    "Dtilde = sigma2_u_hat*D\n",
    "      \n",
    "print('\\nRows 1-10 of D:')\n",
    "print(D[0:10,0:10], '\\n')\n",
    "      \n",
    "print('\\nRows 1-10 of Dtilde:')\n",
    "print(Dtilde[0:10,0:10], '\\n')      "
   ]
  },
  {
   "cell_type": "markdown",
   "metadata": {},
   "source": [
    "The **OLS** estimate of $\\phi$ is 0.887, almost identical to the true value of 0.9.\n",
    "\n",
    "Equipped with our estimate of $\\mathbf{D}$, we can now implement **Feasible GLS**:"
   ]
  },
  {
   "cell_type": "code",
   "execution_count": 35,
   "metadata": {},
   "outputs": [
    {
     "name": "stdout",
     "output_type": "stream",
     "text": [
      "                            GLS Regression Results                            \n",
      "==============================================================================\n",
      "Dep. Variable:                      y   R-squared:                       0.891\n",
      "Model:                            GLS   Adj. R-squared:                  0.891\n",
      "Method:                 Least Squares   F-statistic:                     4087.\n",
      "Date:                Sat, 18 May 2019   Prob (F-statistic):          3.31e-242\n",
      "Time:                        01:44:05   Log-Likelihood:                -689.01\n",
      "No. Observations:                 500   AIC:                             1382.\n",
      "Df Residuals:                     498   BIC:                             1390.\n",
      "Df Model:                           1                                         \n",
      "Covariance Type:            nonrobust                                         \n",
      "==============================================================================\n",
      "                 coef    std err          t      P>|t|      [0.025      0.975]\n",
      "------------------------------------------------------------------------------\n",
      "const          0.1127      0.376      0.300      0.764      -0.625       0.851\n",
      "x1             2.0300      0.032     63.932      0.000       1.968       2.092\n",
      "==============================================================================\n",
      "Omnibus:                        1.970   Durbin-Watson:                   2.093\n",
      "Prob(Omnibus):                  0.373   Jarque-Bera (JB):                1.794\n",
      "Skew:                           0.089   Prob(JB):                        0.408\n",
      "Kurtosis:                       3.233   Cond. No.                         11.8\n",
      "==============================================================================\n",
      "\n",
      "Warnings:\n",
      "[1] Standard Errors assume that the covariance matrix of the errors is correctly specified.\n"
     ]
    }
   ],
   "source": [
    "### Estimate GLS with sigma = Dtilde\n",
    "gls_model = sm.GLS(Y, X, sigma=Dtilde)\n",
    "gls_results = gls_model.fit()\n",
    "print(gls_results.summary())"
   ]
  },
  {
   "cell_type": "markdown",
   "metadata": {},
   "source": [
    "### Discussion:\n",
    "We get a **Feasible GLS** estimate for $\\beta$ of 2.0300, which is almost identical to the true value. \n",
    "\n",
    "We could also use White (robust) heteroskedastic errors, which are unnecessary here."
   ]
  },
  {
   "cell_type": "code",
   "execution_count": 36,
   "metadata": {},
   "outputs": [
    {
     "name": "stdout",
     "output_type": "stream",
     "text": [
      "                            GLS Regression Results                            \n",
      "==============================================================================\n",
      "Dep. Variable:                      y   R-squared:                       0.891\n",
      "Model:                            GLS   Adj. R-squared:                  0.891\n",
      "Method:                 Least Squares   F-statistic:                     4205.\n",
      "Date:                Sat, 18 May 2019   Prob (F-statistic):          5.75e-245\n",
      "Time:                        01:44:05   Log-Likelihood:                -689.01\n",
      "No. Observations:                 500   AIC:                             1382.\n",
      "Df Residuals:                     498   BIC:                             1390.\n",
      "Df Model:                           1                                         \n",
      "Covariance Type:                  HC0                                         \n",
      "==============================================================================\n",
      "                 coef    std err          z      P>|z|      [0.025      0.975]\n",
      "------------------------------------------------------------------------------\n",
      "const          0.1127      0.408      0.276      0.782      -0.686       0.912\n",
      "x1             2.0300      0.031     64.848      0.000       1.969       2.091\n",
      "==============================================================================\n",
      "Omnibus:                        1.970   Durbin-Watson:                   2.093\n",
      "Prob(Omnibus):                  0.373   Jarque-Bera (JB):                1.794\n",
      "Skew:                           0.089   Prob(JB):                        0.408\n",
      "Kurtosis:                       3.233   Cond. No.                         11.8\n",
      "==============================================================================\n",
      "\n",
      "Warnings:\n",
      "[1] Standard Errors are heteroscedasticity robust (HC0)\n"
     ]
    }
   ],
   "source": [
    "gls_results_r = gls_model.fit(cov_type='HC0')\n",
    "print(gls_results_r.summary())"
   ]
  },
  {
   "cell_type": "markdown",
   "metadata": {},
   "source": [
    "We can also use the **[Generalized Least Squares Autoregressive (GLSAR) model](https://www.statsmodels.org/dev/generated/statsmodels.regression.linear_model.GLSAR.html)** in `statsmodels` with one lag, to get to a similar result:\n",
    "\n",
    "`statsmodels.regression.linear_model.GLSAR(endog, exog=None, rho=1, missing='none', **kwargs)`\n",
    "\n",
    "The **GLSAR** model is a regression model with an AR($p$) covariance structure. The parameter `rho` in the `GLSAR` routine refers to the order of the autoregressive covariance structure of the shocks. Hence, to compare to the previous code we set `rho=1`."
   ]
  },
  {
   "cell_type": "code",
   "execution_count": 37,
   "metadata": {},
   "outputs": [
    {
     "name": "stdout",
     "output_type": "stream",
     "text": [
      "                           GLSAR Regression Results                           \n",
      "==============================================================================\n",
      "Dep. Variable:                      y   R-squared:                       0.446\n",
      "Model:                          GLSAR   Adj. R-squared:                  0.445\n",
      "Method:                 Least Squares   F-statistic:                     399.9\n",
      "Date:                Sat, 18 May 2019   Prob (F-statistic):           1.04e-65\n",
      "Time:                        01:44:05   Log-Likelihood:                -1071.0\n",
      "No. Observations:                 499   AIC:                             2146.\n",
      "Df Residuals:                     497   BIC:                             2154.\n",
      "Df Model:                           1                                         \n",
      "Covariance Type:            nonrobust                                         \n",
      "==============================================================================\n",
      "                 coef    std err          t      P>|t|      [0.025      0.975]\n",
      "------------------------------------------------------------------------------\n",
      "const          0.1964      0.093      2.115      0.035       0.014       0.379\n",
      "x1             1.8807      0.094     19.997      0.000       1.696       2.066\n",
      "==============================================================================\n",
      "Omnibus:                        0.388   Durbin-Watson:                   0.236\n",
      "Prob(Omnibus):                  0.824   Jarque-Bera (JB):                0.343\n",
      "Skew:                           0.064   Prob(JB):                        0.843\n",
      "Kurtosis:                       3.007   Cond. No.                         1.02\n",
      "==============================================================================\n",
      "\n",
      "Warnings:\n",
      "[1] Standard Errors assume that the covariance matrix of the errors is correctly specified.\n"
     ]
    }
   ],
   "source": [
    "### GLSAR implementation:\n",
    "glsar_model = sm.GLSAR(endog=Y, exog=X, rho=1)\n",
    "glsar_results = glsar_model.iterative_fit(1)\n",
    "print(glsar_results.summary())"
   ]
  },
  {
   "cell_type": "markdown",
   "metadata": {},
   "source": [
    "In comparing the estimate of $\\beta$ (and its standard error) for both the **GLS** and **GLSAR** model implementations, we do see some slight differences, which may be due to numerical errors in the algorithm (see cell below).\n",
    "\n",
    "As a general practice, always check the source code of a function from a package/library you are using. In our case, the source code for `GLSAR` routine from `statsmodels` can be found [here](https://www.statsmodels.org/dev/_modules/statsmodels/regression/linear_model.html#GLSAR)."
   ]
  },
  {
   "cell_type": "code",
   "execution_count": 38,
   "metadata": {},
   "outputs": [
    {
     "name": "stdout",
     "output_type": "stream",
     "text": [
      "GLS estimate of beta: 2.030\n",
      "GLSAR estimate of beta: 1.881\n"
     ]
    }
   ],
   "source": [
    "### Comparison of 'statsmodels' GLS and GLSAR:\n",
    "print('GLS estimate of beta: %.03f' % gls_results.params[-1])\n",
    "print('GLSAR estimate of beta: %.03f' % glsar_results.params[-1])"
   ]
  },
  {
   "cell_type": "markdown",
   "metadata": {},
   "source": [
    "## Exercise 3: MA($q$) and ARMA($p$, $q$) models: OLS and IV\n",
    "\n",
    "**Model 1**: Consider the regression model with MA($1$) errors:\n",
    "$$\n",
    "y_t = \\beta x_t + u_t \\\\\n",
    "u_t = \\epsilon_t + \\theta \\epsilon_{t-1}\n",
    "$$\n",
    "\n",
    "where $x_t$ is exogeneous and $\\epsilon_t \\sim i.i.d. N(0, \\sigma^2_{\\epsilon})$. Assume $x_t \\sim i.i.d. N(0, 1)$ and $\\sigma^2_{\\epsilon}=1$.\n",
    "\n",
    "**Question 1**: Simulate *Model 1* using the code below for different $\\beta$'s and estimate $\\beta$ by **OLS**.  Describe your results.  \n",
    "\n",
    "\n",
    "**Model 2**: Now consider the ARMA($1$,$1$) process\n",
    "$$\n",
    "y_t = \\phi y_{t-1} + u_t \\\\\n",
    "u_t = \\epsilon_t + \\theta \\epsilon_{t-1}\n",
    "$$\n",
    "\n",
    "also with $\\epsilon_t \\sim i.i.d. N(0, \\sigma^2_{\\epsilon})$.\n",
    "\n",
    "**Question 2**: Simulate *Model 2* using the code below for different $\\beta$'s and estimate $\\beta$ by OLS.  Describe your results. \n",
    "\n",
    "**Question 3**: How could you fix potential problems with **IV** regressions?\n",
    "\n",
    "**Hints**:\n",
    "* You can use `gmm.IV2SLS` (imported from `statsmodels.sandbox.regression`) as well as `sm.tsa.tsatools.lagmat` to create a numpy array of lags"
   ]
  },
  {
   "cell_type": "markdown",
   "metadata": {},
   "source": [
    "### Question 1: Regression model with MA(1) errors\n",
    "\n",
    "Let's assume $\\beta=2$ and $\\theta=0.9$. Let's also consider sample sizes $T=100,500,1000,5000,10000,20000$."
   ]
  },
  {
   "cell_type": "code",
   "execution_count": 39,
   "metadata": {},
   "outputs": [
    {
     "name": "stdout",
     "output_type": "stream",
     "text": [
      "Sample Size T=100\n",
      "OLS (beta): 2.126 \n",
      "\n",
      "Sample Size T=500\n",
      "OLS (beta): 1.965 \n",
      "\n",
      "Sample Size T=1000\n",
      "OLS (beta): 1.984 \n",
      "\n",
      "Sample Size T=5000\n",
      "OLS (beta): 2.028 \n",
      "\n",
      "Sample Size T=10000\n",
      "OLS (beta): 1.998 \n",
      "\n",
      "Sample Size T=20000\n",
      "OLS (beta): 2.002 \n",
      "\n"
     ]
    }
   ],
   "source": [
    "### Model 1 \n",
    "beta = 2\n",
    "theta = .9\n",
    "\n",
    "ma_model = sm.tsa.ArmaProcess(ar=[1], ma=[1, theta])\n",
    "\n",
    "nsample_T = [100, 500, 1000, 5000, 10000, 20000]\n",
    "for idx in range(0,len(nsample_T)):\n",
    "    np.random.seed(1234)\n",
    "    print('Sample Size T=%d' % nsample_T[idx])\n",
    "    \n",
    "    ### Simulate model: draw \"MA\" shocks\n",
    "    U = ma_model.generate_sample(nsample=nsample_T[idx]) #https://www.statsmodels.org/dev/generated/statsmodels.tsa.arima_process.ArmaProcess.generate_sample.html\n",
    "    \n",
    "    ### Exogeneous \"x\"\n",
    "    x = np.random.normal(size=nsample_T[idx])\n",
    "    Y = beta*x + U\n",
    "    \n",
    "    ### Estimate via OLS\n",
    "    X = sm.add_constant(x)\n",
    "    ols_model = sm.OLS(Y, X)\n",
    "    print('OLS (beta): %.03f' %  ols_model.fit().params[-1], '\\n')\n"
   ]
  },
  {
   "cell_type": "markdown",
   "metadata": {},
   "source": [
    "What do we see above?\n",
    "\n",
    "### Questions 2 and 3: ARMA($1$,$1$) model\n",
    "\n",
    "Let's assume $\\phi=0.5$ and $\\theta=0.9$. Let's also consider sample sizes $T=100,500,1000,5000,10000,20000$.\n"
   ]
  },
  {
   "cell_type": "markdown",
   "metadata": {},
   "source": [
    "In addition, let's write a simple \"brute force\" IV regression function:"
   ]
  },
  {
   "cell_type": "code",
   "execution_count": 40,
   "metadata": {
    "collapsed": true
   },
   "outputs": [],
   "source": [
    "def calc_iv(y, x, z, addcon=True):\n",
    "    Nobs = y.shape[0]\n",
    "    if addcon:\n",
    "        X = np.c_[np.ones((Nobs, 1)), x] # append the [Nobs x 1] columns of ones.\n",
    "    else:\n",
    "        X = x   \n",
    "    k = X.shape[1]   \n",
    "    \n",
    "    ZtX = np.dot(Z.T, X)\n",
    "    Zty = np.dot(Z.T, y)\n",
    "    \n",
    "    beta_iv_hat =  np.linalg.solve(ZtX, Zty) \n",
    "    \n",
    "    return beta_iv_hat"
   ]
  },
  {
   "cell_type": "code",
   "execution_count": 41,
   "metadata": {
    "scrolled": true
   },
   "outputs": [
    {
     "name": "stdout",
     "output_type": "stream",
     "text": [
      "Sample Size T=100\n",
      "statsmodels OLS (phi): 0.630\n",
      "statsmodels IV (phi): 0.177\n",
      "brute-force IV (phi): 0.177 \n",
      "\n",
      "Sample Size T=500\n",
      "statsmodels OLS (phi): 0.736\n",
      "statsmodels IV (phi): 0.496\n",
      "brute-force IV (phi): 0.496 \n",
      "\n",
      "Sample Size T=1000\n",
      "statsmodels OLS (phi): 0.724\n",
      "statsmodels IV (phi): 0.465\n",
      "brute-force IV (phi): 0.465 \n",
      "\n",
      "Sample Size T=5000\n",
      "statsmodels OLS (phi): 0.747\n",
      "statsmodels IV (phi): 0.497\n",
      "brute-force IV (phi): 0.497 \n",
      "\n",
      "Sample Size T=10000\n",
      "statsmodels OLS (phi): 0.752\n",
      "statsmodels IV (phi): 0.507\n",
      "brute-force IV (phi): 0.507 \n",
      "\n",
      "Sample Size T=20000\n",
      "statsmodels OLS (phi): 0.755\n",
      "statsmodels IV (phi): 0.510\n",
      "brute-force IV (phi): 0.510 \n",
      "\n"
     ]
    }
   ],
   "source": [
    "### Model 2: ARMA(1,1)\n",
    "phi = 0.5\n",
    "theta = 0.9\n",
    "\n",
    "arma_model = sm.tsa.ArmaProcess(ar=[1,-phi], ma=[1,theta])\n",
    "\n",
    "nsample_T = [100, 500, 1000, 5000, 10000, 20000]\n",
    "\n",
    "for idx in range(0,len(nsample_T)):\n",
    "    np.random.seed(1234)\n",
    "    print('Sample Size T=%d' % nsample_T[idx])\n",
    "    Y = arma_model.generate_sample(nsample=nsample_T[idx])\n",
    "    \n",
    "    ### Obtain lags using the routine \"sm.tsa.tsatools.lagmat\"\n",
    "    x = sm.tsa.tsatools.lagmat(Y, maxlag=2, original='in')[2:,:]\n",
    "    y  = x[:,0]\n",
    "    x1 = x[:,1]\n",
    "    x2 = x[:,2]\n",
    "    \n",
    "    ### Estimate via OLS\n",
    "    X = sm.add_constant(x1)\n",
    "    ols_model = sm.OLS(y, X)\n",
    "    print('statsmodels OLS (phi): %.03f' %  ols_model.fit().params[-1])\n",
    "\n",
    "    ### Estimate via IV using lag 2 of \"x\" as an instrument in 'statsmodels':\n",
    "    Z = sm.add_constant(x2)\n",
    "    iv_model = gmm.IV2SLS(y, X, instrument=Z)\n",
    "    print('statsmodels IV (phi): %.03f' %  iv_model.fit().params[-1])\n",
    "    \n",
    "    ### Estimate via IV using lag 2 of \"x\" as an instrument (brute-force):\n",
    "    iv_params = calc_iv(y, X, Z, addcon=False)\n",
    "    print('brute-force IV (phi): %.03f' %  iv_params[-1], '\\n')\n",
    "    "
   ]
  },
  {
   "cell_type": "markdown",
   "metadata": {},
   "source": [
    "#### Solution to Question 3: \n",
    "We implement **IV** by using the $2^{nd}$ lag of $y_t$. Why can we use the $2^{nd}$ lag of $y_t$? Because our errors have an MA($1$) structure and we know that $y_{t-2}$ is correlated with $y_{t-1}$ but orthogonal to $\\epsilon_t$ and $\\epsilon_{t-1}$. Hence it is a valid instrument (see **Lecture 3 slides**).\n",
    "\n",
    "However, if we started with an AR($1$) error structure:\n",
    "\n",
    "$$\n",
    "y_t = \\phi y_{t-1} + u_t \\\\\n",
    "u_t = \\rho u_{t-1} + \\epsilon_t\n",
    "$$\n",
    "\n",
    "also with $\\epsilon_t \\sim i.i.d. N(0, \\sigma^2_{\\epsilon})$, $\\mid \\rho\\mid=1$.\n",
    "\n",
    "\n",
    "then clearly $y_{t-2}$ would <u>not</u> be a valid instrument since it would be correlated with $u_{t-1}$ since \n",
    "\n",
    "$$\n",
    "u_{t-1} = \\rho u_{t-2} + \\epsilon_{t-1} \\\\\n",
    "y_{t-2} = \\phi y_{t-3} + u_{t-2}\n",
    "$$\n",
    "\n",
    "We would have to think more carefully about finding the \"right\" instrument."
   ]
  },
  {
   "cell_type": "markdown",
   "metadata": {},
   "source": [
    "### Discussion:\n",
    "\n",
    "For our MA($1$) error structure, we can see that our **IV** estimator for $\\phi$, $\\widehat{\\phi}_{IV}$, provides a consistent estimate of the true $\\phi$ as our sample size $T$ increases. "
   ]
  },
  {
   "cell_type": "markdown",
   "metadata": {},
   "source": [
    "## Exercise 4: Vector Autoregression (VAR)\n",
    "\n",
    "Recall the VAR($p$) model generalizes the AR($p$) model:\n",
    "$$\n",
    "\\mathbf{Y}_t = c + \\sum_{j=1}^p \\mathbf{A}_j \\mathbf{Y}_{t-j} + \\mathbf{e}_t\n",
    "$$\n",
    "\n",
    "where $\\mathbf{Y}_t$ is a $K \\times 1$ vector and each $\\mathbf{A}_j$ is a $K \\times K$ matrix of coefficients.\n",
    "\n",
    "The dataset `ftse2011.dat` contains *daily* data for the **FTSE100**, **FTSE Mid Cap** and **FTSE Small Cap** stock indices for 2011.\n",
    "\n",
    "**Question**: Using `sm.tsa.VAR`, determine the appropriate lag order using *AIC* and *BIC* and carry out **Granger causality** tests.\n",
    "\n",
    "**Hints**:\n",
    "* `sm.tsa.VAR().fit()`\n",
    "* After fitting make use of diagnostic tools: `aic`, `bic`, `is_stable()`, `test_causality()`\n"
   ]
  },
  {
   "cell_type": "markdown",
   "metadata": {},
   "source": [
    "As we have seen in earlier classes, stock indices are a \"price\" variable and will be non-stationary. We will take first differences. "
   ]
  },
  {
   "cell_type": "code",
   "execution_count": 42,
   "metadata": {},
   "outputs": [
    {
     "name": "stdout",
     "output_type": "stream",
     "text": [
      "             FTSE100   FTSE Mid  FTSE Small\n",
      "date                                       \n",
      "2011-01-04 6,013.900 11,722.600   3,249.070\n",
      "2011-01-05 6,043.900 11,741.600   3,258.580\n",
      "2011-01-06 6,019.500 11,716.900   3,242.190\n",
      "2011-01-07 5,984.300 11,674.300   3,243.280\n",
      "2011-01-10 5,956.300 11,575.300   3,240.100 \n",
      "\n",
      "             FTSE100   FTSE Mid  FTSE Small\n",
      "date                                       \n",
      "2011-12-21 5,389.700  9,843.040   2,704.560\n",
      "2011-12-22 5,457.000  9,903.560   2,715.620\n",
      "2011-12-23 5,512.700  9,984.160   2,725.970\n",
      "2011-12-28 5,507.400 10,013.200   2,730.290\n",
      "2011-12-29 5,566.800 10,056.300   2,737.380 \n",
      "\n",
      "<class 'pandas.core.frame.DataFrame'>\n",
      "DatetimeIndex: 250 entries, 2011-01-04 to 2011-12-29\n",
      "Data columns (total 3 columns):\n",
      "FTSE100       250 non-null float64\n",
      "FTSE Mid      250 non-null float64\n",
      "FTSE Small    250 non-null float64\n",
      "dtypes: float64(3)\n",
      "memory usage: 7.8 KB\n",
      "None\n"
     ]
    }
   ],
   "source": [
    "### Input .dta file and create a DataFrame.\n",
    "df = pd.read_csv('ftse2011.dat', delim_whitespace=True)\n",
    "df.rename(columns={'Data': 'date'}, inplace=True)\n",
    "df['date'] = pd.to_datetime(df['date'])\n",
    "df.set_index('date', inplace=True)\n",
    "df.sort_index(inplace=True)\n",
    "\n",
    "print(df.head(), '\\n')\n",
    "print(df.tail(), '\\n')\n",
    "print(df.info())"
   ]
  },
  {
   "cell_type": "markdown",
   "metadata": {},
   "source": [
    "Let's plot the data: "
   ]
  },
  {
   "cell_type": "code",
   "execution_count": 43,
   "metadata": {},
   "outputs": [
    {
     "name": "stderr",
     "output_type": "stream",
     "text": [
      "/Users/chris.jauregui/anaconda3/lib/python3.7/site-packages/pandas/plotting/_converter.py:129: FutureWarning: Using an implicitly registered datetime converter for a matplotlib plotting method. The converter was registered by pandas on import. Future versions of pandas will require you to explicitly register matplotlib converters.\n",
      "\n",
      "To register the converters:\n",
      "\t>>> from pandas.plotting import register_matplotlib_converters\n",
      "\t>>> register_matplotlib_converters()\n",
      "  warnings.warn(msg, FutureWarning)\n"
     ]
    },
    {
     "data": {
      "image/png": "[encoded data removed]",
      "text/plain": [
       "<Figure size 864x432 with 1 Axes>"
      ]
     },
     "metadata": {
      "needs_background": "light"
     },
     "output_type": "display_data"
    }
   ],
   "source": [
    "### Plot the raw data\n",
    "fig, axes = plt.subplots(figsize=(12,6))\n",
    "axes.plot(df[['FTSE100', 'FTSE Mid', 'FTSE Small']])\n",
    "\n",
    "axes.set_xlabel('Days', fontsize=18)\n",
    "axes.set_ylabel('Index Value', fontsize=18)\n",
    "axes.set_title('FTSE 100, FTSE Mid, FTSE Small: \\n ' + str(df.index.year.min()), fontsize=20)\n",
    "axes.axhline(y=0, linewidth=0.4)\n",
    "fig.tight_layout()"
   ]
  },
  {
   "cell_type": "markdown",
   "metadata": {},
   "source": [
    "Let's analyze log differences of each of the three **FTSE** indices."
   ]
  },
  {
   "cell_type": "code",
   "execution_count": 44,
   "metadata": {},
   "outputs": [
    {
     "name": "stdout",
     "output_type": "stream",
     "text": [
      "            FTSE100  FTSE Mid  FTSE Small\n",
      "date                                     \n",
      "2011-01-05    0.005     0.002       0.003\n",
      "2011-01-06   -0.004    -0.002      -0.005\n",
      "2011-01-07   -0.006    -0.004       0.000\n",
      "2011-01-10   -0.005    -0.009      -0.001\n",
      "2011-01-11    0.010     0.014       0.012 \n",
      "\n",
      "            FTSE100  FTSE Mid  FTSE Small\n",
      "date                                     \n",
      "2011-12-21   -0.006    -0.003       0.005\n",
      "2011-12-22    0.012     0.006       0.004\n",
      "2011-12-23    0.010     0.008       0.004\n",
      "2011-12-28   -0.001     0.003       0.002\n",
      "2011-12-29    0.011     0.004       0.003 \n",
      "\n",
      "<class 'pandas.core.frame.DataFrame'>\n",
      "DatetimeIndex: 249 entries, 2011-01-05 to 2011-12-29\n",
      "Data columns (total 3 columns):\n",
      "FTSE100       249 non-null float64\n",
      "FTSE Mid      249 non-null float64\n",
      "FTSE Small    249 non-null float64\n",
      "dtypes: float64(3)\n",
      "memory usage: 7.8 KB\n",
      "None \n",
      "\n",
      "count   249.000\n",
      "mean     -0.000\n",
      "std       0.013\n",
      "min      -0.048\n",
      "25%      -0.007\n",
      "50%      -0.000\n",
      "75%       0.008\n",
      "max       0.039\n",
      "Name: FTSE100, dtype: float64 \n",
      "\n",
      "count   249.000\n",
      "mean     -0.001\n",
      "std       0.013\n",
      "min      -0.050\n",
      "25%      -0.008\n",
      "50%       0.000\n",
      "75%       0.007\n",
      "max       0.033\n",
      "Name: FTSE Mid, dtype: float64 \n",
      "\n",
      "count   249.000\n",
      "mean     -0.001\n",
      "std       0.008\n",
      "min      -0.033\n",
      "25%      -0.005\n",
      "50%       0.000\n",
      "75%       0.004\n",
      "max       0.024\n",
      "Name: FTSE Small, dtype: float64 \n",
      "\n"
     ]
    }
   ],
   "source": [
    "dflog = np.log(df).diff().dropna()\n",
    "\n",
    "print(dflog.head(), '\\n')\n",
    "print(dflog.tail(), '\\n')\n",
    "print(dflog.info(), '\\n')\n",
    "\n",
    "print(dflog['FTSE100'].describe(), '\\n')\n",
    "print(dflog['FTSE Mid'].describe(), '\\n')\n",
    "print(dflog['FTSE Small'].describe(), '\\n')"
   ]
  },
  {
   "cell_type": "code",
   "execution_count": 45,
   "metadata": {},
   "outputs": [
    {
     "data": {
      "image/png": "[encoded data removed]",
      "text/plain": [
       "<Figure size 864x432 with 1 Axes>"
      ]
     },
     "metadata": {
      "needs_background": "light"
     },
     "output_type": "display_data"
    }
   ],
   "source": [
    "### Plot the log data\n",
    "fig, axes = plt.subplots(figsize=(12,6))\n",
    "axes.plot(dflog[['FTSE100', 'FTSE Mid', 'FTSE Small']])\n",
    "\n",
    "axes.set_xlabel('Days', fontsize=18)\n",
    "axes.set_ylabel('log(Index Value)', fontsize=18)\n",
    "axes.set_title('log(FTSE 100), log(FTSE Mid), log(FTSE Small): \\n ' + str(dflog.index.year.min()), fontsize=20)\n",
    "axes.axhline(y=0, linewidth=0.4)\n",
    "fig.tight_layout()"
   ]
  },
  {
   "cell_type": "markdown",
   "metadata": {},
   "source": [
    "Let's start with a VAR($1$) model so we familiarize ourselves with the `statsmodels` routines."
   ]
  },
  {
   "cell_type": "code",
   "execution_count": 46,
   "metadata": {},
   "outputs": [
    {
     "name": "stderr",
     "output_type": "stream",
     "text": [
      "/Users/chris.jauregui/anaconda3/lib/python3.7/site-packages/statsmodels/tsa/base/tsa_model.py:225: ValueWarning: A date index has been provided, but it has no associated frequency information and so will be ignored when e.g. forecasting.\n",
      "  ' ignored when e.g. forecasting.', ValueWarning)\n"
     ]
    },
    {
     "data": {
      "text/plain": [
       "  Summary of Regression Results   \n",
       "==================================\n",
       "Model:                         VAR\n",
       "Method:                        OLS\n",
       "Date:           Sat, 18, May, 2019\n",
       "Time:                     01:44:06\n",
       "--------------------------------------------------------------------\n",
       "No. of Equations:         3.00000    BIC:                   -30.4129\n",
       "Nobs:                     248.000    HQIC:                  -30.5145\n",
       "Log likelihood:           2748.59    FPE:                5.22404e-14\n",
       "AIC:                     -30.5829    Det(Omega_mle):     4.97920e-14\n",
       "--------------------------------------------------------------------\n",
       "Results for equation FTSE100\n",
       "================================================================================\n",
       "                   coefficient       std. error           t-stat            prob\n",
       "--------------------------------------------------------------------------------\n",
       "const                -0.000332         0.000850           -0.391           0.696\n",
       "L1.FTSE100            0.462384         0.182258            2.537           0.011\n",
       "L1.FTSE Mid          -0.527746         0.215400           -2.450           0.014\n",
       "L1.FTSE Small         0.243848         0.198130            1.231           0.218\n",
       "================================================================================\n",
       "\n",
       "Results for equation FTSE Mid\n",
       "================================================================================\n",
       "                   coefficient       std. error           t-stat            prob\n",
       "--------------------------------------------------------------------------------\n",
       "const                -0.000587         0.000788           -0.746           0.456\n",
       "L1.FTSE100            0.604116         0.168967            3.575           0.000\n",
       "L1.FTSE Mid          -0.570938         0.199692           -2.859           0.004\n",
       "L1.FTSE Small         0.265159         0.183682            1.444           0.149\n",
       "================================================================================\n",
       "\n",
       "Results for equation FTSE Small\n",
       "================================================================================\n",
       "                   coefficient       std. error           t-stat            prob\n",
       "--------------------------------------------------------------------------------\n",
       "const                -0.000634         0.000502           -1.262           0.207\n",
       "L1.FTSE100            0.269204         0.107696            2.500           0.012\n",
       "L1.FTSE Mid          -0.127632         0.127279           -1.003           0.316\n",
       "L1.FTSE Small         0.077851         0.117074            0.665           0.506\n",
       "================================================================================\n",
       "\n",
       "Correlation matrix of residuals\n",
       "               FTSE100  FTSE Mid  FTSE Small\n",
       "FTSE100       1.000000  0.942979    0.825167\n",
       "FTSE Mid      0.942979  1.000000    0.850847\n",
       "FTSE Small    0.825167  0.850847    1.000000\n",
       "\n"
      ]
     },
     "execution_count": 46,
     "metadata": {},
     "output_type": "execute_result"
    }
   ],
   "source": [
    "### Start by setting up a VAR(1) model \n",
    "### NOTE: ValueWarning is due to gaps in dailydates, this can be ignored for now.\n",
    "var_model = sm.tsa.VAR(dflog)\n",
    "var_est = var_model.fit(maxlags=1)\n",
    "var_est.summary()"
   ]
  },
  {
   "cell_type": "markdown",
   "metadata": {},
   "source": [
    "How else could we estimate our Var($1$)? We could estimate each equation in our system equation-by-equation via OLS. We will get the same thing as above."
   ]
  },
  {
   "cell_type": "code",
   "execution_count": 47,
   "metadata": {},
   "outputs": [
    {
     "name": "stdout",
     "output_type": "stream",
     "text": [
      "FTSE100\n",
      "                            OLS Regression Results                            \n",
      "==============================================================================\n",
      "Dep. Variable:                      y   R-squared:                       0.036\n",
      "Model:                            OLS   Adj. R-squared:                  0.024\n",
      "Method:                 Least Squares   F-statistic:                     3.058\n",
      "Date:                Sat, 18 May 2019   Prob (F-statistic):             0.0290\n",
      "Time:                        01:44:06   Log-Likelihood:                 721.60\n",
      "No. Observations:                 248   AIC:                            -1435.\n",
      "Df Residuals:                     244   BIC:                            -1421.\n",
      "Df Model:                           3                                         \n",
      "Covariance Type:            nonrobust                                         \n",
      "==============================================================================\n",
      "                 coef    std err          t      P>|t|      [0.025      0.975]\n",
      "------------------------------------------------------------------------------\n",
      "const         -0.0003      0.001     -0.391      0.696      -0.002       0.001\n",
      "x1             0.4624      0.182      2.537      0.012       0.103       0.821\n",
      "x2            -0.5277      0.215     -2.450      0.015      -0.952      -0.103\n",
      "x3             0.2438      0.198      1.231      0.220      -0.146       0.634\n",
      "==============================================================================\n",
      "Omnibus:                        4.638   Durbin-Watson:                   1.931\n",
      "Prob(Omnibus):                  0.098   Jarque-Bera (JB):                5.705\n",
      "Skew:                          -0.113   Prob(JB):                       0.0577\n",
      "Kurtosis:                       3.708   Cond. No.                         330.\n",
      "==============================================================================\n",
      "\n",
      "Warnings:\n",
      "[1] Standard Errors assume that the covariance matrix of the errors is correctly specified. \n",
      "\n",
      "FTSE Mid\n",
      "                            OLS Regression Results                            \n",
      "==============================================================================\n",
      "Dep. Variable:                      y   R-squared:                       0.087\n",
      "Model:                            OLS   Adj. R-squared:                  0.075\n",
      "Method:                 Least Squares   F-statistic:                     7.716\n",
      "Date:                Sat, 18 May 2019   Prob (F-statistic):           6.04e-05\n",
      "Time:                        01:44:06   Log-Likelihood:                 740.37\n",
      "No. Observations:                 248   AIC:                            -1473.\n",
      "Df Residuals:                     244   BIC:                            -1459.\n",
      "Df Model:                           3                                         \n",
      "Covariance Type:            nonrobust                                         \n",
      "==============================================================================\n",
      "                 coef    std err          t      P>|t|      [0.025      0.975]\n",
      "------------------------------------------------------------------------------\n",
      "const         -0.0006      0.001     -0.746      0.457      -0.002       0.001\n",
      "x1             0.6041      0.169      3.575      0.000       0.271       0.937\n",
      "x2            -0.5709      0.200     -2.859      0.005      -0.964      -0.178\n",
      "x3             0.2652      0.184      1.444      0.150      -0.097       0.627\n",
      "==============================================================================\n",
      "Omnibus:                        7.525   Durbin-Watson:                   1.924\n",
      "Prob(Omnibus):                  0.023   Jarque-Bera (JB):                8.878\n",
      "Skew:                          -0.269   Prob(JB):                       0.0118\n",
      "Kurtosis:                       3.754   Cond. No.                         330.\n",
      "==============================================================================\n",
      "\n",
      "Warnings:\n",
      "[1] Standard Errors assume that the covariance matrix of the errors is correctly specified. \n",
      "\n",
      "FTSE Small\n",
      "                            OLS Regression Results                            \n",
      "==============================================================================\n",
      "Dep. Variable:                      y   R-squared:                       0.104\n",
      "Model:                            OLS   Adj. R-squared:                  0.093\n",
      "Method:                 Least Squares   F-statistic:                     9.414\n",
      "Date:                Sat, 18 May 2019   Prob (F-statistic):           6.56e-06\n",
      "Time:                        01:44:06   Log-Likelihood:                 852.07\n",
      "No. Observations:                 248   AIC:                            -1696.\n",
      "Df Residuals:                     244   BIC:                            -1682.\n",
      "Df Model:                           3                                         \n",
      "Covariance Type:            nonrobust                                         \n",
      "==============================================================================\n",
      "                 coef    std err          t      P>|t|      [0.025      0.975]\n",
      "------------------------------------------------------------------------------\n",
      "const         -0.0006      0.001     -1.262      0.208      -0.002       0.000\n",
      "x1             0.2692      0.108      2.500      0.013       0.057       0.481\n",
      "x2            -0.1276      0.127     -1.003      0.317      -0.378       0.123\n",
      "x3             0.0779      0.117      0.665      0.507      -0.153       0.308\n",
      "==============================================================================\n",
      "Omnibus:                       17.557   Durbin-Watson:                   2.010\n",
      "Prob(Omnibus):                  0.000   Jarque-Bera (JB):               24.367\n",
      "Skew:                          -0.490   Prob(JB):                     5.11e-06\n",
      "Kurtosis:                       4.182   Cond. No.                         330.\n",
      "==============================================================================\n",
      "\n",
      "Warnings:\n",
      "[1] Standard Errors assume that the covariance matrix of the errors is correctly specified. \n",
      "\n"
     ]
    }
   ],
   "source": [
    "### Fit each equation by OLS\n",
    "Y = dflog.values[1:,:]\n",
    "y_lags = dflog.shift(1).values[1:,:]\n",
    "y_lags = sm.add_constant(y_lags)\n",
    "\n",
    "for k in range(3):\n",
    "    ols_fit = sm.OLS(Y[:,k], y_lags).fit()\n",
    "    print(dflog.columns[k])\n",
    "    print(ols_fit.summary(), '\\n')\n"
   ]
  },
  {
   "cell_type": "markdown",
   "metadata": {},
   "source": [
    "Let's now compare various VAR($p$) models with increasing lag order $p$. For now, let's consider $p=0,1,...,5$."
   ]
  },
  {
   "cell_type": "code",
   "execution_count": 48,
   "metadata": {},
   "outputs": [
    {
     "name": "stdout",
     "output_type": "stream",
     "text": [
      "Lag #0\n",
      "AIC: -30.362\n",
      "BIC: -30.320\n",
      "\n",
      "Lag #1\n",
      "AIC: -30.583\n",
      "BIC: -30.413\n",
      "VAR Stable?  True\n",
      "\n",
      "Lag #2\n",
      "AIC: -30.584\n",
      "BIC: -30.286\n",
      "VAR Stable?  True\n",
      "\n",
      "Lag #3\n",
      "AIC: -30.621\n",
      "BIC: -30.193\n",
      "VAR Stable?  True\n",
      "\n",
      "Lag #4\n",
      "AIC: -30.601\n",
      "BIC: -30.043\n",
      "VAR Stable?  True\n",
      "\n",
      "Lag #5\n",
      "AIC: -30.551\n",
      "BIC: -29.863\n",
      "VAR Stable?  True\n",
      "\n"
     ]
    }
   ],
   "source": [
    "### Compare different lag orders of the VAR(p): p = 0,1,...,5\n",
    "for maxlag in range(0,6):\n",
    "    print('Lag #%d' % maxlag)\n",
    "    var_est = var_model.fit(maxlags=maxlag)\n",
    "    print('AIC: %.03f' % var_est.aic)\n",
    "    print('BIC: %.03f' % var_est.bic)\n",
    "    if maxlag>0:\n",
    "        print('VAR Stable? ',  var_est.is_stable()) # need to check VAR(p) is stable.\n",
    "    print()"
   ]
  },
  {
   "cell_type": "markdown",
   "metadata": {},
   "source": [
    "#### Question: \n",
    "Based on *AIC* and *BIC*, what is the optimal lag?\n",
    "\n",
    "#### Answer:\n",
    "Based on *AIC*, the optimal $p$ is 0. Based on *BIC*, the **optimal $p$ is 5**. Since *BIC* tends to penalize more parameters (hence more lags) more heavily, let's go with an optimal lag of $p=5$ for now.\n",
    "\n",
    "Assuming $p=5$ is the optimal lag, let's run Granger-causality tests:"
   ]
  },
  {
   "cell_type": "code",
   "execution_count": 49,
   "metadata": {},
   "outputs": [
    {
     "name": "stdout",
     "output_type": "stream",
     "text": [
      "Granger causality F-test. H_0: %s do not Granger-cause FTSE100. Conclusion: reject H_0 at 5% significance level.\n",
      "===============================================\n",
      "Test statistic Critical value p-value     df   \n",
      "-----------------------------------------------\n",
      "    2.841          1.845       0.002  (10, 684)\n",
      "----------------------------------------------- \n",
      "\n",
      "Granger causality F-test. H_0: %s do not Granger-cause FTSE Mid. Conclusion: reject H_0 at 5% significance level.\n",
      "===============================================\n",
      "Test statistic Critical value p-value     df   \n",
      "-----------------------------------------------\n",
      "    4.189          1.845       0.000  (10, 684)\n",
      "----------------------------------------------- \n",
      "\n",
      "Granger causality F-test. H_0: %s do not Granger-cause FTSE Small. Conclusion: reject H_0 at 5% significance level.\n",
      "===============================================\n",
      "Test statistic Critical value p-value     df   \n",
      "-----------------------------------------------\n",
      "    3.015          1.845       0.001  (10, 684)\n",
      "-----------------------------------------------\n"
     ]
    }
   ],
   "source": [
    "### Granger causality tests for chosen p_lag\n",
    "# http://www.statsmodels.org/devel/vector_ar.html#granger-causality\n",
    "p_lag = 5\n",
    "var_est = var_model.fit(maxlags=p_lag)\n",
    "print(var_est.test_causality('FTSE100', ['FTSE Mid', 'FTSE Small']).summary(), '\\n')\n",
    "print(var_est.test_causality('FTSE Mid', ['FTSE100', 'FTSE Small']).summary(), '\\n')\n",
    "print(var_est.test_causality('FTSE Small', ['FTSE Mid', 'FTSE100']).summary())"
   ]
  },
  {
   "cell_type": "markdown",
   "metadata": {},
   "source": [
    "What do we find? \n",
    "\n",
    "#### Solution: \n",
    "We reject all of our Granger causality null hypotheses at the 5% significance level. That is, we reject the null hypothesis that:\n",
    "\n",
    "* **FTSE Mid** and **FTSE Small** do not Granger-cause **FTSE100**.\n",
    "* **FTSE 100** and **FTSE Small** do not Granger-cause **FTSE Mid**.\n",
    "* **FTSE 100** and **FTSE Mid** do not Granger-cause **FTSE Small**."
   ]
  },
  {
   "cell_type": "markdown",
   "metadata": {},
   "source": [
    "### Discussion:\n",
    "\n",
    "Extend the maximum lag length to $p=10$. What do you find this time in terms of the optimal lag length and Granger-causality tests at this lag length? "
   ]
  },
  {
   "cell_type": "markdown",
   "metadata": {},
   "source": [
    "## Exercise 5: Estimating ARMA($p$,$q$) models by Maximum Likelihood Estimation (MLE)\n",
    "\n",
    "We've seen that **OLS** is inconsistent for ARMA($p$,$q$) models when $p$ and $q$ are not zero. \n",
    "\n",
    "One approach is to estimate the AR terms using instrumental variables (**IV**). \n",
    "Another approach is to estimate both the AR and MA terms by maximum likelihood (**MLE**). \n",
    "\n",
    "**MLE** works by choosing parameters $\\hat{\\phi}$, $\\hat{\\theta}$ that maximize the log-likelihood function. Unlike **OLS**, in general, we won't have a closed form solution and hence must use numerical procedures to choose the parameters.\n",
    "\n",
    "#### Part 1:\n",
    "The dataset `arma.csv` has various ARMA($p$,$q$) processes. Determine the lag order of each series and estimate using **MLE**.\n",
    "\n",
    "#### Part 2:\n",
    "Use `arma_from_roots` to simulate a process with `ar_roots=[2,1.25]` and `ma_roots=[2, -1.5]`.\n",
    "\n",
    "**Hints**:\n",
    "* Estimate using `sm.tsa.ARMA()` and the method `fit()`\n",
    "* After fitting, examine `aic`, `bic`. Plot *ACF*s and *PACF*s of the residuals (attribute `resid`)\n",
    "* Note that `fit()` takes an optional argument that specifies the starting values. If you don't provide any, the function attempts to choose \"good\" values; however, these can frequently be unstable and lead to an error. On the other hand, starting at all zeros will always be stable but can either converge slowly or not at all. In practice you will find it useful to experiment with multiple starting values.\n",
    "* Other fitting options include number of iterations, tolerances, etc."
   ]
  },
  {
   "cell_type": "code",
   "execution_count": 50,
   "metadata": {},
   "outputs": [
    {
     "name": "stdout",
     "output_type": "stream",
     "text": [
      "      y1     y2     y3\n",
      "0  1.624  0.490 -0.140\n",
      "1  0.417  0.108  0.039\n",
      "2  0.223 -0.799  0.373\n",
      "3 -1.023 -0.527  1.005\n",
      "4  0.229 -1.553  1.244 \n",
      "\n",
      "         y1     y2     y3\n",
      "1995 -1.528 -0.587  0.286\n",
      "1996 -0.736 -0.208 -0.538\n",
      "1997 -1.581 -0.684 -1.151\n",
      "1998 -0.371  1.390 -1.524\n",
      "1999  0.776  0.660 -0.701 \n",
      "\n"
     ]
    }
   ],
   "source": [
    "### Load the data\n",
    "df = pd.read_csv('arma.csv')\n",
    "print(df.head(), '\\n')\n",
    "print(df.tail(), '\\n')"
   ]
  },
  {
   "cell_type": "markdown",
   "metadata": {},
   "source": [
    "### Part 1:"
   ]
  },
  {
   "cell_type": "code",
   "execution_count": 51,
   "metadata": {},
   "outputs": [
    {
     "name": "stdout",
     "output_type": "stream",
     "text": [
      "AIC: 5787.287\n",
      "BIC: 5809.691\n",
      "                              ARMA Model Results                              \n",
      "==============================================================================\n",
      "Dep. Variable:                      y   No. Observations:                 2000\n",
      "Model:                     ARMA(1, 1)   Log Likelihood               -2889.644\n",
      "Method:                       css-mle   S.D. of innovations              1.026\n",
      "Date:                Sat, 18 May 2019   AIC                           5787.287\n",
      "Time:                        01:44:06   BIC                           5809.691\n",
      "Sample:                             0   HQIC                          5795.513\n",
      "                                                                              \n",
      "==============================================================================\n",
      "                 coef    std err          z      P>|z|      [0.025      0.975]\n",
      "------------------------------------------------------------------------------\n",
      "const          0.1674      0.117      1.431      0.153      -0.062       0.397\n",
      "ar.L1.y        0.8434      0.014     58.327      0.000       0.815       0.872\n",
      "ma.L1.y       -0.1997      0.023     -8.554      0.000      -0.245      -0.154\n",
      "                                    Roots                                    \n",
      "=============================================================================\n",
      "                  Real          Imaginary           Modulus         Frequency\n",
      "-----------------------------------------------------------------------------\n",
      "AR.1            1.1857           +0.0000j            1.1857            0.0000\n",
      "MA.1            5.0085           +0.0000j            5.0085            0.0000\n",
      "-----------------------------------------------------------------------------\n"
     ]
    },
    {
     "data": {
      "image/png": "[encoded data removed]",
      "text/plain": [
       "<Figure size 864x432 with 2 Axes>"
      ]
     },
     "metadata": {
      "needs_background": "light"
     },
     "output_type": "display_data"
    }
   ],
   "source": [
    "### Determine the order and estimate\n",
    "ysim = df['y1'].values\n",
    "\n",
    "order = (1,1)\n",
    "arma_model = sm.tsa.ARMA(ysim, order=order)\n",
    "\n",
    "### Default starting params, zeros, etc, start_params = None\n",
    "start_params = np.zeros(np.sum(order)+1)\n",
    "try:\n",
    "    ests = arma_model.fit(start_params=start_params, maxiter=500, trend='c')\n",
    "    print('AIC: %.03f' % ests.aic)\n",
    "    print('BIC: %.03f' % ests.bic)\n",
    "    \n",
    "    ### ACF and PACF of residuals\n",
    "    fig, axes = plt.subplots(nrows=1, ncols=2, figsize=(12,6))\n",
    "    sm.tsa.graphics.plot_acf(ests.resid, lags=10, ax=axes[0])\n",
    "    sm.tsa.graphics.plot_pacf(ests.resid, lags=10, ax=axes[1])\n",
    "    print(ests.summary())\n",
    "except Exception:\n",
    "    print('Convergence error')"
   ]
  },
  {
   "cell_type": "markdown",
   "metadata": {},
   "source": [
    "Let's write a function that gives us information criteria *AIC*, *BIC*, and *Hannan-Quinn* to aid us in determining the lag order of a process."
   ]
  },
  {
   "cell_type": "code",
   "execution_count": 52,
   "metadata": {
    "collapsed": true
   },
   "outputs": [],
   "source": [
    "### Let's use information criteria\n",
    "def calc_arma_ic(x, order_list):\n",
    "    ic_array = np.empty((3, len(order_list)))\n",
    "    for idx, order in enumerate(order_list):\n",
    "        # Set up model with given order\n",
    "        model = tsa.arima_model.ARMA(x , order=order )\n",
    "        # Fit and save criteria\n",
    "        try:\n",
    "            start_params = None\n",
    "            res = model.fit(start_params=start_params, maxiter=500 )\n",
    "        except Exception:\n",
    "            start_params = np.zeros(np.sum(order)+1)\n",
    "            res = model.fit(start_params=start_params, maxiter=500 )\n",
    "        ic_array[0,idx] = res.aic\n",
    "        ic_array[1,idx] = res.hqic\n",
    "        ic_array[2,idx] = res.bic\n",
    "    \n",
    "    ### Return min orders for each criteria\n",
    "    aic_order = order_list[ np.argmin(ic_array[0,:]) ]\n",
    "    hqic_order = order_list[ np.argmin(ic_array[1,:]) ]\n",
    "    bic_order = order_list[ np.argmin(ic_array[2,:]) ]\n",
    "    \n",
    "    ### Tuple of best orders\n",
    "    ic_orders = (aic_order, hqic_order, bic_order)\n",
    "    return ic_orders, ic_array"
   ]
  },
  {
   "cell_type": "markdown",
   "metadata": {},
   "source": [
    "Let's work with process `y3`:"
   ]
  },
  {
   "cell_type": "code",
   "execution_count": 53,
   "metadata": {},
   "outputs": [
    {
     "name": "stdout",
     "output_type": "stream",
     "text": [
      "(AIC, BIC, Hannan-Quinn): (p,q) = ((3, 3), (1, 2), (1, 2))\n"
     ]
    }
   ],
   "source": [
    "ysim = df['y3'].values\n",
    "order_list = [(p,q) for p in range(4) for q in range(4)]\n",
    "ic_orders, ic_array = calc_arma_ic(ysim, order_list)\n",
    "print(\"(AIC, BIC, Hannan-Quinn): (p,q) =\", ic_orders)"
   ]
  },
  {
   "cell_type": "markdown",
   "metadata": {},
   "source": [
    "Let's go with *BIC* and choose $p=1$ and $q=2$:"
   ]
  },
  {
   "cell_type": "code",
   "execution_count": 54,
   "metadata": {},
   "outputs": [
    {
     "name": "stdout",
     "output_type": "stream",
     "text": [
      "                              ARMA Model Results                              \n",
      "==============================================================================\n",
      "Dep. Variable:                      y   No. Observations:                 2000\n",
      "Model:                     ARMA(1, 2)   Log Likelihood               -2849.049\n",
      "Method:                       css-mle   S.D. of innovations              1.005\n",
      "Date:                Sat, 18 May 2019   AIC                           5708.097\n",
      "Time:                        01:44:10   BIC                           5736.102\n",
      "Sample:                             0   HQIC                          5718.380\n",
      "                                                                              \n",
      "==============================================================================\n",
      "                 coef    std err          z      P>|z|      [0.025      0.975]\n",
      "------------------------------------------------------------------------------\n",
      "const          0.0376      0.083      0.454      0.650      -0.125       0.200\n",
      "ar.L1.y        0.8584      0.025     34.314      0.000       0.809       0.907\n",
      "ma.L1.y       -0.1377      0.035     -3.882      0.000      -0.207      -0.068\n",
      "ma.L2.y       -0.3398      0.029    -11.542      0.000      -0.398      -0.282\n",
      "                                    Roots                                    \n",
      "=============================================================================\n",
      "                  Real          Imaginary           Modulus         Frequency\n",
      "-----------------------------------------------------------------------------\n",
      "AR.1            1.1650           +0.0000j            1.1650            0.0000\n",
      "MA.1            1.5248           +0.0000j            1.5248            0.0000\n",
      "MA.2           -1.9300           +0.0000j            1.9300            0.5000\n",
      "-----------------------------------------------------------------------------\n"
     ]
    }
   ],
   "source": [
    "order = (1,2)\n",
    "arma_model = sm.tsa.ARMA(ysim, order=order)\n",
    "try:\n",
    "    start_params = None\n",
    "    ests = arma_model.fit(start_params=start_params, maxiter=500)\n",
    "except Exception:\n",
    "    start_params = np.zeros(np.sum(order)+1)\n",
    "    ests = arma_model.fit(start_params=start_params, maxiter=500)\n",
    "\n",
    "print(ests.summary())"
   ]
  },
  {
   "cell_type": "markdown",
   "metadata": {},
   "source": [
    "### Solution: \n",
    "It turns out the process `y3` is an ARMA($1$, $2$) with $\\phi_1=0.8$,  $\\theta_1=-0.071$, and $\\theta_2=-0.286$.\n",
    "\n",
    "Process `y1` is an AR($3$) with $\\phi_1=0.633$, $\\phi_2=0.3$, and $\\phi_3=-0.133$\n",
    "\n",
    "Process `y2` is an MA($3$) with $\\theta_1=-0.267$, $\\theta_2=-0.587$, and $\\theta_3=0.213$"
   ]
  },
  {
   "cell_type": "markdown",
   "metadata": {},
   "source": [
    "### Part 2:"
   ]
  },
  {
   "cell_type": "markdown",
   "metadata": {},
   "source": [
    "Let's use the functions `_roots2coef` and `arma_from_roots` from **Lab 3**:"
   ]
  },
  {
   "cell_type": "code",
   "execution_count": 55,
   "metadata": {
    "collapsed": true
   },
   "outputs": [],
   "source": [
    "def _roots2coef(roots):\n",
    "    \"\"\"Given roots, get the coefficients\"\"\"\n",
    "    ### SymPy: package for symbolic computation\n",
    "    from sympy import symbols, expand, factor, collect, simplify, Mul\n",
    "    \n",
    "    N_roots = len(roots)\n",
    "    L = symbols(\"L\", commutative=False) # symbolic variable\n",
    "    ## Construct lag polynomial in the canonical form\n",
    "    expr = expand(1)\n",
    "    for r in roots:\n",
    "        expr*= -(L - r)\n",
    "    expr_expand = expand(expr)\n",
    "    expr_expand = expand((expr_expand.as_coefficients_dict()[1]**-1)*expr_expand).evalf(3)\n",
    "    \n",
    "    ## factor out the lag polynomials and get \"factor list\" in the canonical form\n",
    "    expr_factor = factor(expr_expand)     \n",
    "    for f in range(1, len(expr_factor.args)):\n",
    "        if f==1:\n",
    "            expr = expand(expr_factor.args[f]*-1).evalf(3)\n",
    "        else:\n",
    "            expr = Mul(expr, expand(expr_factor.args[f]*-1).evalf(3))\n",
    "            \n",
    "    coef_list = [expr_expand.coeff(L,n) for n in range(N_roots + 1)]\n",
    "    ### convert to numpy floats\n",
    "    coefs = np.array(coef_list).astype(float)\n",
    "    ### normalize zero lag to 1\n",
    "    coefs /= coefs[0]\n",
    "    return coefs, expr, expr_expand\n",
    "\n",
    "def arma_from_roots(ar_roots=[], ma_roots=[]):\n",
    "    \"\"\"Create an ARMA model class from roots\"\"\"    \n",
    "    ar_coef, ar_expr, ar_expr_expand = _roots2coef(ar_roots)\n",
    "    if len(ma_roots)>0:\n",
    "        ma_coef, ma_expr, ma_expr_expand = _roots2coef(ma_roots)  \n",
    "    print(\"AR lag polynomials in the form:\", ar_expr_expand)\n",
    "    if len(ma_roots)>0:\n",
    "        print(\"MA lag polynomials in the form:\", ma_expr_expand, \"\\n\")\n",
    "    print(\"factored AR lag polynomials in the form:\", ar_expr)\n",
    "    if len(ma_roots)>0:\n",
    "        print(\"factored MA lag polynomials in the form:\", ma_expr, \"\\n\") \n",
    "    if len(ma_roots)>0:\n",
    "        arma_process = sm.tsa.ArmaProcess(ar_coef, ma_coef)\n",
    "    else:\n",
    "        arma_process = sm.tsa.ArmaProcess(ar_coef, [1])\n",
    "    ### Note: arma_process' has many helpful methods: arcoefs, macoefs, generate_sample, ...\n",
    "    return arma_process"
   ]
  },
  {
   "cell_type": "code",
   "execution_count": 56,
   "metadata": {},
   "outputs": [
    {
     "name": "stdout",
     "output_type": "stream",
     "text": [
      "AR lag polynomials in the form: 1.0 - 1.3*L + 0.4*L**2\n",
      "MA lag polynomials in the form: 1.0 + 0.167*L - 0.333*L**2 \n",
      "\n",
      "factored AR lag polynomials in the form: (1.0 - 0.5*L)*(1.0 - 0.8*L)\n",
      "factored MA lag polynomials in the form: (-1.0 - 0.667*L)*(1.0 - 0.5*L) \n",
      "\n",
      "AR coefficients : [ 1.3 -0.4]\n",
      "MA coefficients : [ 0.167 -0.333]\n"
     ]
    }
   ],
   "source": [
    "### Part 2: Get coefficients\n",
    "arma_process = arma_from_roots(ar_roots=[2, 1.25], ma_roots=[2, -1.5])\n",
    "print('AR coefficients :', arma_process.arcoefs)\n",
    "print('MA coefficients :', arma_process.macoefs)\n",
    "\n",
    "np.random.seed(1)\n",
    "nsample = 2000\n",
    "ysim = arma_process.generate_sample(nsample)"
   ]
  },
  {
   "cell_type": "markdown",
   "metadata": {},
   "source": [
    "Let's do what we did for **Part 1**:"
   ]
  },
  {
   "cell_type": "code",
   "execution_count": 57,
   "metadata": {},
   "outputs": [
    {
     "name": "stdout",
     "output_type": "stream",
     "text": [
      "(AIC, BIC, Hannan-Quinn): (p,q) = ((1, 1), (1, 1), (1, 1))\n"
     ]
    }
   ],
   "source": [
    "### as in part 1, determine the order (p,q) and estimate by MLE\n",
    "order_list = [(p,q) for p in range(4) for q in range(4)]\n",
    "ic_orders, ic_array = calc_arma_ic(ysim, order_list)\n",
    "print(\"(AIC, BIC, Hannan-Quinn): (p,q) =\", ic_orders)"
   ]
  },
  {
   "cell_type": "markdown",
   "metadata": {},
   "source": [
    "Here, all three information criteria tell us $p=1$ and $q=1$. Why is this the case?\n",
    "\n",
    "We can see we have a **common factor** (Recall **Lab 2**). One of the AR and MA roots cancel each other out. Our ARMA($2$,$2$) model is observationally equivalent to an ARMA($1$,$1$)!\n",
    "\n",
    "We proceed as before:"
   ]
  },
  {
   "cell_type": "code",
   "execution_count": 58,
   "metadata": {},
   "outputs": [
    {
     "name": "stdout",
     "output_type": "stream",
     "text": [
      "                              ARMA Model Results                              \n",
      "==============================================================================\n",
      "Dep. Variable:                      y   No. Observations:                 2000\n",
      "Model:                     ARMA(1, 1)   Log Likelihood               -2848.229\n",
      "Method:                       css-mle   S.D. of innovations              1.005\n",
      "Date:                Sat, 18 May 2019   AIC                           5704.458\n",
      "Time:                        01:44:20   BIC                           5726.862\n",
      "Sample:                             0   HQIC                          5712.684\n",
      "                                                                              \n",
      "==============================================================================\n",
      "                 coef    std err          z      P>|z|      [0.025      0.975]\n",
      "------------------------------------------------------------------------------\n",
      "const          0.2779      0.178      1.562      0.118      -0.071       0.627\n",
      "ar.L1.y        0.7910      0.014     55.236      0.000       0.763       0.819\n",
      "ma.L1.y        0.6585      0.018     37.475      0.000       0.624       0.693\n",
      "                                    Roots                                    \n",
      "=============================================================================\n",
      "                  Real          Imaginary           Modulus         Frequency\n",
      "-----------------------------------------------------------------------------\n",
      "AR.1            1.2642           +0.0000j            1.2642            0.0000\n",
      "MA.1           -1.5186           +0.0000j            1.5186            0.5000\n",
      "-----------------------------------------------------------------------------\n"
     ]
    }
   ],
   "source": [
    "order = (1,1)\n",
    "arma_model = sm.tsa.ARMA(ysim, order=order)\n",
    "try:\n",
    "    start_params = None\n",
    "    ests = arma_model.fit(start_params=start_params, maxiter=500)\n",
    "except Exception:\n",
    "    start_params = np.zeros(np.sum(order)+1)\n",
    "    ests = arma_model.fit(start_params=start_params, maxiter=500)\n",
    "\n",
    "print(ests.summary())"
   ]
  },
  {
   "cell_type": "code",
   "execution_count": 59,
   "metadata": {},
   "outputs": [
    {
     "name": "stdout",
     "output_type": "stream",
     "text": [
      "AR lag polynomials in the form: 1.0 - 0.8*L\n",
      "MA lag polynomials in the form: 1.0 + 0.667*L \n",
      "\n",
      "factored AR lag polynomials in the form: 1.0 - 0.8*L\n",
      "factored MA lag polynomials in the form: -1.0 - 0.667*L \n",
      "\n",
      "AR coefficient : [0.8]\n",
      "MA coefficient : [0.667]\n"
     ]
    }
   ],
   "source": [
    "arma_process_simplify = arma_from_roots(ar_roots=[1.25], ma_roots=[-1.5])\n",
    "print('AR coefficient :', arma_process_simplify.arcoefs)\n",
    "print('MA coefficient :', arma_process_simplify.macoefs)"
   ]
  },
  {
   "cell_type": "markdown",
   "metadata": {},
   "source": [
    "The AR coefficient $\\phi$ is 0.8 and the MA coefficient $\\theta$ is 0.667!"
   ]
  },
  {
   "cell_type": "markdown",
   "metadata": {},
   "source": [
    "That is all for today! 😎"
   ]
  }
 ],
 "metadata": {
  "anaconda-cloud": {},
  "hide_input": false,
  "kernelspec": {
   "display_name": "Python 3",
   "language": "python",
   "name": "python3"
  },
  "language_info": {
   "codemirror_mode": {
    "name": "ipython",
    "version": 3
   },
   "file_extension": ".py",
   "mimetype": "text/x-python",
   "name": "python",
   "nbconvert_exporter": "python",
   "pygments_lexer": "ipython3",
   "version": "3.7.3"
  },
  "latex_envs": {
   "LaTeX_envs_menu_present": true,
   "bibliofile": "biblio.bib",
   "cite_by": "apalike",
   "current_citInitial": 1,
   "eqLabelWithNumbers": true,
   "eqNumInitial": 1,
   "labels_anchors": false,
   "latex_user_defs": false,
   "report_style_numbering": false,
   "user_envs_cfg": false
  },
  "toc": {
   "colors": {
    "hover_highlight": "#DAA520",
    "running_highlight": "#FF0000",
    "selected_highlight": "#FFD700"
   },
   "moveMenuLeft": true,
   "nav_menu": {
    "height": "171px",
    "width": "252px"
   },
   "navigate_menu": true,
   "number_sections": true,
   "sideBar": true,
   "threshold": 4,
   "toc_cell": false,
   "toc_section_display": "block",
   "toc_window_display": false
  }
 },
 "nbformat": 4,
 "nbformat_minor": 2
}
