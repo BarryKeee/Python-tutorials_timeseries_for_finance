{
 "cells": [
  {
   "cell_type": "markdown",
   "metadata": {},
   "source": [
    "# MFE 230E - Lab 2: ARMA Processes and Stationarity"
   ]
  },
  {
   "cell_type": "markdown",
   "metadata": {},
   "source": [
    "For this lab session, we'll be focusing on ARMA($p$, $q$) models and the material covered in the first two weeks of class. We will also discuss solutions to **Problem Set 1**. \n",
    "\n",
    "First, we import all the necessary Python packages/libraries:"
   ]
  },
  {
   "cell_type": "code",
   "execution_count": null,
   "metadata": {
    "collapsed": true
   },
   "outputs": [],
   "source": [
    "### imports\n",
    "from __future__ import print_function, division\n",
    "\n",
    "import pandas as pd\n",
    "import numpy as np\n",
    "import scipy.optimize\n",
    "import scipy.signal\n",
    "import scipy.stats\n",
    "\n",
    "import statsmodels.api as sm\n",
    "from statsmodels import tsa\n",
    "from datetime import date, datetime, timedelta\n",
    "import copy\n",
    "\n",
    "### Check pandas version and import correct web reader\n",
    "from distutils.version import StrictVersion\n",
    "if StrictVersion(pd.__version__) >= StrictVersion('0.19'):\n",
    "    from pandas_datareader import data, wb\n",
    "else:\n",
    "    from pandas.io import data, wb\n",
    "\n",
    "from cycler import cycler\n",
    "import matplotlib.pyplot as plt\n",
    "import matplotlib.patches as patches\n",
    "import matplotlib as mpl\n",
    "import matplotlib.dates\n",
    "from matplotlib import colors as mcolors\n",
    "\n",
    "### Plotting and display options\n",
    "np.set_printoptions(precision=3)\n",
    "pd.set_option('precision', 3)\n",
    "pd.set_option('display.float_format', lambda x: '%.3f' % x)\n",
    "\n",
    "plt.style.use('ggplot')\n",
    "\n",
    "mpl.rcParams['lines.linewidth'] = 1.5\n",
    "mpl.rcParams['lines.color'] = 'blue'\n",
    "mpl.rcParams['axes.prop_cycle'] = cycler('color', ['#30a2da', '#e5ae38', '#fc4f30', '#6d904f', '#8b8b8b'])\n",
    "mpl.rcParams['legend.fancybox'] = True\n",
    "mpl.rcParams['legend.fontsize'] = 14\n",
    "mpl.rcParams['axes.facecolor'] = '#f0f0f0'\n",
    "mpl.rcParams['axes.labelsize'] = 15\n",
    "mpl.rcParams['axes.axisbelow'] = True\n",
    "mpl.rcParams['axes.linewidth'] = 1.2\n",
    "mpl.rcParams['axes.labelpad'] = 0.0\n",
    "mpl.rcParams['axes.xmargin'] = 0.05  # x margin.  See `axes.Axes.margins`\n",
    "mpl.rcParams['axes.ymargin'] = 0.05  # y margin See `axes.Axes.margins`\n",
    "mpl.rcParams['xtick.labelsize'] = 18\n",
    "mpl.rcParams['ytick.labelsize'] = 18\n",
    "mpl.rcParams['figure.subplot.left'] = 0.08\n",
    "mpl.rcParams['figure.subplot.right'] = 0.95\n",
    "mpl.rcParams['figure.subplot.bottom'] = 0.07\n",
    "\n",
    "### figure configuration\n",
    "fsize = (10,7.5) # figure size\n",
    "tsize = 18 # title font size\n",
    "lsize = 16 # legend font size\n",
    "csize = 14 # comment font size\n",
    "grid = True # grid\n",
    "\n",
    "### this allows plots to appear directly in the notebook\n",
    "%matplotlib inline"
   ]
  },
  {
   "cell_type": "markdown",
   "metadata": {},
   "source": [
    "## Review: ARMA($p$,$q$) models\n",
    "\n",
    "**Recall:** A stochastic process process $\\{x_t\\}$ is an ARMA($p$,$q$) process (autoregressive, moving average process of order $p$ and $q$, respectively) if we have\n",
    "\n",
    "$$\n",
    "x_t = \\mu + \\phi_1 x_{t-1} + \\phi_2 x_{t-2} + ... \\phi_p x_{t-p} + \\epsilon_{t} + \\theta_1 \\epsilon_{t-1} + \\theta_2 \\epsilon_{t-2} +  ...  + \\theta_q \\epsilon_{t-q}\n",
    "$$\n",
    "\n",
    "where $\\epsilon_{t}$ is white noise, i.e. $E[\\epsilon_{t}]=0$ and $Var[\\epsilon_{t}]=\\sigma^2$, and without loss of generality, we set $\\mu$=0.\n",
    "\n",
    "If the coefficients $\\phi_i \\equiv 0$, then the ARMA($p$,$q$) process collapses to an MA($q$) process. \n",
    "\n",
    "Similarly, if $\\theta_i\\equiv 0$ then the ARMA($p$,$q$) process collapses to an AR($p$) process.\n",
    "\n",
    "A slightly more general formulation also used is given by the expression\n",
    "\n",
    "$$\n",
    "\\sum_{i=0}^{p} \\phi_i X_{t-i} = \\sum_{i=0}^{q} \\theta_i \\varepsilon_{t-i}\n",
    "$$\n",
    "\n",
    "Note that this formulation introduces $\\phi_0,\\theta_0$ terms which were implicitly defined to be 1 above. Further, the sign of the AR coefficients is flipped from the first formulation. This is frequently how statistical computing packages treat ARMA($p$,$q$) processes.\n",
    "\n",
    "\n",
    "Let's simulate some ARMA($p$,$q$) processes. We will later examine both their autocorrelation functions (ACFs) and partial autocorrelation functions (PACFs).\n"
   ]
  },
  {
   "cell_type": "markdown",
   "metadata": {},
   "source": [
    "## Example 1: Simulate ARMA($p$,$q$) models\n",
    "\n",
    "**Problem:** Write a function that simulates an ARMA($p$,$q$) process given parameter inputs. For efficiency purposes, make sure your code is general enough so you can simulate more than one path for an arbitrary sample size $T$.\n",
    "\n",
    "**Note:** `statsmodels` has a function that generates ARMA($p$,$q$) processes, but for now, write your own function."
   ]
  },
  {
   "cell_type": "markdown",
   "metadata": {},
   "source": [
    "The code for simulating an ARMA($p$,$q$) process is found below:"
   ]
  },
  {
   "cell_type": "code",
   "execution_count": null,
   "metadata": {
    "collapsed": true
   },
   "outputs": [],
   "source": [
    "def simulate_arma(ar=[], ma=[], nsample=100, burnin=0, paths=1):\n",
    "    \"\"\"Simulate ARMA data\n",
    "       Assumption: White noise shocks are Gaussian.\n",
    "    \"\"\"\n",
    "    ### numpy arrays are reversed for easier indexing:\n",
    "    ar, ma = np.array(ar[::-1]), np.array(ma[::-1])\n",
    "    ### Orders (does not include zero lag)\n",
    "    p, q = len(ar), len(ma)\n",
    "    max_order = max(p,q)\n",
    "    \n",
    "    ### Total number of sample size\n",
    "    Nsim = nsample + burnin\n",
    "    ### \"Standard\" Guassian shocks: Normal(0,1)\n",
    "    eps = np.random.randn(paths, Nsim)\n",
    "    ### Initialize t < 0 with zeros\n",
    "    eps = np.concatenate((np.zeros((paths, max_order)), eps), axis=1)\n",
    "    y = np.zeros((paths, Nsim + max_order))\n",
    "    \n",
    "    ### Loop to construct the ARMA processes recursively.\n",
    "    for tt in range(max_order, Nsim + max_order):\n",
    "        y[:, tt] = np.sum(y[:, tt-p:tt]*ar, axis=1) + np.sum(eps[:,tt-q:tt]*ma, axis=1) + eps[:,tt]\n",
    "    \n",
    "    ### Drop initial zeros and burnin and transpose for plotting.\n",
    "    y = y[:, max_order + burnin:].T\n",
    "    return y"
   ]
  },
  {
   "cell_type": "markdown",
   "metadata": {},
   "source": [
    "Equipped with our code, we can now simulate a **Standard Gaussian White Noise** (WN) process and an AR($1$) process with $\\phi=0.75$:"
   ]
  },
  {
   "cell_type": "code",
   "execution_count": null,
   "metadata": {
    "collapsed": true
   },
   "outputs": [],
   "source": [
    "### Seed the random number generator\n",
    "np.random.seed(1)\n",
    "\n",
    "### 1. White Noise \n",
    "y_wn = simulate_arma(nsample=250)\n",
    "\n",
    "### 2. AR(1) with persistence = 0.75\n",
    "phi1_model1 = 0.75\n",
    "y_ar1_model1 = simulate_arma(ar=[phi1_model1], nsample=250)\n",
    "\n",
    "fig1, axes1 = plt.subplots(nrows=2, ncols=1, figsize=(12,10))\n",
    "axes1[0].plot(y_wn)\n",
    "axes1[0].set_xlabel('Time', fontsize=16)\n",
    "axes1[0].set_title('White Noise', fontsize=18)\n",
    "axes1[0].axhline(y=0, linewidth=0.4)\n",
    "\n",
    "axes1[1].plot(y_ar1_model1)\n",
    "axes1[1].set_xlabel('Time', fontsize=16)\n",
    "axes1[1].set_title('AR($1$)' + ' with $\\phi$ = ' + str(phi1_model1) , fontsize=18)\n",
    "axes1[1].axhline(y=0, linewidth=0.4)\n",
    "\n",
    "fig1.tight_layout()"
   ]
  },
  {
   "cell_type": "markdown",
   "metadata": {},
   "source": [
    "### Exercise 1: Simulate ARMA($p$,$q$) models\n",
    "\n",
    "Now, simulate 5 paths from a few different AR($1$) processes with autoregressive parameters $\\phi$ that are a lot more persistent than $\\phi=0.75$. \n",
    "\n",
    "In addition, let's simulate 5 paths from an MA($1$) process, as well as a non-stationary AR($1$) process with $\\phi=1$ \n",
    "<br> (**Note:** What type of process is this called?)\n",
    "\n",
    "For now, set $T=250$ for both processes."
   ]
  },
  {
   "cell_type": "code",
   "execution_count": null,
   "metadata": {
    "collapsed": true
   },
   "outputs": [],
   "source": [
    "nsampleT = 250\n",
    "\n",
    "### 1. AR(1) with high persistence = 0.90\n",
    "phi1_model2 = 0.9\n",
    "y_ar1_model2 = simulate_arma(ar=[phi1_model2], nsample=nsampleT, paths=5)\n",
    "\n",
    "### 2. AR(1) with high persistence = 0.95\n",
    "phi1_model3 = 0.95\n",
    "y_ar1_model3 = simulate_arma(ar=[phi1_model3], nsample=nsampleT, paths=5)\n",
    "\n",
    "### 3. AR(1) with high persistence = 0.99\n",
    "phi1_model4 = 0.99\n",
    "y_ar1_model4 = simulate_arma(ar=[phi1_model4], nsample=nsampleT, paths=5)\n",
    "\n",
    "### 4. AR(1) with high persistence = 0.99999\n",
    "phi1_model5 = 0.99999\n",
    "y_ar1_model5 = simulate_arma(ar=[phi1_model5], nsample=nsampleT, paths=5)\n",
    "\n",
    "### 5. MA(1) with theta = 0.5\n",
    "theta1_model1 = 0.5\n",
    "y_ma1_model1 = simulate_arma(ma=[theta1_model1], nsample=nsampleT, paths=5)\n",
    "\n",
    "### 6. Non-stationary AR(1) \n",
    "phi1_model6 = 1\n",
    "y_rw = simulate_arma(ar=[phi1_model6], nsample=nsampleT, paths=5)\n",
    "\n",
    "### Plot the simulations\n",
    "fig2, axes2 = plt.subplots(nrows=3, ncols=2, figsize=(14,12))\n",
    "\n",
    "axes2[0,0].plot(y_ar1_model2)\n",
    "axes2[0,0].set_xlabel('Time', fontsize=16)\n",
    "axes2[0,0].set_title('AR($1$)' + ' with $\\phi$ = ' + str(phi1_model2), fontsize=18)\n",
    "axes2[0,0].axhline(y=0, linewidth=0.4)\n",
    "\n",
    "axes2[0,1].plot(y_ar1_model3)\n",
    "axes2[0,1].set_xlabel('Time', fontsize=16)\n",
    "axes2[0,1].set_title('AR($1$)' + ' with $\\phi$ = ' + str(phi1_model3), fontsize=18)\n",
    "axes2[0,1].axhline(y=0, linewidth=0.4)\n",
    "\n",
    "axes2[1,0].plot(y_ar1_model4)\n",
    "axes2[1,0].set_xlabel('Time', fontsize=16)\n",
    "axes2[1,0].set_title('AR($1$)' + ' with $\\phi$ = ' + str(phi1_model4), fontsize=18)\n",
    "axes2[1,0].axhline(y=0, linewidth=0.4)\n",
    "\n",
    "axes2[1,1].plot(y_ar1_model5)\n",
    "axes2[1,1].set_xlabel('Time', fontsize=16)\n",
    "axes2[1,1].set_title('AR($1$)' + ' with $\\phi$ = ' + str(phi1_model5), fontsize=18)\n",
    "axes2[1,1].axhline(y=0, linewidth=0.4)\n",
    "\n",
    "axes2[2,0].plot(y_ma1_model1)\n",
    "axes2[2,0].set_xlabel('Time', fontsize=16)\n",
    "axes2[2,0].set_title('MA($1$)' + ' with $\\\\theta$ = ' + str(theta1_model1), fontsize=18)\n",
    "axes2[2,0].axhline(y=0, linewidth=0.4)\n",
    "\n",
    "axes2[2,1].plot(y_rw)\n",
    "axes2[2,1].set_xlabel('Time', fontsize=16)\n",
    "axes2[2,1].set_title('Random Walk', fontsize=18)\n",
    "axes2[2,1].axhline(y=0, linewidth=0.4)\n",
    "\n",
    "fig2.tight_layout()"
   ]
  },
  {
   "cell_type": "markdown",
   "metadata": {},
   "source": [
    "### Exercise 2: Guess the ARMA($p$,$q$) processes!\n",
    "\n",
    "By looking at the 5 following paths, can you guess the 5 respective ARMA($p$,$q$) processes that generate the paths?"
   ]
  },
  {
   "cell_type": "markdown",
   "metadata": {},
   "source": [
    "Let's load in the .csv files `'Exercise2_smallT_arma_sims.csv` and `'Exercise2_largeT_arma_sims.csv`. \n",
    "The first file contains simulated processes with <u>small</u> $T$ sample size, while the second file contains simulated processes with <u>large</u> $T$ sample size."
   ]
  },
  {
   "cell_type": "code",
   "execution_count": null,
   "metadata": {
    "collapsed": true
   },
   "outputs": [],
   "source": [
    "### Read in simulated processes\n",
    "df_Exercise2_smallT = pd.read_csv('Exercise2_smallT_arma_sims.csv', header=0)\n",
    "df_Exercise2_largeT = pd.read_csv('Exercise2_largeT_arma_sims.csv', header=0)\n",
    "print(df_Exercise2_smallT.head(), '\\n')\n",
    "print(df_Exercise2_largeT.head(), '\\n')\n",
    "\n",
    "### Get info about the 2 'DataFrames'\n",
    "print(df_Exercise2_smallT.info(), '\\n')\n",
    "print(df_Exercise2_largeT.info())"
   ]
  },
  {
   "cell_type": "markdown",
   "metadata": {},
   "source": [
    "#### Exercise 2.1: Guess this process"
   ]
  },
  {
   "cell_type": "code",
   "execution_count": null,
   "metadata": {
    "collapsed": true
   },
   "outputs": [],
   "source": [
    "fig3, axes3 = plt.subplots(figsize=(12,6))\n",
    "axes3.plot(df_Exercise2_smallT.y_process1_smallT)\n",
    "axes3.set_xlabel('Time', fontsize=18)\n",
    "axes3.set_title('Process #1', fontsize=18)\n",
    "axes3.axhline(y=0, linewidth=0.4)\n",
    "fig3.tight_layout()"
   ]
  },
  {
   "cell_type": "markdown",
   "metadata": {},
   "source": [
    "#### Solution to Exercise 2.1:\n"
   ]
  },
  {
   "cell_type": "markdown",
   "metadata": {},
   "source": [
    "#### Exercise 2.2: Guess this process"
   ]
  },
  {
   "cell_type": "code",
   "execution_count": null,
   "metadata": {
    "collapsed": true
   },
   "outputs": [],
   "source": [
    "fig4, axes4 = plt.subplots(figsize=(12,6))\n",
    "axes4.plot(df_Exercise2_smallT.y_process2_smallT)\n",
    "axes4.set_xlabel('Time', fontsize=16)\n",
    "axes4.set_title('Process #2', fontsize=18)\n",
    "axes4.axhline(y=0, linewidth=0.4)\n",
    "fig4.tight_layout()"
   ]
  },
  {
   "cell_type": "markdown",
   "metadata": {},
   "source": [
    "#### Solution to Exercise 2.2:\n"
   ]
  },
  {
   "cell_type": "markdown",
   "metadata": {},
   "source": [
    "#### Exercise 2.3:  Guess this process"
   ]
  },
  {
   "cell_type": "code",
   "execution_count": null,
   "metadata": {
    "collapsed": true
   },
   "outputs": [],
   "source": [
    "fig5a, axes5a = plt.subplots(figsize=(12,6))\n",
    "axes5a.plot(df_Exercise2_smallT.y_process3_smallT)\n",
    "axes5a.set_xlabel('Time', fontsize=16)\n",
    "axes5a.set_title('Process #3', fontsize=18)\n",
    "axes5a.axhline(y=0, linewidth=0.4)\n",
    "fig5a.tight_layout()"
   ]
  },
  {
   "cell_type": "markdown",
   "metadata": {},
   "source": [
    "#### Solution to Exercise 2.3:\n"
   ]
  },
  {
   "cell_type": "markdown",
   "metadata": {},
   "source": [
    "#### Exercise 2.4:  Guess this process"
   ]
  },
  {
   "cell_type": "code",
   "execution_count": null,
   "metadata": {
    "collapsed": true
   },
   "outputs": [],
   "source": [
    "fig5b, axes5b = plt.subplots(figsize=(12,6))\n",
    "axes5b.plot(df_Exercise2_smallT.y_process4_smallT)\n",
    "axes5b.set_xlabel('Time', fontsize=16)\n",
    "axes5b.set_title('Process #4', fontsize=18)\n",
    "axes5b.axhline(y=0, linewidth=0.4)\n",
    "fig5b.tight_layout()"
   ]
  },
  {
   "cell_type": "markdown",
   "metadata": {},
   "source": [
    "#### Solution to Exercise 2.4:\n"
   ]
  },
  {
   "cell_type": "markdown",
   "metadata": {},
   "source": [
    "#### Exercise 2.5:  Guess this process"
   ]
  },
  {
   "cell_type": "code",
   "execution_count": null,
   "metadata": {
    "collapsed": true
   },
   "outputs": [],
   "source": [
    "fig5c, axes5c = plt.subplots(figsize=(12,6))\n",
    "axes5c.plot(df_Exercise2_largeT.y_process1_largeT)\n",
    "axes5c.set_xlabel('Time', fontsize=16)\n",
    "axes5c.set_title('Process #5', fontsize=18)\n",
    "axes5c.axhline(y=0, linewidth=0.4)\n",
    "fig5c.tight_layout()"
   ]
  },
  {
   "cell_type": "markdown",
   "metadata": {},
   "source": [
    "#### Solution to Exercise 2.5:\n"
   ]
  },
  {
   "cell_type": "markdown",
   "metadata": {},
   "source": [
    "### Exercise 3: OLS Regression Estimation from \"scratch\"\n",
    "\n",
    "**Problem:** Write a function that returns the parameter estimates and residuals from a *simple OLS regression estimation*.\n",
    "\n",
    "**Note:** It's helpful to include an option that allows you to <u>add a constant</u> within the function, although this is up to you. If you do add a constant within your function, it can be useful to return the new matrix as well. \n",
    "\n",
    "Once again, `statsmodels` and other Python libraries have functions for running linear regressions. For now, write your own function."
   ]
  },
  {
   "cell_type": "code",
   "execution_count": null,
   "metadata": {
    "collapsed": true
   },
   "outputs": [],
   "source": [
    "def calc_ols(y, x, addcon=True):\n",
    "    \"\"\"Calculate OLS coefficients from scratch\"\"\"\n",
    "    Nobs = y.shape[0]\n",
    "    if addcon:\n",
    "        X = np.c_[np.ones((Nobs,1)), x] # append the [Nobs x 1] columns of ones.\n",
    "    else:\n",
    "        X = x\n",
    "    XX = np.dot(X.T, X) # Construct sample average of E[X'X]\n",
    "    Xy = np.dot(X.T,y) # Construct sample average of E[X'Y]\n",
    "    beta_hat = np.linalg.solve(XX, Xy) # algebraic solution for OLS. beta_hat = (E[X'X]^-1)*(E[X'Y])\n",
    "    resids = y - np.dot(X, beta_hat) # residual eps_hat = y - beta_hat*X \n",
    "    return beta_hat, resids, X"
   ]
  },
  {
   "cell_type": "markdown",
   "metadata": {},
   "source": [
    "Below, I present a \"wrapper\" for the `statsmodels` OLS regression estimation routine so it returns the parameter estimates and residuals in one function."
   ]
  },
  {
   "cell_type": "code",
   "execution_count": null,
   "metadata": {
    "collapsed": true
   },
   "outputs": [],
   "source": [
    "### See: https://stackoverflow.com/questions/20701484/why-do-i-get-only-one-parameter-from-a-statsmodels-ols-fit\n",
    "def _sm_calc_ols(y, x, addcon=True):\n",
    "    \"\"\"Wrapper for statsmodels OLS regression\"\"\"\n",
    "    X = sm.add_constant(x) if addcon else x # add a constant if addcon==True=1\n",
    "    ols_results = sm.OLS(y,X).fit()\n",
    "    beta_hat = ols_results.params # beta_hat\n",
    "    resids = ols_results.resid  # resids\n",
    "    return beta_hat, resids, X"
   ]
  },
  {
   "cell_type": "markdown",
   "metadata": {},
   "source": [
    "We can now compare our \"brute force\" OLS regression estimation function with that of `statsmodels`:"
   ]
  },
  {
   "cell_type": "code",
   "execution_count": null,
   "metadata": {
    "collapsed": true
   },
   "outputs": [],
   "source": [
    "### PART 1: Test the function on simulated data\n",
    "nsample_T = 1000\n",
    "\n",
    "np.random.seed(1)\n",
    "x1 = np.random.normal(size=nsample_T )\n",
    "x2 = np.random.normal(size=nsample_T )\n",
    "eps = np.random.normal(size=nsample_T )\n",
    "\n",
    "# Simple simulation of an AR(2)\n",
    "y = 2 + -3*x1 + .1*x2 + eps \n",
    "\n",
    "x = np.c_[x1, x2] # https://docs.scipy.org/doc/numpy/reference/generated/numpy.c_.html\n",
    "\n",
    "### NOTE: calc_ols(y,x) returns \"beta_hat, resids, X\"\n",
    "###       If we only want beta_hat, then we use \"_,_\" so we don't return the other 3 objects.\n",
    "beta_hat, _,_ = calc_ols(y,x) \n",
    "print('Estimates (using our \"brute force\" function): ', beta_hat, '\\n')\n",
    "\n",
    "beta_hat, _,_ = _sm_calc_ols(y,x, addcon=True)\n",
    "print('Estimates (using statsmodels): ', beta_hat, '\\n')\n",
    "\n",
    "### PART 2: Estimate an AR(1) with theta = 0.75 using OLS estimation:\n",
    "y_ar1 = simulate_arma(ar=[.75], nsample=nsample_T )\n",
    "beta_hat_ar1, _,_ = calc_ols(y_ar1[1:], y_ar1[:-1])\n",
    "print('Estimates of an AR(1) process with' + ' phi=0.75 using OLS estimation:', \n",
    "      '\\n\\tintercept (mu):', round(beta_hat_ar1[0].item(), 3), '\\n\\tphi:', round(beta_hat_ar1[1].item(), 3))"
   ]
  },
  {
   "cell_type": "markdown",
   "metadata": {},
   "source": [
    "## Example 2: Estimate the  *ACF* and *PACF* of processes from Example 1 by OLS regression\n",
    "\n",
    "Using your \"brute force\" OLS function, write additional functions that both estimate and plot the *ACF* and *PACF* via OLS.\n",
    "\n",
    "**Note:** compare with the `statsmodels` methods:\n",
    "* `sm.tsa.stattools.acf`, `sm.graphics.tsa.plot_acf`\n",
    "* `sm.tsa.stattools.pacf`, `sm.graphics.tsa.plot_pacf`\n",
    "\n",
    "Both of these functions have multiple methods for estimation; we'll stick with OLS."
   ]
  },
  {
   "cell_type": "code",
   "execution_count": null,
   "metadata": {
    "collapsed": true
   },
   "outputs": [],
   "source": [
    "def lag_mat(y,nlags, fill_vals=np.nan):\n",
    "    \"\"\"Create a matrix of lags of a given vector\"\"\"\n",
    "    ### Source: https://docs.scipy.org/doc/numpy/reference/generated/numpy.empty.html\n",
    "    y_lags = np.empty((y.shape[0], nlags+1)) \n",
    "    y_lags.fill(fill_vals)\n",
    "    \n",
    "    ### Include 0 lag\n",
    "    for lag in range(nlags + 1):\n",
    "        ### Source: https://docs.scipy.org/doc/numpy/reference/generated/numpy.roll.html\n",
    "        ### np.roll --> Elements that roll beyond the last position are re-introduced at the first.\n",
    "        y_lags[lag:, lag] = np.roll(y, shift=lag)[lag:] \n",
    "    return y_lags\n",
    "\n",
    "### ACF and PACF for a given lag\n",
    "def calc_acf_lag_ols(y_lags, lag):\n",
    "    \"\"\"ACF for a given lag (OLS)\"\"\"\n",
    "    if lag==0: \n",
    "        return 1.\n",
    "    lhs = y_lags[lag:, 0]\n",
    "    rhs = y_lags[lag:, lag:lag+1]\n",
    "    beta_hat, _,_ = calc_ols(y=lhs, x=rhs, addcon=True)\n",
    "    return beta_hat[-1]\n",
    "\n",
    "def calc_pacf_lag_ols(y_lags, lag):\n",
    "    \"\"\"PACF for a given lag (OLS)\"\"\"\n",
    "    if lag==0: \n",
    "        return 1.\n",
    "    lhs = y_lags[lag:, 0]\n",
    "    ### need y_lags[lag:, 1:lag+1] instead of y_lags[lag:,lag:lag+1] (unlike \"calc_acf_lag_ols\")\n",
    "    rhs = y_lags[lag:, 1:lag+1] \n",
    "    beta_hat, _,_ = calc_ols(y=lhs, x=rhs, addcon=True)\n",
    "    return beta_hat[-1]\n",
    "\n",
    "### ACF and PACF for all lags\n",
    "def calc_acf_ols(y, nlags):\n",
    "    \"\"\"ACF for multiple lags\"\"\"\n",
    "    y_lags = lag_mat(y,nlags)\n",
    "    acf_list = [calc_acf_lag_ols(y_lags,lag) for lag in range(nlags + 1)]\n",
    "    return np.array(acf_list)\n",
    "\n",
    "def calc_pacf_ols(y, nlags):\n",
    "    \"\"\"PACF for multiple lags\"\"\"\n",
    "    y_lags = lag_mat(y,nlags)\n",
    "    pacf_list = [calc_pacf_lag_ols(y_lags,lag) for lag in range(nlags + 1)]\n",
    "    return np.array(pacf_list)\n",
    "\n",
    "### Plotting functions\n",
    "def my_plot_acf(y, nlags=10, ax=None, title_string='', \n",
    "                title_fontsize=None, xlabel_string='Time'):\n",
    "    \"\"\"Plotting ACF with approx SEs.\"\"\"\n",
    "    T = y.shape[0] \n",
    "    ### approx SEs: scaling used in aysmptotic\n",
    "    se_approx = 1/np.sqrt(T)\n",
    "    ### set up figure\n",
    "    if ax is None:\n",
    "        fig, ax = plt.subplots(nrows=1, ncols=1, figsize=(5,5))\n",
    "    ### ACF\n",
    "    ax.plot(calc_acf_ols(y, nlags), c='xkcd:true blue', \n",
    "            marker='o', markerfacecolor='xkcd:azure')\n",
    "    ax.fill_between(x=range(0,nlags+1), y1=-1.96*se_approx, y2=1.96*se_approx, facecolor='blue', alpha=0.1)\n",
    "    ax.set_xlabel(xlabel_string)\n",
    "    if title_fontsize!=None:\n",
    "        ax.set_title('${\\it ACF}$: ' + title_string, fontsize=title_fontsize)\n",
    "    else:\n",
    "        ax.set_title('${\\it ACF}$: ' + title_string)\n",
    "    \n",
    "def my_plot_pacf(y, nlags=10, ax=None, title_string='', \n",
    "                 title_fontsize=None, xlabel_string='Time'):\n",
    "    \"\"\"Plotting PACF with approx SEs.\"\"\"\n",
    "    T = y.shape[0]\n",
    "    # approx SEs: scaling used in aysmptotic\n",
    "    se_approx = 1/np.sqrt(T)\n",
    "    # set up figure\n",
    "    if ax is None:\n",
    "        fig, ax = plt.subplots(nrows=1, ncols=1, figsize=(5,5))\n",
    "    # PACF\n",
    "    ax.plot(calc_pacf_ols(y, nlags), c='xkcd:true blue', \n",
    "            marker='o', markerfacecolor='xkcd:azure')\n",
    "    ax.fill_between(x=range(0,nlags+1), y1=-1.96*se_approx, y2=1.96*se_approx, facecolor='blue', alpha=0.1)\n",
    "    ax.set_xlabel(xlabel_string)\n",
    "    if title_fontsize!=None:\n",
    "        ax.set_title('${\\it PACF}$: ' + title_string, fontsize=title_fontsize)\n",
    "    else:\n",
    "        ax.set_title('${\\it PACF}$: ' + title_string)\n",
    "    "
   ]
  },
  {
   "cell_type": "markdown",
   "metadata": {},
   "source": [
    "Let's plot the *ACF* and *PACF* for our **Standard Gaussian White Noise** (WN) process and an AR($1$) process with $\\phi=0.75$:"
   ]
  },
  {
   "cell_type": "code",
   "execution_count": null,
   "metadata": {
    "collapsed": true
   },
   "outputs": [],
   "source": [
    "###\n",
    "### NOTE: only simulate \"one\" path! (can use np..squeeze() to collapse to remove single-dimensional entries)\n",
    "###\n",
    "\n",
    "### 1. White Noise \n",
    "y_wn = simulate_arma(nsample=100).squeeze() \n",
    "\n",
    "### 2. AR(1) with persistence = 0.75\n",
    "phi1_model1 = 0.75\n",
    "y_ar1_model1 = simulate_arma(ar=[phi1_model1], nsample=100).squeeze() "
   ]
  },
  {
   "cell_type": "code",
   "execution_count": null,
   "metadata": {
    "collapsed": true
   },
   "outputs": [],
   "source": [
    "### ACF/PACF plots\n",
    "nlags = 15\n",
    "fig6, axes6 = plt.subplots(nrows=2, ncols=2, figsize=(12,8))\n",
    "\n",
    "my_plot_acf(y_wn, nlags , ax=axes6[0,0], title_string=\"White Noise\")\n",
    "my_plot_pacf(y_wn, nlags , ax=axes6[0,1], title_string=\"White Noise\")\n",
    "\n",
    "my_plot_acf(y_ar1_model1, nlags, ax=axes6[1,0], title_string=\"AR(1) with $\\\\phi$=\" + str(phi1_model1))\n",
    "my_plot_pacf(y_ar1_model1, nlags , ax=axes6[1,1], title_string=\"AR(1) with $\\\\phi$=\" + str(phi1_model1))\n",
    "\n",
    "fig6.tight_layout()"
   ]
  },
  {
   "cell_type": "markdown",
   "metadata": {},
   "source": [
    "Let's compare our \"brute force\" results from above to those we would get if we used `statsmodels`:"
   ]
  },
  {
   "cell_type": "code",
   "execution_count": null,
   "metadata": {
    "collapsed": true
   },
   "outputs": [],
   "source": [
    "### import 'statsmodels' routines for  ACF/PACF plotting\n",
    "from statsmodels.graphics.tsaplots import plot_acf, plot_pacf\n",
    "nlags = 15\n",
    "\n",
    "fig7, axes7 = plt.subplots(nrows=2, ncols=2, figsize=(12,8))\n",
    "\n",
    "plot_acf(y_wn, ax=axes7[0,0], lags=nlags, \n",
    "         title=\"${\\it statsmodels}$ ACF: White Noise\")\n",
    "plot_pacf(y_wn, ax=axes7[0,1], lags=nlags, \n",
    "          title=\"${\\it statsmodels}$ PACF: White Noise\")\n",
    "\n",
    "plot_acf(y_ar1_model1, ax=axes7[1,0], lags=nlags, \n",
    "         title=\"${\\it statsmodels}$ ACF: AR(1) with $\\\\phi$=\" + str(phi1_model1))\n",
    "plot_pacf(y_ar1_model1, ax=axes7[1,1], lags=nlags, \n",
    "          title=\"${\\it statsmodels}$ PACF: AR(1) with $\\\\phi$=\" + str(phi1_model1))\n",
    "\n",
    "fig7.tight_layout()"
   ]
  },
  {
   "cell_type": "markdown",
   "metadata": {},
   "source": [
    "Our *ACF* and *PACF* plots are visually nicer! :)"
   ]
  },
  {
   "cell_type": "markdown",
   "metadata": {},
   "source": [
    "### Exercise 4: Estimate the  *ACF* and *PACF* of the processes from Exercise 2 by OLS regression\n",
    "\n",
    "Now, estimate the *ACF* and *PACF* for the same processes from **Exercise 2**. Only simulate once!\n",
    "\n",
    "Recall the processes we simulated:\n",
    "\n",
    "1. AR($1$) with $\\phi=0.9$\n",
    "2. AR($1$) with $\\phi=0.95$\n",
    "3. AR($1$) with $\\phi=0.99$\n",
    "4. AR($1$) with $\\phi=0.99999$\n",
    "5. MA($1$) with $\\theta=0.5$\n",
    "6. Random Walk "
   ]
  },
  {
   "cell_type": "code",
   "execution_count": null,
   "metadata": {
    "collapsed": true
   },
   "outputs": [],
   "source": [
    "nsample_T = 100\n",
    "\n",
    "### 1. AR(1) with high persistence = 0.90\n",
    "phi1_model2 = 0.9\n",
    "y_ar1_model2 = simulate_arma(ar=[phi1_model2], nsample=nsample_T).squeeze()\n",
    "\n",
    "### 2. AR(1) with high persistence = 0.95\n",
    "phi1_model3 = 0.95\n",
    "y_ar1_model3 = simulate_arma(ar=[phi1_model3], nsample=nsample_T).squeeze()\n",
    "\n",
    "### 3. AR(1) with high persistence = 0.99\n",
    "phi1_model4 = 0.99\n",
    "y_ar1_model4 = simulate_arma(ar=[phi1_model4], nsample=nsample_T).squeeze()\n",
    "\n",
    "### 4. AR(1) with high persistence = 0.99999\n",
    "phi1_model5 = 0.99999\n",
    "y_ar1_model5 = simulate_arma(ar=[phi1_model5], nsample=nsample_T).squeeze()\n",
    "\n",
    "### 5. MA(1) with theta = 0.5\n",
    "theta1_model1 = 0.5\n",
    "y_ma1_model1 = simulate_arma(ma=[theta1_model1], nsample=nsample_T).squeeze()\n",
    "\n",
    "### 6. Non-stationary AR(1) \n",
    "phi1_model6 = 1\n",
    "y_rw = simulate_arma(ar=[phi1_model6], nsample=nsample_T).squeeze()\n",
    "\n",
    "### ACF/PACF plots\n",
    "fig8, axes8 = plt.subplots(nrows=6, ncols=2, figsize=(12,20))\n",
    "nlags = 15\n",
    "\n",
    "my_plot_acf(y_ar1_model2, nlags, ax=axes8[0,0], title_string=\"AR(1) with $\\\\phi$=\" + str(phi1_model2))\n",
    "my_plot_pacf(y_ar1_model2, nlags , ax=axes8[0,1], title_string=\"AR(1) with $\\\\phi$=\" + str(phi1_model2))\n",
    "\n",
    "my_plot_acf(y_ar1_model3, nlags, ax=axes8[1,0], title_string=\"AR(1) with $\\\\phi$=\" + str(phi1_model3))\n",
    "my_plot_pacf(y_ar1_model3, nlags , ax=axes8[1,1], title_string=\"AR(1) with $\\\\phi$=\" + str(phi1_model3))\n",
    "\n",
    "my_plot_acf(y_ar1_model4, nlags, ax=axes8[2,0], title_string=\"AR(1) with $\\\\phi$=\" + str(phi1_model4))\n",
    "my_plot_pacf(y_ar1_model4, nlags , ax=axes8[2,1], title_string=\"AR(1) with $\\\\phi$=\" + str(phi1_model4))\n",
    "\n",
    "my_plot_acf(y_ar1_model5, nlags, ax=axes8[3,0], title_string=\"AR(1) with $\\\\phi$=\" + str(phi1_model5))\n",
    "my_plot_pacf(y_ar1_model5, nlags , ax=axes8[3,1], title_string=\"AR(1) with $\\\\phi$=\" + str(phi1_model5))\n",
    "\n",
    "my_plot_acf(y_ma1_model1, nlags, ax=axes8[4,0], title_string=\"MA(1) with $\\\\theta$=\" + str(theta1_model1))\n",
    "my_plot_pacf(y_ma1_model1, nlags , ax=axes8[4,1], title_string=\"MA(1) with $\\\\theta$=\" + str(theta1_model1))\n",
    "\n",
    "my_plot_acf(y_rw, nlags, ax=axes8[5,0], title_string=\"AR(1) with $\\\\phi$=\" + str(phi1_model6))\n",
    "my_plot_pacf(y_rw, nlags , ax=axes8[5,1], title_string=\"AR(1) with $\\\\phi$=\" + str(phi1_model6))\n",
    "\n",
    "fig8.tight_layout()"
   ]
  },
  {
   "cell_type": "markdown",
   "metadata": {},
   "source": [
    "### Exercise 5: Guess the ARMA($p$,$q$) processes from the *ACF* and *PACF*. \n",
    "\n",
    "In **Exercise 2** we guessed 5 ARMA($p$,$q$) processes by simply looking at a simulated path for each. \n",
    "\n",
    "We now want to guess which *ACF/PACF* pair belongs to each of the 5 processes:\n",
    "\n",
    "Let's load in the .csv files `'Exercise5_smallT_arma_sims.csv` and `'Exercise5_largeT_arma_sims.csv` with both a small $T$ and large $T$ simulated path for each of our processes from **Exercise 2**."
   ]
  },
  {
   "cell_type": "code",
   "execution_count": null,
   "metadata": {
    "collapsed": true
   },
   "outputs": [],
   "source": [
    "### Read in simulated processes\n",
    "df_Exercise5_smallT = pd.read_csv('Exercise5_smallT_arma_sims.csv', header=0)\n",
    "df_Exercise5_largeT = pd.read_csv('Exercise5_largeT_arma_sims.csv', header=0)\n",
    "\n",
    "print(df_Exercise5_smallT.info(), '\\n')\n",
    "print(df_Exercise5_largeT.info())"
   ]
  },
  {
   "cell_type": "markdown",
   "metadata": {},
   "source": [
    "#### Exercise 5.1: Guess this process"
   ]
  },
  {
   "cell_type": "code",
   "execution_count": null,
   "metadata": {
    "collapsed": true
   },
   "outputs": [],
   "source": [
    "nlags=15\n",
    "fig9, axes9 = plt.subplots(nrows=1, ncols=2, figsize=(16,6))\n",
    "my_plot_acf(df_Exercise5_smallT.y_process1_smallT, \n",
    "            nlags, ax=axes9[0], title_string=\"Process #1\", title_fontsize=18)\n",
    "my_plot_pacf(df_Exercise5_smallT.y_process1_smallT, \n",
    "             nlags , ax=axes9[1], title_string=\"Process #1\", title_fontsize=18)\n",
    "fig9.tight_layout()"
   ]
  },
  {
   "cell_type": "markdown",
   "metadata": {},
   "source": [
    "#### Solution to Exercise 5.1:\n"
   ]
  },
  {
   "cell_type": "markdown",
   "metadata": {},
   "source": [
    "#### Exercise 5.2: Guess this process"
   ]
  },
  {
   "cell_type": "code",
   "execution_count": null,
   "metadata": {
    "collapsed": true
   },
   "outputs": [],
   "source": [
    "nlags=15\n",
    "fig10, axes10 = plt.subplots(nrows=1, ncols=2, figsize=(16,6))\n",
    "my_plot_acf(df_Exercise5_smallT.y_process3_smallT, \n",
    "            nlags, ax=axes10[0], title_string=\"Process #2\", title_fontsize=18)\n",
    "my_plot_pacf(df_Exercise5_smallT.y_process3_smallT, \n",
    "             nlags, ax=axes10[1], title_string=\"Process #2\", title_fontsize=18)\n",
    "\n",
    "fig10.tight_layout()"
   ]
  },
  {
   "cell_type": "markdown",
   "metadata": {},
   "source": [
    "#### Solution to Exercise 5.2: \n"
   ]
  },
  {
   "cell_type": "markdown",
   "metadata": {},
   "source": [
    "#### Exercise 5.3: Guess this process"
   ]
  },
  {
   "cell_type": "code",
   "execution_count": null,
   "metadata": {
    "collapsed": true
   },
   "outputs": [],
   "source": [
    "nlags=15\n",
    "fig11, axes11 = plt.subplots(nrows=1, ncols=2, figsize=(16,6))\n",
    "my_plot_acf(df_Exercise5_smallT.y_process4_smallT, nlags, \n",
    "            ax=axes11[0], title_string=\"Process #3\", title_fontsize=18)\n",
    "my_plot_pacf(df_Exercise5_smallT.y_process4_smallT, nlags, \n",
    "            ax=axes11[1], title_string=\"Process #3\", title_fontsize=18)\n",
    "fig11.tight_layout()"
   ]
  },
  {
   "cell_type": "markdown",
   "metadata": {},
   "source": [
    "#### Solution to Exercise 5.3:\n"
   ]
  },
  {
   "cell_type": "markdown",
   "metadata": {},
   "source": [
    "#### Exercise 5.4: Guess this process"
   ]
  },
  {
   "cell_type": "code",
   "execution_count": null,
   "metadata": {
    "collapsed": true
   },
   "outputs": [],
   "source": [
    "nlags=15\n",
    "fig11, axes11 = plt.subplots(nrows=1, ncols=2, figsize=(16,6))\n",
    "my_plot_acf(df_Exercise5_largeT.y_process4_largeT, nlags, \n",
    "            ax=axes11[0], title_string=\"Process #4\", title_fontsize=18)\n",
    "my_plot_pacf(df_Exercise5_largeT.y_process4_largeT, nlags, \n",
    "            ax=axes11[1], title_string=\"Process #4\", title_fontsize=18)\n",
    "fig11.tight_layout()"
   ]
  },
  {
   "cell_type": "markdown",
   "metadata": {},
   "source": [
    "#### Solution to Exercise 5.4:\n"
   ]
  },
  {
   "cell_type": "markdown",
   "metadata": {},
   "source": [
    "#### Exercise 5.5: Guess this process"
   ]
  },
  {
   "cell_type": "code",
   "execution_count": null,
   "metadata": {
    "collapsed": true
   },
   "outputs": [],
   "source": [
    "nlags=15\n",
    "fig11, axes11 = plt.subplots(nrows=1, ncols=2, figsize=(16,6))\n",
    "my_plot_acf(df_Exercise5_largeT.y_process3_largeT, nlags, \n",
    "            ax=axes11[0], title_string=\"Process #5\", title_fontsize=18)\n",
    "my_plot_pacf(df_Exercise5_largeT.y_process3_largeT, nlags, \n",
    "            ax=axes11[1], title_string=\"Process #5\", title_fontsize=18)\n",
    "fig11.tight_layout()"
   ]
  },
  {
   "cell_type": "markdown",
   "metadata": {},
   "source": [
    "#### Solution to Exercise 5.5:\n"
   ]
  },
  {
   "cell_type": "markdown",
   "metadata": {},
   "source": [
    "Now to dealing with **non-stationarity**..."
   ]
  },
  {
   "cell_type": "markdown",
   "metadata": {},
   "source": [
    "## Example 3: Differencing and determining the *integration order* of an ARIMA($p$,$n$,$q$) series\n",
    "\n",
    "Recall that an ARMA($p$,$q$) process  can be written as\n",
    "\n",
    "$$\n",
    "x_t = \\mu + \\phi_1 x_{t-1} + \\phi_2 x_{t-2} + ... \\phi_p x_{t-p} + \\epsilon_{t} + \\theta_1 \\epsilon_{t-1} + \\theta_2 \\epsilon_{t-2} +  ...  + \\theta_q \\epsilon_{t-q}\n",
    "$$\n",
    "\n",
    "Without loss of generality, we consider $\\mu=0$. We can also rewrite our process in terms of polynomials with AR roots $\\frac{1}{\\lambda_1}, \\frac{1}{\\lambda_2}, ..., \\frac{1}{\\lambda_p}$ and MA roots $\\frac{1}{\\zeta_1}, \\frac{1}{\\zeta_2}, ..., \\frac{1}{\\zeta_q}$:\n",
    "\n",
    "$$\n",
    "(1 - \\lambda_1 L)(1 - \\lambda_2 L) ... (1 - \\lambda_p L)x_t = \\epsilon_{t} + \\theta_1 \\epsilon_{t-1} + \\theta_2 \\epsilon_{t-2} +  ...  + \\theta_q \\epsilon_{t-q}\n",
    "$$\n",
    "\n",
    "$$\n",
    "(1 - \\lambda_1 L)(1 - \\lambda_2 L) ... (1 - \\lambda_p L)x_t = (1 + \\zeta_1 L)(1 + \\zeta_2 L) ... (1 + \\zeta_q L)\\epsilon_{t}\n",
    "$$\n",
    "\n",
    "If $n$ of the roots, $\\frac{1}{\\lambda_i}$, are equal to 1, then we say that $x_t$ is a process that is **integrated of order** $n$: $I(n)$.  \n",
    "\n",
    "**FACT 1:** An ARMA($p$,$q$) process is \"sensible\", i.e. *stationary*, if all roots of the *factored* AR lag polynomial lie <u>outside the unit circle</u>, $\\mid \\frac{1}{\\lambda_i}\\mid > 1$ for all $i=1,2,...,p$. There are no restrictions on the *factored* MA lag polynomial, but we do require the MA coefficients be square summable. \n",
    "\n",
    "**FACT 2:** An ARMA($p$,$q$) process with $n$ unit roots is called an ARIMA($p$,$n$,$q$), i.e. an ARMA($p$,$q$) process **integrated of order** $n$. \n",
    "\n",
    "**Problem:** Let's now determine the **order of integration** of one of the simulated data series in the file `arima_sims.csv`. \n",
    "\n",
    "\n",
    "Let's look at the *ACF* and *PACF* of the simulated data, as well as various differences of the process. We have to be diligent and avoid both <u>under-differencing</u>, as well as <u>over-differencing</u>. **Why?**"
   ]
  },
  {
   "cell_type": "markdown",
   "metadata": {},
   "source": [
    "Let's load in the .csv files `'arima_smallT_sims.csv` and `'arima_largeT_sims.csv`. \n",
    "\n",
    "Once again, the first file contains simulated processes with <u>small</u> $T$ sample size, while the second file contains simulated processes with <u>large</u> $T$ sample size."
   ]
  },
  {
   "cell_type": "code",
   "execution_count": null,
   "metadata": {
    "collapsed": true
   },
   "outputs": [],
   "source": [
    "### Read in the data\n",
    "df_arima_smallT = pd.read_csv('arima_smallT_sims.csv')\n",
    "df_arima_largeT = pd.read_csv('arima_largeT_sims.csv')\n",
    "\n",
    "print(df_arima_smallT.head(), '\\n')\n",
    "print(df_arima_largeT.head(), '\\n')\n",
    "\n",
    "print(df_arima_smallT.info(), '\\n')\n",
    "print(df_arima_largeT.info())"
   ]
  },
  {
   "cell_type": "markdown",
   "metadata": {},
   "source": [
    "**Question:** What is the **order of integration** for the process `y4_largeT` in the file `arima_largeT_sims.csv`?\n",
    "\n",
    "**Note:** The correct amount of \"differencing\" is the <u>lowest order of differencing</u> such that a time series fluctuates around a well-defined mean value. <br>Also, the *ACF* plot decays fairly rapidly to zero, either from above or below."
   ]
  },
  {
   "cell_type": "code",
   "execution_count": null,
   "metadata": {
    "collapsed": true
   },
   "outputs": [],
   "source": [
    "### 'y4_largeT'\n",
    "ysim1 = df_arima_largeT.y4_largeT\n",
    "\n",
    "### First plot the raw and differenced data, and then the ACF/PACF\n",
    "fig12, axes12 = plt.subplots(nrows=3, ncols=3, figsize=(18,16))\n",
    "for d in range(3):\n",
    "    if d==0:\n",
    "        Dysim = np.copy(ysim1)\n",
    "        axes12[d,0].plot(Dysim) \n",
    "    else:\n",
    "        Dysim = Dysim[1:] - Dysim[:-1]\n",
    "        axes12[d,0].plot(Dysim[:250]) \n",
    "    axes12[d,0].set_title('Diff = %d'% d)\n",
    "    \n",
    "    ### ACF/PACF\n",
    "    my_plot_acf(y=Dysim, nlags=15 , ax=axes12[d,1], title_string=\"Process #1\")\n",
    "    my_plot_pacf(y=Dysim, nlags=15 , ax=axes12[d,2], title_string=\"Process #1\")\n",
    "\n",
    "fig12.tight_layout()"
   ]
  },
  {
   "cell_type": "markdown",
   "metadata": {},
   "source": [
    "**Solutions:** Order of integration for `y4_largeT` is 1, i.e., `y4_largeT` is $I(1)$. \n",
    "\n",
    "**Note:** This process is an ARIMA($1$,$1$, $2$) with:\n",
    "* AR coefficients: $\\phi_1=1.5$, $\\phi_2=-0.5$\n",
    "* MA coefficients: $\\theta_1=-0.067$, $\\theta_2=-0.133$ \n",
    "\n",
    "\n",
    "* AR roots: $\\frac{1}{\\lambda_1}=1$, $\\frac{1}{\\lambda_2}=2$\n",
    "* MA roots: $\\frac{1}{\\zeta_1}=-3$, $\\frac{1}{\\zeta_2}=2.5$"
   ]
  },
  {
   "cell_type": "markdown",
   "metadata": {},
   "source": [
    "#### Exercise 6.1: What is the \"order of integration\" for the process `y3_largeT` in the file `arima_largeT_sims.csv`? \n",
    "That is, how many times does the time series data need to be differenced for you to make it **stationary**?"
   ]
  },
  {
   "cell_type": "code",
   "execution_count": null,
   "metadata": {
    "collapsed": true
   },
   "outputs": [],
   "source": [
    "### 'y3_largeT'\n",
    "ysim2 = df_arima_largeT.y3_largeT\n",
    "\n",
    "### First plot the raw and differenced data, and then the ACF/PACF\n",
    "fig13, axes13 = plt.subplots(nrows=3, ncols=3, figsize=(18,16))\n",
    "for d in range(3):\n",
    "    if d==0:\n",
    "        Dysim = np.copy(ysim2)\n",
    "        axes13[d,0].plot(Dysim)\n",
    "    else:\n",
    "        Dysim = Dysim[1:] - Dysim[:-1]\n",
    "        axes13[d,0].plot(Dysim[:250]) \n",
    "    axes13[d,0].set_title('Diff = %d'% d)\n",
    "    \n",
    "    ### ACF/PACF\n",
    "    my_plot_acf(y=Dysim, nlags=15, ax=axes13[d,1], title_string=\"Process #2\")\n",
    "    my_plot_pacf(y=Dysim, nlags=15, ax=axes13[d,2], title_string=\"Process #2\")\n",
    "\n",
    "fig13.tight_layout()"
   ]
  },
  {
   "cell_type": "markdown",
   "metadata": {},
   "source": [
    "#### Solution to Exercise 6.1:\n"
   ]
  },
  {
   "cell_type": "markdown",
   "metadata": {},
   "source": [
    "#### Exercise 6.2: What is the \"order of integration\" for the process `y3_smallT` in `arima_smallT_sims.csv`? "
   ]
  },
  {
   "cell_type": "code",
   "execution_count": null,
   "metadata": {
    "collapsed": true
   },
   "outputs": [],
   "source": [
    "### 'y3_smallT'\n",
    "ysim3 = df_arima_smallT.y3_smallT\n",
    "\n",
    "### First plot the raw and differenced data, and then the ACF/PACF\n",
    "fig14, axes14 = plt.subplots(nrows=3, ncols=3, figsize=(18,16))\n",
    "for d in range(3):\n",
    "    if d==0:\n",
    "        Dysim = np.copy(ysim3)\n",
    "        axes14[d,0].plot(Dysim)\n",
    "    else:\n",
    "        Dysim = Dysim[1:] - Dysim[:-1]\n",
    "        axes14[d,0].plot(Dysim[:250])\n",
    "    axes14[d,0].set_title('Diff = %d'% d)\n",
    "    \n",
    "    ### ACF/PACF\n",
    "    my_plot_acf(y=Dysim, nlags=15, ax=axes14[d,1], title_string=\"Process #3\")\n",
    "    my_plot_pacf(y=Dysim, nlags=15, ax=axes14[d,2], title_string=\"Process #3\")\n",
    "\n",
    "fig14.tight_layout()"
   ]
  },
  {
   "cell_type": "markdown",
   "metadata": {},
   "source": [
    "#### Solution to Exercise 6.2:\n"
   ]
  },
  {
   "cell_type": "markdown",
   "metadata": {},
   "source": [
    "#### Exercise 6.3: What is the \"order of integration\" for the process `y2_largeT` in `arima_largeT_sims.csv`? "
   ]
  },
  {
   "cell_type": "code",
   "execution_count": null,
   "metadata": {
    "collapsed": true
   },
   "outputs": [],
   "source": [
    "### 'y2_largeT'\n",
    "ysim4 = df_arima_largeT.y2_largeT\n",
    "\n",
    "### First plot the raw and differenced data, and then the ACF/PACF\n",
    "fig15, axes15 = plt.subplots(nrows=3, ncols=3, figsize=(18,16))\n",
    "for d in range(3):\n",
    "    if d==0:\n",
    "        Dysim = np.copy(ysim4)\n",
    "        axes15[d,0].plot(Dysim)\n",
    "    else:\n",
    "        Dysim = Dysim[1:] - Dysim[:-1]\n",
    "        axes15[d,0].plot(Dysim[:250])\n",
    "    axes15[d,0].set_title('Diff = %d'% d)\n",
    "    \n",
    "    ### ACF/PACF\n",
    "    my_plot_acf(y=Dysim, nlags=15, ax=axes15[d,1], title_string=\"Process #4\")\n",
    "    my_plot_pacf(y=Dysim, nlags=15, ax=axes15[d,2], title_string=\"Process #4\")\n",
    "\n",
    "fig15.tight_layout()"
   ]
  },
  {
   "cell_type": "markdown",
   "metadata": {},
   "source": [
    "#### Solution to Exercise 6.3:\n",
    "\n"
   ]
  },
  {
   "cell_type": "markdown",
   "metadata": {},
   "source": [
    "#### Exercise 6.4: What is the \"order of integration\" for the process `y1_largeT` in `arima_largeT_sims.csv`? "
   ]
  },
  {
   "cell_type": "code",
   "execution_count": null,
   "metadata": {
    "collapsed": true
   },
   "outputs": [],
   "source": [
    "### 'y1_largeT'\n",
    "ysim5 = df_arima_largeT.y1_largeT\n",
    "\n",
    "### First plot the raw and differenced data, and then the ACF/PACF\n",
    "fig16, axes16 = plt.subplots(nrows=3, ncols=3, figsize=(18,16))\n",
    "for d in range(3):\n",
    "    if d==0:\n",
    "        Dysim = np.copy(ysim5)\n",
    "        axes16[d,0].plot(Dysim)\n",
    "    else:\n",
    "        Dysim = Dysim[1:] - Dysim[:-1]\n",
    "        axes16[d,0].plot(Dysim[:250])\n",
    "    axes16[d,0].set_title('Diff = %d'% d)\n",
    "    \n",
    "    ### ACF/PACF\n",
    "    my_plot_acf(y=Dysim, nlags=15, ax=axes16[d,1], title_string=\"Process #5\")\n",
    "    my_plot_pacf(y=Dysim, nlags=15, ax=axes16[d,2], title_string=\"Process #5\")\n",
    "\n",
    "fig16.tight_layout()"
   ]
  },
  {
   "cell_type": "markdown",
   "metadata": {},
   "source": [
    "#### Solution to Exercise 6.4:\n"
   ]
  },
  {
   "cell_type": "markdown",
   "metadata": {},
   "source": [
    "## Example 4: Putting it all together.\n",
    "\n",
    "Let's analyze **monthly dividends** (in USD ($) nominal billions) from the CRSP value-weighted portfolio return index."
   ]
  },
  {
   "cell_type": "code",
   "execution_count": null,
   "metadata": {
    "collapsed": true
   },
   "outputs": [],
   "source": [
    "df_crsp_div = pd.read_csv('crspvw_dividends_1927-2018.csv', parse_dates=['DATE'])\n",
    "df_crsp_div.set_index(['DATE'], inplace=True, drop=True)\n",
    "df_crsp_div = df_crsp_div[['crsp_div']].dropna()\n",
    "\n",
    "print(df_crsp_div.head(),'\\n')\n",
    "print(df_crsp_div.tail(),'\\n')\n",
    "\n",
    "print(df_crsp_div.info())"
   ]
  },
  {
   "cell_type": "markdown",
   "metadata": {},
   "source": [
    "### Example 4.1\n",
    "Let's plot the time series of the monthly dividend cash flows from 1927 to the present:"
   ]
  },
  {
   "cell_type": "code",
   "execution_count": null,
   "metadata": {
    "collapsed": true
   },
   "outputs": [],
   "source": [
    "fig17, axes17 = plt.subplots(figsize=(12,6))\n",
    "axes17.plot(df_crsp_div['crsp_div'])\n",
    "axes17.set_xlabel('Months', fontsize=18)\n",
    "axes17.set_ylabel('nominal dividends', fontsize=18)\n",
    "axes17.set_title('Monthly Dividends: CRSP Value-Weighted Portfolio', fontsize=18)\n",
    "axes17.axhline(y=0, linewidth=0.4)\n",
    "fig17.tight_layout()"
   ]
  },
  {
   "cell_type": "markdown",
   "metadata": {},
   "source": [
    "We can see **(1)** **EXPONENTIAL growth** and **(2)** **seasonalities**\n",
    "\n",
    "### Example 4.2\n",
    "Now, let's take natural logs:"
   ]
  },
  {
   "cell_type": "code",
   "execution_count": null,
   "metadata": {
    "collapsed": true
   },
   "outputs": [],
   "source": [
    "df_crsp_div['log_crsp_div'] = df_crsp_div['crsp_div'].apply(np.log)\n",
    "\n",
    "fig18, axes18 = plt.subplots(figsize=(12,6))\n",
    "axes18.plot(df_crsp_div['log_crsp_div'])\n",
    "axes18.set_xlabel('Months', fontsize=18)\n",
    "axes18.set_ylabel('log(nominal Dividends)', fontsize=18)\n",
    "axes18.set_title('Monthly Dividends: CRSP Value-Weighted Portfolio', fontsize=18)\n",
    "axes18.axhline(y=0, linewidth=0.4)\n",
    "fig18.tight_layout()"
   ]
  },
  {
   "cell_type": "markdown",
   "metadata": {},
   "source": [
    "We now see **(1)** **LINEAR growth** and **(2)** **seasonalities**\n",
    "\n",
    "### Example 4.3\n",
    "\n",
    "Let's compute the *ACF* and *PACF* for the log of CRSP dividends, $log(dividends_{1m, crsp})$, and the first difference of the log of CRSP dividends, $\\Delta log(dividends_{1m, crsp})$:"
   ]
  },
  {
   "cell_type": "code",
   "execution_count": null,
   "metadata": {
    "collapsed": true
   },
   "outputs": [],
   "source": [
    "df_crsp_div['Dlog_crsp_div'] = df_crsp_div['log_crsp_div'] -\\\n",
    "                               df_crsp_div['log_crsp_div'].shift(1)\n",
    "df_crsp_div = df_crsp_div.dropna() # drop missings\n",
    "\n",
    "print(df_crsp_div.head())\n",
    "print(df_crsp_div.tail())\n",
    "\n",
    "fig19, axes19 = plt.subplots(figsize=(12,6))\n",
    "axes19.plot(df_crsp_div['Dlog_crsp_div'])\n",
    "axes19.set_xlabel('Months', fontsize=18)\n",
    "axes19.set_ylabel('$\\Delta$ log(nominal dividends)', fontsize=18)\n",
    "axes19.set_title('Monthly Dividends: CRSP Value-Weighted Portfolio', fontsize=18)\n",
    "axes19.axhline(y=0, linewidth=0.4)\n",
    "fig19.tight_layout()"
   ]
  },
  {
   "cell_type": "code",
   "execution_count": null,
   "metadata": {
    "collapsed": true
   },
   "outputs": [],
   "source": [
    "### ACF/PCF for df_crsp_div['log_crsp_div_bill']\n",
    "nlags=15\n",
    "fig20, axes20 = plt.subplots(nrows=1, ncols=2, figsize=(16,6))\n",
    "my_plot_acf(df_crsp_div['log_crsp_div'], nlags, \n",
    "            ax=axes20[0], title_string=\"$log(dividends_{1m,crsp})$\", \n",
    "            title_fontsize=18, xlabel_string=\"Months\")\n",
    "my_plot_pacf(df_crsp_div['log_crsp_div'], nlags, \n",
    "            ax=axes20[1], title_string=\"$log(dividends_{1m,crsp})$\", \n",
    "             title_fontsize=18, xlabel_string=\"Months\")\n",
    "fig20.tight_layout()"
   ]
  },
  {
   "cell_type": "code",
   "execution_count": null,
   "metadata": {
    "collapsed": true
   },
   "outputs": [],
   "source": [
    "### ACF/PCF for df_crsp_div['Dlog_crsp_div_billions']\n",
    "nlags=15\n",
    "fig21, axes21 = plt.subplots(nrows=1, ncols=2, figsize=(16,6))\n",
    "my_plot_acf(df_crsp_div['Dlog_crsp_div'], nlags, \n",
    "            ax=axes21[0], title_string=\"$\\Delta log(dividends_{1m,crsp})$\", \n",
    "            title_fontsize=18, xlabel_string=\"Months\")\n",
    "my_plot_pacf(df_crsp_div['Dlog_crsp_div'], nlags, \n",
    "            ax=axes21[1], title_string=\"$\\Delta log(dividends_{1m,crsp})$\", \n",
    "             title_fontsize=18, xlabel_string=\"Months\")\n",
    "\n",
    "fig21.tight_layout()"
   ]
  },
  {
   "cell_type": "markdown",
   "metadata": {},
   "source": [
    "We can still see the seasonality!\n",
    "Let's remove it."
   ]
  },
  {
   "cell_type": "markdown",
   "metadata": {},
   "source": [
    "### Example 4.4\n",
    "\n",
    "Let's remove the seasonality in dividends by aggregating them over the last 12 months. "
   ]
  },
  {
   "cell_type": "code",
   "execution_count": null,
   "metadata": {
    "collapsed": true
   },
   "outputs": [],
   "source": [
    "df_crsp_div['crsp_div_12m'] = df_crsp_div['crsp_div'].rolling(12).sum()\n",
    "df_crsp_div = df_crsp_div.dropna() # drop missings\n",
    "#print(df_crsp_div.head())\n",
    "#print(df_crsp_div.tail())\n",
    "\n",
    "fig22, axes22 = plt.subplots(figsize=(12,6))\n",
    "axes22.plot(df_crsp_div['crsp_div_12m'])\n",
    "axes22.set_xlabel('Months', fontsize=18)\n",
    "axes22.set_ylabel('nominal dividends', fontsize=18)\n",
    "axes22.set_title('Trailing 12-Month Dividends: CRSP Value-Weighted Portfolio', fontsize=18)\n",
    "axes22.axhline(y=0, linewidth=0.4)\n",
    "fig22.tight_layout()"
   ]
  },
  {
   "cell_type": "markdown",
   "metadata": {},
   "source": [
    "Now, we only see **EXPONENTIAL growth**. Let's take logs and first differences of the logs:"
   ]
  },
  {
   "cell_type": "code",
   "execution_count": null,
   "metadata": {
    "collapsed": true
   },
   "outputs": [],
   "source": [
    "df_crsp_div['log_crsp_div_12m'] = df_crsp_div['crsp_div_12m'].apply(np.log)\n",
    "df_crsp_div = df_crsp_div.dropna() # drop missings\n",
    "#print(df_crsp_div.head())\n",
    "#print(df_crsp_div.tail())\n",
    "\n",
    "fig23, axes23 = plt.subplots(figsize=(12,6))\n",
    "axes23.plot(df_crsp_div['log_crsp_div_12m'])\n",
    "axes23.set_xlabel('Months', fontsize=18)\n",
    "axes23.set_ylabel('log(nominal dividends)', fontsize=18)\n",
    "axes23.set_title('Trailing 12-Month Dividends: CRSP Value-Weighted Portfolio', fontsize=18)\n",
    "axes23.axhline(y=0, linewidth=0.4)\n",
    "fig23.tight_layout()"
   ]
  },
  {
   "cell_type": "markdown",
   "metadata": {},
   "source": [
    "We get **LINEAR growth**. The seasonality is gone."
   ]
  },
  {
   "cell_type": "code",
   "execution_count": null,
   "metadata": {
    "collapsed": true
   },
   "outputs": [],
   "source": [
    "df_crsp_div['Dlog_crsp_div_12m'] = df_crsp_div['log_crsp_div_12m'] - \\\n",
    "                                   df_crsp_div['log_crsp_div_12m'].shift(1)\n",
    "df_crsp_div = df_crsp_div.dropna() # drop missings\n",
    "#print(df_crsp_div.head())\n",
    "#print(df_crsp_div.tail())\n",
    "\n",
    "fig24, axes24 = plt.subplots(figsize=(12,6))\n",
    "axes24.plot(df_crsp_div['Dlog_crsp_div_12m'])\n",
    "axes24.set_xlabel('Months', fontsize=18)\n",
    "axes24.set_ylabel('$\\Delta$ log(nominal dividends)', fontsize=18)\n",
    "axes24.set_title('Trailing 12-Month Dividends: CRSP Value-Weighted Portfolio', fontsize=18)\n",
    "axes24.axhline(y=0, linewidth=0.4)\n",
    "fig24.tight_layout()"
   ]
  },
  {
   "cell_type": "markdown",
   "metadata": {},
   "source": [
    "With natural log differences in our trailing 12-month dividend, it appears we have a stationary process, with no \"trend\" or \"seasonality.\""
   ]
  },
  {
   "cell_type": "markdown",
   "metadata": {},
   "source": [
    "### Example 4.5\n",
    "\n",
    "Once again, let's compute the *ACF* and *PACF* for the log of our 12-month CRSP dividends, $log(dividends_{12m, crsp})$, and the first difference of the log of CRSP dividends, $\\Delta log(dividends_{12m, crsp})$:"
   ]
  },
  {
   "cell_type": "code",
   "execution_count": null,
   "metadata": {
    "collapsed": true
   },
   "outputs": [],
   "source": [
    "### ACF/PCF for df_crsp_div['log_crsp_div_bill_12m']\n",
    "nlags=15\n",
    "fig25, axes25 = plt.subplots(nrows=1, ncols=2, figsize=(16,6))\n",
    "my_plot_acf(df_crsp_div['log_crsp_div_12m'], nlags, \n",
    "            ax=axes25[0], title_string=\"$log(dividends_{12m, crsp})$\", \n",
    "            title_fontsize=18, xlabel_string=\"Months\")\n",
    "my_plot_pacf(df_crsp_div['log_crsp_div_12m'], nlags, \n",
    "            ax=axes25[1], title_string=\"$log(dividends_{12m, crsp})$\", \n",
    "             title_fontsize=18, xlabel_string=\"Months\")\n",
    "fig25.tight_layout()"
   ]
  },
  {
   "cell_type": "code",
   "execution_count": null,
   "metadata": {
    "collapsed": true
   },
   "outputs": [],
   "source": [
    "### ACF/PCF for df_crsp_div['Dlog_crsp_div_bill']\n",
    "nlags=15\n",
    "fig26, axes26 = plt.subplots(nrows=1, ncols=2, figsize=(16,6))\n",
    "my_plot_acf(df_crsp_div['Dlog_crsp_div_12m'], nlags, \n",
    "            ax=axes26[0], title_string=\"$\\Delta log(dividends_{12m, crsp})$\", \n",
    "            title_fontsize=18, xlabel_string=\"Months\")\n",
    "my_plot_pacf(df_crsp_div['Dlog_crsp_div_12m'], nlags, \n",
    "            ax=axes26[1], title_string=\"$\\Delta  log(dividends_{12m, crsp})$\", \n",
    "             title_fontsize=18, xlabel_string=\"Months\")\n",
    "fig26.tight_layout()"
   ]
  },
  {
   "cell_type": "markdown",
   "metadata": {},
   "source": [
    "**Question:** What ARMA($p$,$q$) processes do both $log(dividends_{12m, crsp})$ and $\\Delta log(dividends_{12m, crsp})$ follow?"
   ]
  },
  {
   "cell_type": "markdown",
   "metadata": {},
   "source": [
    "### Exercise 7 (Optional): Parsimonious MA($1$) model\n",
    "\n",
    "**Question** Simulate the following MA($1$) model:\n",
    "$$\n",
    "y_t = \\varepsilon_t - \\varepsilon_{t-1} \n",
    "$$\n",
    "\n",
    "What is a particuarly parsimonious way in which we can transform this model?"
   ]
  },
  {
   "cell_type": "code",
   "execution_count": null,
   "metadata": {
    "collapsed": true
   },
   "outputs": [],
   "source": [
    "### Simulate\n",
    "np.random.seed(5)\n",
    "ysim = simulate_arma(ma=[-1], nsample=1000).squeeze()\n",
    "\n",
    "### Note that differencing doesn't help\n",
    "fig27, axes27 = plt.subplots(nrows=2, ncols=3, figsize=(15,10))\n",
    "for d in range(2):\n",
    "    if d==0:\n",
    "        Dysim = np.copy(ysim)\n",
    "        axes27[d,0].plot(Dysim)\n",
    "    else:\n",
    "        Dysim = Dysim[1:] - Dysim[:-1]\n",
    "        axes27[d,0].plot(Dysim[:200])\n",
    "    axes27[d,0].set_title('Diff = %d'% d, fontsize=18)\n",
    "    ### ACF/PACF\n",
    "    my_plot_acf(y=Dysim, nlags=10 , ax=axes27[d,1], title_fontsize=18)\n",
    "    my_plot_pacf(y=Dysim, nlags=10 , ax=axes27[d,2], title_fontsize=18)\n",
    "    \n",
    "fig27.tight_layout()"
   ]
  },
  {
   "cell_type": "markdown",
   "metadata": {},
   "source": [
    "By cumulating the $y_t$ process over time, we can get a much more parsimonious representation! "
   ]
  },
  {
   "cell_type": "code",
   "execution_count": null,
   "metadata": {
    "collapsed": true
   },
   "outputs": [],
   "source": [
    "### Let's instead consider the cumulative sum: {sum from 0 to t}y_t = e_t\n",
    "y_cumsum = np.cumsum(ysim) #https://docs.scipy.org/doc/numpy/reference/generated/numpy.cumsum.html\n",
    "\n",
    "fig28, axes28 = plt.subplots(nrows=1, ncols=3, figsize=(15,5))\n",
    "axes28[0].plot(y_cumsum)\n",
    "axes28[0].set_xlabel('Time', fontsize=16)\n",
    "axes28[0].set_title(\"Cumulative Sum of $\\{y_t\\}_{t\\geq0}$\", fontsize=18)\n",
    "\n",
    "### ACF/PACF\n",
    "my_plot_acf(y=y_cumsum, nlags=10 , ax=axes28[1], title_fontsize=18)\n",
    "my_plot_pacf(y=y_cumsum, nlags=10 , ax=axes28[2], title_fontsize=18)\n",
    "\n",
    "fig28.tight_layout()"
   ]
  },
  {
   "cell_type": "markdown",
   "metadata": {},
   "source": [
    "That is all for today! 😎"
   ]
  }
 ],
 "metadata": {
  "anaconda-cloud": {},
  "kernelspec": {
   "display_name": "Python 3",
   "language": "python",
   "name": "python3"
  },
  "language_info": {
   "codemirror_mode": {
    "name": "ipython",
    "version": 3
   },
   "file_extension": ".py",
   "mimetype": "text/x-python",
   "name": "python",
   "nbconvert_exporter": "python",
   "pygments_lexer": "ipython3",
   "version": "3.6.1"
  },
  "latex_envs": {
   "LaTeX_envs_menu_present": true,
   "bibliofile": "biblio.bib",
   "cite_by": "apalike",
   "current_citInitial": 1,
   "eqLabelWithNumbers": true,
   "eqNumInitial": 0,
   "labels_anchors": false,
   "latex_user_defs": false,
   "report_style_numbering": false,
   "user_envs_cfg": false
  },
  "nav_menu": {},
  "toc": {
   "colors": {
    "hover_highlight": "#DAA520",
    "running_highlight": "#FF0000",
    "selected_highlight": "#FFD700"
   },
   "moveMenuLeft": true,
   "nav_menu": {
    "height": "512px",
    "width": "252px"
   },
   "navigate_menu": true,
   "number_sections": true,
   "sideBar": true,
   "threshold": 6,
   "toc_cell": false,
   "toc_section_display": "block",
   "toc_window_display": false
  }
 },
 "nbformat": 4,
 "nbformat_minor": 2
}
