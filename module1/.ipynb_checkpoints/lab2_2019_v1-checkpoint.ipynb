{
 "cells": [
  {
   "cell_type": "markdown",
   "metadata": {},
   "source": [
    "# Lab 2: ARMA Processes and Stationarity"
   ]
  },
  {
   "cell_type": "markdown",
   "metadata": {},
   "source": [
    "For this lab session, we'll be focusing on ARMA($p$, $q$) models and the material covered in the first two weeks of class. We will also discuss solutions to **Problem Set 1**. \n",
    "\n",
    "First, we import all the necessary Python packages/libraries. "
   ]
  },
  {
   "cell_type": "code",
   "execution_count": 1,
   "metadata": {},
   "outputs": [],
   "source": [
    "### imports\n",
    "from __future__ import print_function, division\n",
    "\n",
    "import pandas as pd\n",
    "import numpy as np\n",
    "import scipy.optimize\n",
    "import scipy.signal\n",
    "import scipy.stats\n",
    "\n",
    "import statsmodels.api as sm\n",
    "from statsmodels import tsa\n",
    "from datetime import date, datetime, timedelta\n",
    "import copy\n",
    "\n",
    "### Check pandas version and import correct web reader\n",
    "from distutils.version import StrictVersion\n",
    "if StrictVersion(pd.__version__) >= StrictVersion('0.19'):\n",
    "    from pandas_datareader import data, wb\n",
    "else:\n",
    "    from pandas.io import data, wb\n",
    "\n",
    "from cycler import cycler\n",
    "import matplotlib.pyplot as plt\n",
    "import matplotlib.patches as patches\n",
    "import matplotlib as mpl\n",
    "import matplotlib.dates\n",
    "\n",
    "### Plotting and display options\n",
    "np.set_printoptions(precision=3)\n",
    "pd.set_option('precision', 2)\n",
    "pd.set_option('display.float_format', lambda x: '%.2f' % x)\n",
    "\n",
    "plt.style.use('ggplot')\n",
    "\n",
    "mpl.rcParams['lines.linewidth'] = 1.5\n",
    "mpl.rcParams['lines.color'] = 'blue'\n",
    "mpl.rcParams['axes.prop_cycle'] = cycler('color', ['#30a2da', '#e5ae38', '#fc4f30', '#6d904f', '#8b8b8b'])\n",
    "mpl.rcParams['legend.fancybox'] = True\n",
    "mpl.rcParams['legend.fontsize'] = 14\n",
    "mpl.rcParams['axes.facecolor'] = '#f0f0f0'\n",
    "mpl.rcParams['axes.labelsize'] = 15\n",
    "mpl.rcParams['axes.axisbelow'] = True\n",
    "mpl.rcParams['axes.linewidth'] = 1.2\n",
    "mpl.rcParams['axes.labelpad'] = 0.0\n",
    "mpl.rcParams['axes.xmargin'] = 0.05  # x margin.  See `axes.Axes.margins`\n",
    "mpl.rcParams['axes.ymargin'] = 0.05  # y margin See `axes.Axes.margins`\n",
    "mpl.rcParams['xtick.labelsize'] = 14\n",
    "mpl.rcParams['ytick.labelsize'] = 14\n",
    "mpl.rcParams['figure.subplot.left'] = 0.08\n",
    "mpl.rcParams['figure.subplot.right'] = 0.95\n",
    "mpl.rcParams['figure.subplot.bottom'] = 0.07\n",
    "\n",
    "### figure configuration\n",
    "fsize = (10,7.5) # figure size\n",
    "tsize = 18 # title font size\n",
    "lsize = 16 # legend font size\n",
    "csize = 14 # comment font size\n",
    "grid = True # grid\n",
    "\n",
    "### this allows plots to appear directly in the notebook\n",
    "%matplotlib inline"
   ]
  },
  {
   "cell_type": "markdown",
   "metadata": {},
   "source": [
    "## ARMA($p$,$q$) models\n",
    "\n",
    "**Recall:** a stochastic process process $\\{X_t\\}$ is an ARMA($p$,$q$) process (autoregressive moving average process of order $p$ and $q$, respectively) if we have\n",
    "$$\n",
    "X_t = \\varepsilon_{t} + \\sum_{i=1}^{p} \\phi_i X_{t-i} + \\sum_{i=0}^{q} \\theta_i \\varepsilon_{t-i}\n",
    "$$\n",
    "where $\\varepsilon_{t}$ is white noise, i.e. $E[\\varepsilon_{t}]=0$ and $Var[\\varepsilon_{t}]=\\sigma^2$\n",
    "\n",
    "If the coefficients $\\phi_i \\equiv 0$, then the ARMA($p$,$q$) process collapses to an MA($q$) process. Similarly, if $\\theta_i\\equiv 0$ then the ARMA($p$,$q$) process collapses to an AR($p$) process.\n",
    "\n",
    "A slightly more general formulation also used is given by the expression\n",
    "$$\n",
    "\\sum_{i=0}^{p} \\phi_i X_{t-i} = \\sum_{i=0}^{q} \\theta_i \\varepsilon_{t-i}\n",
    "$$\n",
    "Note that this formulation introduces $\\phi_0,\\theta_0$ terms which were implicitly defined to be 1 above. Further, the sign of the AR coefficients is flipped from the first formulation. This is frequently how statistical computing packages treat ARMA($p$,$q$) processes.\n",
    "\n",
    "\n",
    "Let's simulate some ARMA($p$,$q$) processes and examine their autocorrelation functions (i.e. ACFs)."
   ]
  },
  {
   "cell_type": "markdown",
   "metadata": {},
   "source": [
    "### Exercise 1: Simulate ARMA($p$,$q$) models\n",
    "\n",
    "**Problem:** Write a function that simulates an ARMA($p$,$q$) process given parameter inputs.\n",
    "\n",
    "**Note:** `statsmodels` has a function that generates ARMA($p$,$q$) processes, but for now, write your own function."
   ]
  },
  {
   "cell_type": "code",
   "execution_count": 2,
   "metadata": {},
   "outputs": [],
   "source": [
    "### For simulating ARMA processes, specifying the roots can be more informative than coefficients.\n",
    "def _roots2coef(roots):\n",
    "    \"\"\"Given roots, get the coefficients\"\"\"\n",
    "    ### sympy: package for symbolic computation\n",
    "    from sympy import symbols, expand\n",
    "    N_roots = len(roots)\n",
    "    L = symbols(\"L\")\n",
    "    expr = expand(1)\n",
    "    for r in roots:\n",
    "        expr*= (r - L)\n",
    "    expr = expand(expr)\n",
    "    coef_list = [expr.coeff(L,n) for n in range(N_roots+1)]\n",
    "    ### convert to numpy floats\n",
    "    coefs = np.array(coef_list ).astype(float)\n",
    "    ### normalize zero lag to 1\n",
    "    coefs /= coefs[0]\n",
    "    return coefs\n",
    "\n",
    "def arma_from_roots(ar_roots=[], ma_roots=[]):\n",
    "    \"\"\"Create an ARMA model class from roots\"\"\"\n",
    "    ar_coef = _roots2coef(ar_roots)\n",
    "    ma_coef = _roots2coef(ma_roots)\n",
    "    arma_process = sm.tsa.ArmaProcess(ar_coef, ma_coef )\n",
    "    ### note that now arma_process has many helpful methods:\n",
    "    ### arcoefs, macoefs, generate_sample, ...\n",
    "    return arma_process"
   ]
  },
  {
   "cell_type": "code",
   "execution_count": null,
   "metadata": {
    "collapsed": true
   },
   "outputs": [],
   "source": []
  },
  {
   "cell_type": "code",
   "execution_count": null,
   "metadata": {
    "collapsed": true
   },
   "outputs": [],
   "source": []
  },
  {
   "cell_type": "markdown",
   "metadata": {},
   "source": [
    "### Exercise 2: OLS Estimation\n",
    "\n",
    "**Problem:** Write a function that returns the parameter estimates and residuals from a simple OLS regression.\n",
    "\n",
    "**Note:** It's helpful to include an option that deals with adding a constant within the function, although this is up to you. If you do add a constant within your function, it can be useful to return the new matrix as well. \n",
    "\n",
    "Once again, `statsmodels` and other Python libraries have functions for running linear regressions. For now, write your own function."
   ]
  },
  {
   "cell_type": "code",
   "execution_count": 3,
   "metadata": {
    "collapsed": true
   },
   "outputs": [],
   "source": [
    "def _sm_calc_ols(y,x, addcon=True):\n",
    "    \"\"\"Wrapper for statsmodels OLS regression\"\"\"\n",
    "    X = sm.add_constant(x) if addcon else x\n",
    "    ols_results = sm.OLS(y,X).fit()\n",
    "    beta_hat = ols_results.params\n",
    "    resids = ols_results.resid\n",
    "    return beta_hat, resids, X"
   ]
  },
  {
   "cell_type": "code",
   "execution_count": null,
   "metadata": {
    "collapsed": true
   },
   "outputs": [],
   "source": []
  },
  {
   "cell_type": "code",
   "execution_count": null,
   "metadata": {
    "collapsed": true
   },
   "outputs": [],
   "source": []
  },
  {
   "cell_type": "markdown",
   "metadata": {},
   "source": [
    "### Exercise 3: Estimate the *ACF* and *PACF* by OLS\n",
    "\n",
    "Using your OLS function, write functions that both estimate and plot the *ACF* and *PACF* by OLS.\n",
    "\n",
    "**Note:** compare with the `statsmodels` methods:\n",
    "* `sm.tsa.stattools.acf`, `sm.graphics.tsa.plot_acf`\n",
    "* `sm.tsa.stattools.pacf`, `sm.graphics.tsa.plot_pacf`\n",
    "\n",
    "Both of these functions have multiple methods for estimation; we'll stick with OLS."
   ]
  },
  {
   "cell_type": "code",
   "execution_count": null,
   "metadata": {
    "collapsed": true
   },
   "outputs": [],
   "source": []
  },
  {
   "cell_type": "code",
   "execution_count": null,
   "metadata": {
    "collapsed": true
   },
   "outputs": [],
   "source": []
  },
  {
   "cell_type": "markdown",
   "metadata": {},
   "source": [
    "### Exercise 4: Determine the *order of integration* of an ARIMA($p$,$n$,$q$) series\n",
    "\n",
    "**Problem:** Determine the *order of integration* of the simulated data series in `arima_sims.csv`. Look at the *ACF* and *PACF* of the raw data, as well as various differences. Be sure to keep an eye out for when the data seems to be _over-differenced_"
   ]
  },
  {
   "cell_type": "code",
   "execution_count": null,
   "metadata": {},
   "outputs": [],
   "source": []
  },
  {
   "cell_type": "code",
   "execution_count": 4,
   "metadata": {},
   "outputs": [
    {
     "data": {
      "text/html": [
       "<div>\n",
       "<style scoped>\n",
       "    .dataframe tbody tr th:only-of-type {\n",
       "        vertical-align: middle;\n",
       "    }\n",
       "\n",
       "    .dataframe tbody tr th {\n",
       "        vertical-align: top;\n",
       "    }\n",
       "\n",
       "    .dataframe thead th {\n",
       "        text-align: right;\n",
       "    }\n",
       "</style>\n",
       "<table border=\"1\" class=\"dataframe\">\n",
       "  <thead>\n",
       "    <tr style=\"text-align: right;\">\n",
       "      <th></th>\n",
       "      <th>y1</th>\n",
       "      <th>y2</th>\n",
       "    </tr>\n",
       "  </thead>\n",
       "  <tbody>\n",
       "    <tr>\n",
       "      <th>0</th>\n",
       "      <td>145.69</td>\n",
       "      <td>17.53</td>\n",
       "    </tr>\n",
       "    <tr>\n",
       "      <th>1</th>\n",
       "      <td>148.59</td>\n",
       "      <td>16.42</td>\n",
       "    </tr>\n",
       "    <tr>\n",
       "      <th>2</th>\n",
       "      <td>151.83</td>\n",
       "      <td>14.08</td>\n",
       "    </tr>\n",
       "    <tr>\n",
       "      <th>3</th>\n",
       "      <td>155.14</td>\n",
       "      <td>14.93</td>\n",
       "    </tr>\n",
       "    <tr>\n",
       "      <th>4</th>\n",
       "      <td>158.78</td>\n",
       "      <td>16.01</td>\n",
       "    </tr>\n",
       "  </tbody>\n",
       "</table>\n",
       "</div>"
      ],
      "text/plain": [
       "      y1    y2\n",
       "0 145.69 17.53\n",
       "1 148.59 16.42\n",
       "2 151.83 14.08\n",
       "3 155.14 14.93\n",
       "4 158.78 16.01"
      ]
     },
     "execution_count": 4,
     "metadata": {},
     "output_type": "execute_result"
    }
   ],
   "source": [
    "### Read in the data\n",
    "df_arima = pd.read_csv('arima_sims.csv')\n",
    "df_arima.head()"
   ]
  },
  {
   "cell_type": "code",
   "execution_count": null,
   "metadata": {
    "collapsed": true
   },
   "outputs": [],
   "source": []
  },
  {
   "cell_type": "code",
   "execution_count": null,
   "metadata": {
    "collapsed": true
   },
   "outputs": [],
   "source": []
  },
  {
   "cell_type": "markdown",
   "metadata": {},
   "source": [
    "### Exercise 5: Parsimonious MA($1$) model\n",
    "\n",
    "Simulate the following MA($1$) model:\n",
    "$$\n",
    "y_t = \\varepsilon_t - \\varepsilon_{t-1} \n",
    "$$\n",
    "\n",
    "What is a particuarly parsimonious way in which we can transform this model?"
   ]
  },
  {
   "cell_type": "code",
   "execution_count": null,
   "metadata": {
    "collapsed": true
   },
   "outputs": [],
   "source": []
  },
  {
   "cell_type": "code",
   "execution_count": null,
   "metadata": {
    "collapsed": true
   },
   "outputs": [],
   "source": []
  },
  {
   "cell_type": "markdown",
   "metadata": {},
   "source": [
    "### Exercise 6: Diagnostic tests\n",
    "\n",
    "Given the residuals of an estimated ARMA($p$,$q$) model, write Python functions that calculate the following:\n",
    "* **Durbin-Watson** statistic\n",
    "* **Breusch-Pagan** statistic and p-values\n",
    "* **AIC** and **BIC**"
   ]
  },
  {
   "cell_type": "code",
   "execution_count": null,
   "metadata": {
    "collapsed": true
   },
   "outputs": [],
   "source": []
  },
  {
   "cell_type": "code",
   "execution_count": null,
   "metadata": {
    "collapsed": true
   },
   "outputs": [],
   "source": []
  },
  {
   "cell_type": "markdown",
   "metadata": {},
   "source": [
    "### Exercise 7: Determine the lag order of time series data\n",
    "\n",
    "Using your OLS, *ACF*/*PACF* functions, and diagnostics, try to figure out the ARMA($p$,$q$) orders using *ACF* and *PACF* plots of the various data in `arma_sims.csv`. \n",
    "\n",
    "*Steps*:\n",
    "* Plot *ACF* and *PACF* of the data\n",
    "* Estimate AR($p$) models using OLS for $p$=1,2,...,5\n",
    "* Plot *ACF* and *PACF* of the residuals\n",
    "* **DW** and **Breusch-Pagan** tests for serial correlation in the residuals\n",
    "* **AIC** and **BIC**"
   ]
  },
  {
   "cell_type": "code",
   "execution_count": null,
   "metadata": {},
   "outputs": [],
   "source": []
  },
  {
   "cell_type": "markdown",
   "metadata": {},
   "source": [
    "**Note:** If you get a warning like: ``FutureWarning: Using a non-tuple sequence for multidimensional indexing is deprecated...``, then this is an issue with the ``scipy`` library. \n",
    "\n",
    "Please update this library by running the following code in your Jupyter notebook:\n",
    "``!pip install --upgrade scipy``"
   ]
  },
  {
   "cell_type": "code",
   "execution_count": null,
   "metadata": {},
   "outputs": [],
   "source": []
  },
  {
   "cell_type": "code",
   "execution_count": null,
   "metadata": {},
   "outputs": [],
   "source": [
    "### Load in the data\n",
    "df_arma = pd.read_csv('arma_sims.csv')\n",
    "df_arma.head()"
   ]
  },
  {
   "cell_type": "code",
   "execution_count": null,
   "metadata": {
    "collapsed": true
   },
   "outputs": [],
   "source": []
  },
  {
   "cell_type": "code",
   "execution_count": null,
   "metadata": {
    "collapsed": true
   },
   "outputs": [],
   "source": []
  },
  {
   "cell_type": "markdown",
   "metadata": {},
   "source": [
    "### Exercise 8: AR($1$) simulation and OLS estimation\n",
    "\n",
    "Write a function that simulates and then estimates an AR($1$) process by OLS.\n",
    "\n",
    "Use the functions you wrote above, or make use of the following statsmodels functions:\n",
    "* `sm.tsa.arma_generate_sample` (more efficient than our own code; for repeated simulations this will be much faster)\n",
    "* `sm.OLS`"
   ]
  },
  {
   "cell_type": "code",
   "execution_count": null,
   "metadata": {
    "collapsed": true
   },
   "outputs": [],
   "source": []
  },
  {
   "cell_type": "code",
   "execution_count": null,
   "metadata": {
    "collapsed": true
   },
   "outputs": [],
   "source": []
  },
  {
   "cell_type": "markdown",
   "metadata": {},
   "source": [
    "### Exercise 9: AR($1$) OLS distribution - Part 1\n",
    "\n",
    "Plot the distribution of the OLS estimator over repeated simulations"
   ]
  },
  {
   "cell_type": "code",
   "execution_count": null,
   "metadata": {
    "collapsed": true
   },
   "outputs": [],
   "source": []
  },
  {
   "cell_type": "code",
   "execution_count": null,
   "metadata": {
    "collapsed": true
   },
   "outputs": [],
   "source": []
  },
  {
   "cell_type": "code",
   "execution_count": null,
   "metadata": {},
   "outputs": [],
   "source": []
  },
  {
   "cell_type": "markdown",
   "metadata": {},
   "source": [
    "### Exercise 10: AR($1$) OLS distribution - Part 2\n",
    "\n",
    "Plot the distribution of $\\sqrt{T}(\\hat{\\phi} - \\phi)$.\n",
    "\n",
    "Note: to compare with the theoretical normal PDF, see:\n",
    "* `mpl.mlab.normpdf`"
   ]
  },
  {
   "cell_type": "code",
   "execution_count": null,
   "metadata": {
    "collapsed": true
   },
   "outputs": [],
   "source": []
  },
  {
   "cell_type": "code",
   "execution_count": null,
   "metadata": {
    "collapsed": true
   },
   "outputs": [],
   "source": []
  },
  {
   "cell_type": "markdown",
   "metadata": {},
   "source": [
    "That is all for today! 😎"
   ]
  }
 ],
 "metadata": {
  "anaconda-cloud": {},
  "kernelspec": {
   "display_name": "Python 3",
   "language": "python",
   "name": "python3"
  },
  "language_info": {
   "codemirror_mode": {
    "name": "ipython",
    "version": 3
   },
   "file_extension": ".py",
   "mimetype": "text/x-python",
   "name": "python",
   "nbconvert_exporter": "python",
   "pygments_lexer": "ipython3",
   "version": "3.7.3"
  },
  "latex_envs": {
   "LaTeX_envs_menu_present": true,
   "bibliofile": "biblio.bib",
   "cite_by": "apalike",
   "current_citInitial": 1,
   "eqLabelWithNumbers": true,
   "eqNumInitial": 0,
   "labels_anchors": false,
   "latex_user_defs": false,
   "report_style_numbering": false,
   "user_envs_cfg": false
  },
  "nav_menu": {},
  "toc": {
   "colors": {
    "hover_highlight": "#DAA520",
    "running_highlight": "#FF0000",
    "selected_highlight": "#FFD700"
   },
   "moveMenuLeft": true,
   "nav_menu": {
    "height": "512px",
    "width": "252px"
   },
   "navigate_menu": true,
   "number_sections": true,
   "sideBar": true,
   "threshold": 6,
   "toc_cell": false,
   "toc_section_display": "block",
   "toc_window_display": false
  }
 },
 "nbformat": 4,
 "nbformat_minor": 2
}
